{
 "cells": [
  {
   "cell_type": "markdown",
   "source": [
    "# Imports"
   ],
   "metadata": {
    "collapsed": false
   }
  },
  {
   "cell_type": "code",
   "execution_count": 1,
   "outputs": [],
   "source": [
    "import numpy as np\n",
    "import pandas as pd\n",
    "import torchvision.transforms as transforms\n",
    "import matplotlib.pyplot as plt\n",
    "import torch\n",
    "import os\n",
    "from torch.utils.data import TensorDataset\n",
    "from sklearn.model_selection import train_test_split\n",
    "from torch.utils.data import DataLoader\n",
    "from trainer import MyTrainer\n",
    "from models import *"
   ],
   "metadata": {
    "collapsed": false
   }
  },
  {
   "cell_type": "markdown",
   "source": [
    "# Checks for CUDA"
   ],
   "metadata": {
    "collapsed": false
   }
  },
  {
   "cell_type": "code",
   "execution_count": 2,
   "outputs": [
    {
     "name": "stdout",
     "output_type": "stream",
     "text": [
      "Cuda available: True\n",
      "Cuda enabled: True\n",
      "Compute device: cuda\n"
     ]
    }
   ],
   "source": [
    "print(\"Cuda available: \" + str(torch.cuda.is_available()))\n",
    "print(\"Cuda enabled: \" + str(torch.backends.cudnn.enabled))\n",
    "\n",
    "if torch.cuda.is_available():\n",
    "    device = torch.device('cuda')\n",
    "\n",
    "print(\"Compute device: \" + str(device))"
   ],
   "metadata": {
    "collapsed": false
   }
  },
  {
   "cell_type": "markdown",
   "source": [
    "# Path management"
   ],
   "metadata": {
    "collapsed": false
   }
  },
  {
   "cell_type": "code",
   "execution_count": 3,
   "outputs": [],
   "source": [
    "base: str\n",
    "if os.getcwd() == \"/kaggle/working\":\n",
    "    base = \"/kaggle\"\n",
    "else:\n",
    "    base = os.getcwd()\n",
    "\n",
    "def get_full_dir(sub_dir: str) -> str:\n",
    "    return os.path.join(base, sub_dir)"
   ],
   "metadata": {
    "collapsed": false
   }
  },
  {
   "cell_type": "markdown",
   "source": [
    "# Data prep"
   ],
   "metadata": {
    "collapsed": false
   }
  },
  {
   "cell_type": "markdown",
   "source": [
    "#### Loads the data"
   ],
   "metadata": {
    "collapsed": false
   }
  },
  {
   "cell_type": "code",
   "execution_count": 4,
   "outputs": [],
   "source": [
    "train_path = get_full_dir(\"input/digit-recognizer/train.csv\")\n",
    "test_path = get_full_dir(\"input/digit-recognizer/test.csv\")"
   ],
   "metadata": {
    "collapsed": false
   }
  },
  {
   "cell_type": "code",
   "execution_count": 5,
   "outputs": [],
   "source": [
    "df_train = pd.read_csv(train_path)\n",
    "df_test = pd.read_csv(test_path)"
   ],
   "metadata": {
    "collapsed": false
   }
  },
  {
   "cell_type": "markdown",
   "source": [],
   "metadata": {
    "collapsed": false
   }
  },
  {
   "cell_type": "markdown",
   "source": [
    "#### Formats data"
   ],
   "metadata": {
    "collapsed": false
   }
  },
  {
   "cell_type": "code",
   "execution_count": 6,
   "outputs": [],
   "source": [
    "# Separates labels\n",
    "x = df_train.drop(labels=\"label\", axis=1)\n",
    "y = df_train[\"label\"]"
   ],
   "metadata": {
    "collapsed": false
   }
  },
  {
   "cell_type": "markdown",
   "source": [
    "#### Data overview"
   ],
   "metadata": {
    "collapsed": false
   }
  },
  {
   "cell_type": "code",
   "execution_count": 7,
   "outputs": [
    {
     "data": {
      "text/plain": "   label  pixel0  pixel1  pixel2  pixel3  pixel4  pixel5  pixel6  pixel7  \\\n0      1       0       0       0       0       0       0       0       0   \n1      0       0       0       0       0       0       0       0       0   \n2      1       0       0       0       0       0       0       0       0   \n3      4       0       0       0       0       0       0       0       0   \n4      0       0       0       0       0       0       0       0       0   \n\n   pixel8  ...  pixel774  pixel775  pixel776  pixel777  pixel778  pixel779  \\\n0       0  ...         0         0         0         0         0         0   \n1       0  ...         0         0         0         0         0         0   \n2       0  ...         0         0         0         0         0         0   \n3       0  ...         0         0         0         0         0         0   \n4       0  ...         0         0         0         0         0         0   \n\n   pixel780  pixel781  pixel782  pixel783  \n0         0         0         0         0  \n1         0         0         0         0  \n2         0         0         0         0  \n3         0         0         0         0  \n4         0         0         0         0  \n\n[5 rows x 785 columns]",
      "text/html": "<div>\n<style scoped>\n    .dataframe tbody tr th:only-of-type {\n        vertical-align: middle;\n    }\n\n    .dataframe tbody tr th {\n        vertical-align: top;\n    }\n\n    .dataframe thead th {\n        text-align: right;\n    }\n</style>\n<table border=\"1\" class=\"dataframe\">\n  <thead>\n    <tr style=\"text-align: right;\">\n      <th></th>\n      <th>label</th>\n      <th>pixel0</th>\n      <th>pixel1</th>\n      <th>pixel2</th>\n      <th>pixel3</th>\n      <th>pixel4</th>\n      <th>pixel5</th>\n      <th>pixel6</th>\n      <th>pixel7</th>\n      <th>pixel8</th>\n      <th>...</th>\n      <th>pixel774</th>\n      <th>pixel775</th>\n      <th>pixel776</th>\n      <th>pixel777</th>\n      <th>pixel778</th>\n      <th>pixel779</th>\n      <th>pixel780</th>\n      <th>pixel781</th>\n      <th>pixel782</th>\n      <th>pixel783</th>\n    </tr>\n  </thead>\n  <tbody>\n    <tr>\n      <th>0</th>\n      <td>1</td>\n      <td>0</td>\n      <td>0</td>\n      <td>0</td>\n      <td>0</td>\n      <td>0</td>\n      <td>0</td>\n      <td>0</td>\n      <td>0</td>\n      <td>0</td>\n      <td>...</td>\n      <td>0</td>\n      <td>0</td>\n      <td>0</td>\n      <td>0</td>\n      <td>0</td>\n      <td>0</td>\n      <td>0</td>\n      <td>0</td>\n      <td>0</td>\n      <td>0</td>\n    </tr>\n    <tr>\n      <th>1</th>\n      <td>0</td>\n      <td>0</td>\n      <td>0</td>\n      <td>0</td>\n      <td>0</td>\n      <td>0</td>\n      <td>0</td>\n      <td>0</td>\n      <td>0</td>\n      <td>0</td>\n      <td>...</td>\n      <td>0</td>\n      <td>0</td>\n      <td>0</td>\n      <td>0</td>\n      <td>0</td>\n      <td>0</td>\n      <td>0</td>\n      <td>0</td>\n      <td>0</td>\n      <td>0</td>\n    </tr>\n    <tr>\n      <th>2</th>\n      <td>1</td>\n      <td>0</td>\n      <td>0</td>\n      <td>0</td>\n      <td>0</td>\n      <td>0</td>\n      <td>0</td>\n      <td>0</td>\n      <td>0</td>\n      <td>0</td>\n      <td>...</td>\n      <td>0</td>\n      <td>0</td>\n      <td>0</td>\n      <td>0</td>\n      <td>0</td>\n      <td>0</td>\n      <td>0</td>\n      <td>0</td>\n      <td>0</td>\n      <td>0</td>\n    </tr>\n    <tr>\n      <th>3</th>\n      <td>4</td>\n      <td>0</td>\n      <td>0</td>\n      <td>0</td>\n      <td>0</td>\n      <td>0</td>\n      <td>0</td>\n      <td>0</td>\n      <td>0</td>\n      <td>0</td>\n      <td>...</td>\n      <td>0</td>\n      <td>0</td>\n      <td>0</td>\n      <td>0</td>\n      <td>0</td>\n      <td>0</td>\n      <td>0</td>\n      <td>0</td>\n      <td>0</td>\n      <td>0</td>\n    </tr>\n    <tr>\n      <th>4</th>\n      <td>0</td>\n      <td>0</td>\n      <td>0</td>\n      <td>0</td>\n      <td>0</td>\n      <td>0</td>\n      <td>0</td>\n      <td>0</td>\n      <td>0</td>\n      <td>0</td>\n      <td>...</td>\n      <td>0</td>\n      <td>0</td>\n      <td>0</td>\n      <td>0</td>\n      <td>0</td>\n      <td>0</td>\n      <td>0</td>\n      <td>0</td>\n      <td>0</td>\n      <td>0</td>\n    </tr>\n  </tbody>\n</table>\n<p>5 rows × 785 columns</p>\n</div>"
     },
     "execution_count": 7,
     "metadata": {},
     "output_type": "execute_result"
    }
   ],
   "source": [
    "df_train.head()"
   ],
   "metadata": {
    "collapsed": false
   }
  },
  {
   "cell_type": "code",
   "execution_count": 8,
   "outputs": [
    {
     "data": {
      "text/plain": "              label   pixel0   pixel1   pixel2   pixel3   pixel4   pixel5  \\\ncount  42000.000000  42000.0  42000.0  42000.0  42000.0  42000.0  42000.0   \nmean       4.456643      0.0      0.0      0.0      0.0      0.0      0.0   \nstd        2.887730      0.0      0.0      0.0      0.0      0.0      0.0   \nmin        0.000000      0.0      0.0      0.0      0.0      0.0      0.0   \n25%        2.000000      0.0      0.0      0.0      0.0      0.0      0.0   \n50%        4.000000      0.0      0.0      0.0      0.0      0.0      0.0   \n75%        7.000000      0.0      0.0      0.0      0.0      0.0      0.0   \nmax        9.000000      0.0      0.0      0.0      0.0      0.0      0.0   \n\n        pixel6   pixel7   pixel8  ...      pixel774      pixel775  \\\ncount  42000.0  42000.0  42000.0  ...  42000.000000  42000.000000   \nmean       0.0      0.0      0.0  ...      0.219286      0.117095   \nstd        0.0      0.0      0.0  ...      6.312890      4.633819   \nmin        0.0      0.0      0.0  ...      0.000000      0.000000   \n25%        0.0      0.0      0.0  ...      0.000000      0.000000   \n50%        0.0      0.0      0.0  ...      0.000000      0.000000   \n75%        0.0      0.0      0.0  ...      0.000000      0.000000   \nmax        0.0      0.0      0.0  ...    254.000000    254.000000   \n\n           pixel776     pixel777      pixel778      pixel779  pixel780  \\\ncount  42000.000000  42000.00000  42000.000000  42000.000000   42000.0   \nmean       0.059024      0.02019      0.017238      0.002857       0.0   \nstd        3.274488      1.75987      1.894498      0.414264       0.0   \nmin        0.000000      0.00000      0.000000      0.000000       0.0   \n25%        0.000000      0.00000      0.000000      0.000000       0.0   \n50%        0.000000      0.00000      0.000000      0.000000       0.0   \n75%        0.000000      0.00000      0.000000      0.000000       0.0   \nmax      253.000000    253.00000    254.000000     62.000000       0.0   \n\n       pixel781  pixel782  pixel783  \ncount   42000.0   42000.0   42000.0  \nmean        0.0       0.0       0.0  \nstd         0.0       0.0       0.0  \nmin         0.0       0.0       0.0  \n25%         0.0       0.0       0.0  \n50%         0.0       0.0       0.0  \n75%         0.0       0.0       0.0  \nmax         0.0       0.0       0.0  \n\n[8 rows x 785 columns]",
      "text/html": "<div>\n<style scoped>\n    .dataframe tbody tr th:only-of-type {\n        vertical-align: middle;\n    }\n\n    .dataframe tbody tr th {\n        vertical-align: top;\n    }\n\n    .dataframe thead th {\n        text-align: right;\n    }\n</style>\n<table border=\"1\" class=\"dataframe\">\n  <thead>\n    <tr style=\"text-align: right;\">\n      <th></th>\n      <th>label</th>\n      <th>pixel0</th>\n      <th>pixel1</th>\n      <th>pixel2</th>\n      <th>pixel3</th>\n      <th>pixel4</th>\n      <th>pixel5</th>\n      <th>pixel6</th>\n      <th>pixel7</th>\n      <th>pixel8</th>\n      <th>...</th>\n      <th>pixel774</th>\n      <th>pixel775</th>\n      <th>pixel776</th>\n      <th>pixel777</th>\n      <th>pixel778</th>\n      <th>pixel779</th>\n      <th>pixel780</th>\n      <th>pixel781</th>\n      <th>pixel782</th>\n      <th>pixel783</th>\n    </tr>\n  </thead>\n  <tbody>\n    <tr>\n      <th>count</th>\n      <td>42000.000000</td>\n      <td>42000.0</td>\n      <td>42000.0</td>\n      <td>42000.0</td>\n      <td>42000.0</td>\n      <td>42000.0</td>\n      <td>42000.0</td>\n      <td>42000.0</td>\n      <td>42000.0</td>\n      <td>42000.0</td>\n      <td>...</td>\n      <td>42000.000000</td>\n      <td>42000.000000</td>\n      <td>42000.000000</td>\n      <td>42000.00000</td>\n      <td>42000.000000</td>\n      <td>42000.000000</td>\n      <td>42000.0</td>\n      <td>42000.0</td>\n      <td>42000.0</td>\n      <td>42000.0</td>\n    </tr>\n    <tr>\n      <th>mean</th>\n      <td>4.456643</td>\n      <td>0.0</td>\n      <td>0.0</td>\n      <td>0.0</td>\n      <td>0.0</td>\n      <td>0.0</td>\n      <td>0.0</td>\n      <td>0.0</td>\n      <td>0.0</td>\n      <td>0.0</td>\n      <td>...</td>\n      <td>0.219286</td>\n      <td>0.117095</td>\n      <td>0.059024</td>\n      <td>0.02019</td>\n      <td>0.017238</td>\n      <td>0.002857</td>\n      <td>0.0</td>\n      <td>0.0</td>\n      <td>0.0</td>\n      <td>0.0</td>\n    </tr>\n    <tr>\n      <th>std</th>\n      <td>2.887730</td>\n      <td>0.0</td>\n      <td>0.0</td>\n      <td>0.0</td>\n      <td>0.0</td>\n      <td>0.0</td>\n      <td>0.0</td>\n      <td>0.0</td>\n      <td>0.0</td>\n      <td>0.0</td>\n      <td>...</td>\n      <td>6.312890</td>\n      <td>4.633819</td>\n      <td>3.274488</td>\n      <td>1.75987</td>\n      <td>1.894498</td>\n      <td>0.414264</td>\n      <td>0.0</td>\n      <td>0.0</td>\n      <td>0.0</td>\n      <td>0.0</td>\n    </tr>\n    <tr>\n      <th>min</th>\n      <td>0.000000</td>\n      <td>0.0</td>\n      <td>0.0</td>\n      <td>0.0</td>\n      <td>0.0</td>\n      <td>0.0</td>\n      <td>0.0</td>\n      <td>0.0</td>\n      <td>0.0</td>\n      <td>0.0</td>\n      <td>...</td>\n      <td>0.000000</td>\n      <td>0.000000</td>\n      <td>0.000000</td>\n      <td>0.00000</td>\n      <td>0.000000</td>\n      <td>0.000000</td>\n      <td>0.0</td>\n      <td>0.0</td>\n      <td>0.0</td>\n      <td>0.0</td>\n    </tr>\n    <tr>\n      <th>25%</th>\n      <td>2.000000</td>\n      <td>0.0</td>\n      <td>0.0</td>\n      <td>0.0</td>\n      <td>0.0</td>\n      <td>0.0</td>\n      <td>0.0</td>\n      <td>0.0</td>\n      <td>0.0</td>\n      <td>0.0</td>\n      <td>...</td>\n      <td>0.000000</td>\n      <td>0.000000</td>\n      <td>0.000000</td>\n      <td>0.00000</td>\n      <td>0.000000</td>\n      <td>0.000000</td>\n      <td>0.0</td>\n      <td>0.0</td>\n      <td>0.0</td>\n      <td>0.0</td>\n    </tr>\n    <tr>\n      <th>50%</th>\n      <td>4.000000</td>\n      <td>0.0</td>\n      <td>0.0</td>\n      <td>0.0</td>\n      <td>0.0</td>\n      <td>0.0</td>\n      <td>0.0</td>\n      <td>0.0</td>\n      <td>0.0</td>\n      <td>0.0</td>\n      <td>...</td>\n      <td>0.000000</td>\n      <td>0.000000</td>\n      <td>0.000000</td>\n      <td>0.00000</td>\n      <td>0.000000</td>\n      <td>0.000000</td>\n      <td>0.0</td>\n      <td>0.0</td>\n      <td>0.0</td>\n      <td>0.0</td>\n    </tr>\n    <tr>\n      <th>75%</th>\n      <td>7.000000</td>\n      <td>0.0</td>\n      <td>0.0</td>\n      <td>0.0</td>\n      <td>0.0</td>\n      <td>0.0</td>\n      <td>0.0</td>\n      <td>0.0</td>\n      <td>0.0</td>\n      <td>0.0</td>\n      <td>...</td>\n      <td>0.000000</td>\n      <td>0.000000</td>\n      <td>0.000000</td>\n      <td>0.00000</td>\n      <td>0.000000</td>\n      <td>0.000000</td>\n      <td>0.0</td>\n      <td>0.0</td>\n      <td>0.0</td>\n      <td>0.0</td>\n    </tr>\n    <tr>\n      <th>max</th>\n      <td>9.000000</td>\n      <td>0.0</td>\n      <td>0.0</td>\n      <td>0.0</td>\n      <td>0.0</td>\n      <td>0.0</td>\n      <td>0.0</td>\n      <td>0.0</td>\n      <td>0.0</td>\n      <td>0.0</td>\n      <td>...</td>\n      <td>254.000000</td>\n      <td>254.000000</td>\n      <td>253.000000</td>\n      <td>253.00000</td>\n      <td>254.000000</td>\n      <td>62.000000</td>\n      <td>0.0</td>\n      <td>0.0</td>\n      <td>0.0</td>\n      <td>0.0</td>\n    </tr>\n  </tbody>\n</table>\n<p>8 rows × 785 columns</p>\n</div>"
     },
     "execution_count": 8,
     "metadata": {},
     "output_type": "execute_result"
    }
   ],
   "source": [
    "df_train.describe()"
   ],
   "metadata": {
    "collapsed": false
   }
  },
  {
   "cell_type": "markdown",
   "source": [
    "#### Reshapes"
   ],
   "metadata": {
    "collapsed": false
   }
  },
  {
   "cell_type": "code",
   "execution_count": 9,
   "outputs": [],
   "source": [
    "# Convert to numpy arrays\n",
    "x = x.to_numpy()\n",
    "y = y.to_numpy()\n",
    "test_npa = df_test.to_numpy()"
   ],
   "metadata": {
    "collapsed": false
   }
  },
  {
   "cell_type": "code",
   "execution_count": 10,
   "outputs": [],
   "source": [
    "# Updates shape to match image size 28x28x1 (only one channel per image)\n",
    "x = x.reshape(-1, 1, 28, 28)\n",
    "test_npa = test_npa.reshape(-1, 1, 28, 28)"
   ],
   "metadata": {
    "collapsed": false
   }
  },
  {
   "cell_type": "code",
   "execution_count": 11,
   "outputs": [],
   "source": [
    "# Divides the train set to train and validation\n",
    "X_train, X_dev, y_train, y_dev = train_test_split(x, y, test_size=0.2, random_state=8888)"
   ],
   "metadata": {
    "collapsed": false
   }
  },
  {
   "cell_type": "code",
   "execution_count": 12,
   "outputs": [],
   "source": [
    "# Defines augmentation transform\n",
    "transform = transforms.Compose([\n",
    "    transforms.RandomAffine(degrees=10, translate=(0.1, 0.1), scale=(0.9, 1.1))\n",
    "])"
   ],
   "metadata": {
    "collapsed": false
   }
  },
  {
   "cell_type": "markdown",
   "source": [
    "# Performs data augmentation"
   ],
   "metadata": {
    "collapsed": false
   }
  },
  {
   "cell_type": "code",
   "execution_count": 13,
   "outputs": [],
   "source": [
    "# Performs data augmentation\n",
    "augmented_x_train = []\n",
    "augmented_y_train = []\n",
    "num_augmentations = 30\n",
    "\n",
    "for x_a, y_a in zip(torch.tensor(X_train), y_train):\n",
    "    for i in range(num_augmentations):\n",
    "        augmented_x_train.append(transform(x_a))\n",
    "        augmented_y_train.append(y_a)\n",
    "    augmented_x_train.append(x_a)\n",
    "    augmented_y_train.append(y_a)\n",
    "\n",
    "#x = np.array(augmented_x)\n",
    "# Convert each tensor to a numpy array\n",
    "augmented_data_np = [x_t.numpy() for x_t in augmented_x_train]\n",
    "# Concatenate all numpy arrays along the first axis\n",
    "X_train = np.concatenate(augmented_data_np, axis=0)\n",
    "X_train = X_train.reshape(-1, 1, 28, 28)\n",
    "\n",
    "y_train = np.array(augmented_y_train)"
   ],
   "metadata": {
    "collapsed": false
   }
  },
  {
   "cell_type": "code",
   "execution_count": 14,
   "outputs": [],
   "source": [
    "augmented_x_dev = []\n",
    "augmented_y_dev = []\n",
    "num_augmentations = 30\n",
    "\n",
    "for x_a, y_a in zip(torch.tensor(X_dev), y_dev):\n",
    "    for i in range(num_augmentations):\n",
    "        augmented_x_dev.append(transform(x_a))\n",
    "        augmented_y_dev.append(y_a)\n",
    "    augmented_x_dev.append(x_a)\n",
    "    augmented_y_dev.append(y_a)\n",
    "\n",
    "#x = np.array(augmented_x)\n",
    "# Convert each tensor to a numpy array\n",
    "augmented_data_np = [x_t.numpy() for x_t in augmented_x_dev]\n",
    "# Concatenate all numpy arrays along the first axis\n",
    "X_dev = np.concatenate(augmented_data_np, axis=0)\n",
    "X_dev = X_dev.reshape(-1, 1, 28, 28)\n",
    "\n",
    "y_dev = np.array(augmented_y_dev)"
   ],
   "metadata": {
    "collapsed": false
   }
  },
  {
   "cell_type": "code",
   "execution_count": 15,
   "outputs": [
    {
     "name": "stdout",
     "output_type": "stream",
     "text": [
      "Train size: 67200 Dev size: 16800\n"
     ]
    }
   ],
   "source": [
    "print(\"Train size: \" + str(len(X_train)) + \" Dev size: \" + str(len(X_dev)))"
   ],
   "metadata": {
    "collapsed": false
   }
  },
  {
   "cell_type": "code",
   "execution_count": 16,
   "outputs": [
    {
     "data": {
      "text/plain": "<Figure size 640x480 with 9 Axes>",
      "image/png": "[encoded data removed]"
     },
     "metadata": {},
     "output_type": "display_data"
    }
   ],
   "source": [
    "#train samples\n",
    "for i in range(0, 9):\n",
    "    plt.subplot(330 + (i+1))\n",
    "    plt.imshow(X_train[i].squeeze(), cmap=plt.get_cmap('gray'))\n",
    "    plt.axis('off')\n",
    "    plt.title(y_train[i])"
   ],
   "metadata": {
    "collapsed": false
   }
  },
  {
   "cell_type": "markdown",
   "source": [
    "#### Converts data to tensors and normalize them"
   ],
   "metadata": {
    "collapsed": false
   }
  },
  {
   "cell_type": "code",
   "execution_count": 17,
   "outputs": [],
   "source": [
    "#train\n",
    "X_train_tensor = torch.tensor(X_train)/255.0\n",
    "y_train_tensor = torch.tensor(y_train)\n",
    "train_tensor = TensorDataset(X_train_tensor, y_train_tensor)\n",
    "\n",
    "#val\n",
    "X_dev_tensor = torch.tensor(X_dev)/255.0\n",
    "y_dev_tensor = torch.tensor(y_dev)\n",
    "dev_tensor = TensorDataset(X_dev_tensor, y_dev_tensor)\n",
    "\n",
    "#test\n",
    "test_image_tensor = torch.tensor(test_npa)/255.0"
   ],
   "metadata": {
    "collapsed": false
   }
  },
  {
   "cell_type": "markdown",
   "source": [
    "#### Defines data loaders"
   ],
   "metadata": {
    "collapsed": false
   }
  },
  {
   "cell_type": "code",
   "execution_count": 18,
   "outputs": [],
   "source": [
    "train_loader = DataLoader(train_tensor, batch_size=16, num_workers=2, shuffle=True)\n",
    "dev_loader = DataLoader(dev_tensor, batch_size=16, num_workers=2, shuffle=True)\n",
    "test_loader = DataLoader(test_image_tensor, batch_size=16, num_workers=2, shuffle=False)"
   ],
   "metadata": {
    "collapsed": false
   }
  },
  {
   "cell_type": "markdown",
   "source": [
    "# Train the model"
   ],
   "metadata": {
    "collapsed": false
   }
  },
  {
   "cell_type": "markdown",
   "source": [
    "#### Creates model, loss, scheduler and optimizer"
   ],
   "metadata": {
    "collapsed": false
   }
  },
  {
   "cell_type": "code",
   "execution_count": 19,
   "outputs": [],
   "source": [
    "ensemble_size = 15"
   ],
   "metadata": {
    "collapsed": false
   }
  },
  {
   "cell_type": "code",
   "execution_count": 20,
   "outputs": [
    {
     "name": "stdout",
     "output_type": "stream",
     "text": [
      "Train Epoch: 0 Average Loss: 0.706586\n",
      "\n",
      "The loss after 1 epochs was 0.1896 \n",
      "\n",
      "Train Epoch: 1 Average Loss: 0.148707\n",
      "\n",
      "The loss after 2 epochs was 0.1301 \n",
      "\n",
      "Train Epoch: 2 Average Loss: 0.107530\n",
      "\n",
      "The loss after 3 epochs was 0.1125 \n",
      "\n",
      "Train Epoch: 3 Average Loss: 0.091244\n",
      "\n",
      "The loss after 4 epochs was 0.101 \n",
      "\n",
      "Train Epoch: 4 Average Loss: 0.082710\n",
      "\n",
      "The loss after 5 epochs was 0.0974 \n",
      "\n",
      "Train Epoch: 0 Average Loss: 0.782020\n",
      "\n",
      "The loss after 1 epochs was 0.2382 \n",
      "\n",
      "Train Epoch: 1 Average Loss: 0.156105\n",
      "\n",
      "The loss after 2 epochs was 0.1374 \n",
      "\n",
      "Train Epoch: 2 Average Loss: 0.111054\n",
      "\n",
      "The loss after 3 epochs was 0.1129 \n",
      "\n",
      "Train Epoch: 3 Average Loss: 0.092776\n",
      "\n",
      "The loss after 4 epochs was 0.099 \n",
      "\n",
      "Train Epoch: 4 Average Loss: 0.083764\n",
      "\n",
      "The loss after 5 epochs was 0.0957 \n",
      "\n",
      "Train Epoch: 0 Average Loss: 0.690361\n",
      "\n",
      "The loss after 1 epochs was 0.1998 \n",
      "\n",
      "Train Epoch: 1 Average Loss: 0.134686\n",
      "\n",
      "The loss after 2 epochs was 0.1183 \n",
      "\n",
      "Train Epoch: 2 Average Loss: 0.094957\n",
      "\n",
      "The loss after 3 epochs was 0.0994 \n",
      "\n",
      "Train Epoch: 3 Average Loss: 0.078805\n",
      "\n",
      "The loss after 4 epochs was 0.0892 \n",
      "\n",
      "Train Epoch: 4 Average Loss: 0.070728\n",
      "\n",
      "The loss after 5 epochs was 0.088 \n",
      "\n",
      "Train Epoch: 0 Average Loss: 0.897175\n",
      "\n",
      "The loss after 1 epochs was 0.233 \n",
      "\n",
      "Train Epoch: 1 Average Loss: 0.163234\n",
      "\n",
      "The loss after 2 epochs was 0.1467 \n",
      "\n",
      "Train Epoch: 2 Average Loss: 0.117116\n",
      "\n",
      "The loss after 3 epochs was 0.1183 \n",
      "\n",
      "Train Epoch: 3 Average Loss: 0.097922\n",
      "\n",
      "The loss after 4 epochs was 0.1019 \n",
      "\n",
      "Train Epoch: 4 Average Loss: 0.088869\n",
      "\n",
      "The loss after 5 epochs was 0.1002 \n",
      "\n",
      "Train Epoch: 0 Average Loss: 0.897966\n",
      "\n",
      "The loss after 1 epochs was 0.2012 \n",
      "\n",
      "Train Epoch: 1 Average Loss: 0.146603\n",
      "\n",
      "The loss after 2 epochs was 0.1281 \n",
      "\n",
      "Train Epoch: 2 Average Loss: 0.106076\n",
      "\n",
      "The loss after 3 epochs was 0.1033 \n",
      "\n",
      "Train Epoch: 3 Average Loss: 0.088944\n",
      "\n",
      "The loss after 4 epochs was 0.0929 \n",
      "\n",
      "Train Epoch: 4 Average Loss: 0.081132\n",
      "\n",
      "The loss after 5 epochs was 0.0884 \n",
      "\n",
      "Train Epoch: 0 Average Loss: 0.749245\n",
      "\n",
      "The loss after 1 epochs was 0.1893 \n",
      "\n",
      "Train Epoch: 1 Average Loss: 0.152106\n",
      "\n",
      "The loss after 2 epochs was 0.1374 \n",
      "\n",
      "Train Epoch: 2 Average Loss: 0.108681\n",
      "\n",
      "The loss after 3 epochs was 0.1279 \n",
      "\n",
      "Train Epoch: 3 Average Loss: 0.091219\n",
      "\n",
      "The loss after 4 epochs was 0.1011 \n",
      "\n",
      "Train Epoch: 4 Average Loss: 0.082590\n",
      "\n",
      "The loss after 5 epochs was 0.1001 \n",
      "\n",
      "Train Epoch: 0 Average Loss: 0.738366\n",
      "\n",
      "The loss after 1 epochs was 0.2164 \n",
      "\n",
      "Train Epoch: 1 Average Loss: 0.149856\n",
      "\n",
      "The loss after 2 epochs was 0.1255 \n",
      "\n",
      "Train Epoch: 2 Average Loss: 0.109394\n",
      "\n",
      "The loss after 3 epochs was 0.106 \n",
      "\n",
      "Train Epoch: 3 Average Loss: 0.091864\n",
      "\n",
      "The loss after 4 epochs was 0.0978 \n",
      "\n",
      "Train Epoch: 4 Average Loss: 0.083986\n",
      "\n",
      "The loss after 5 epochs was 0.0933 \n",
      "\n",
      "Train Epoch: 0 Average Loss: 0.683010\n",
      "\n",
      "The loss after 1 epochs was 0.2271 \n",
      "\n",
      "Train Epoch: 1 Average Loss: 0.153584\n",
      "\n",
      "The loss after 2 epochs was 0.1284 \n",
      "\n",
      "Train Epoch: 2 Average Loss: 0.109917\n",
      "\n",
      "The loss after 3 epochs was 0.1042 \n",
      "\n",
      "Train Epoch: 3 Average Loss: 0.092017\n",
      "\n",
      "The loss after 4 epochs was 0.1014 \n",
      "\n",
      "Train Epoch: 4 Average Loss: 0.083387\n",
      "\n",
      "The loss after 5 epochs was 0.0908 \n",
      "\n",
      "Train Epoch: 0 Average Loss: 0.689445\n",
      "\n",
      "The loss after 1 epochs was 0.2134 \n",
      "\n",
      "Train Epoch: 1 Average Loss: 0.138443\n",
      "\n",
      "The loss after 2 epochs was 0.1236 \n",
      "\n",
      "Train Epoch: 2 Average Loss: 0.099904\n",
      "\n",
      "The loss after 3 epochs was 0.0974 \n",
      "\n",
      "Train Epoch: 3 Average Loss: 0.083576\n",
      "\n",
      "The loss after 4 epochs was 0.0946 \n",
      "\n",
      "Train Epoch: 4 Average Loss: 0.075835\n",
      "\n",
      "The loss after 5 epochs was 0.0884 \n",
      "\n",
      "Train Epoch: 0 Average Loss: 0.730157\n",
      "\n",
      "The loss after 1 epochs was 0.195 \n",
      "\n",
      "Train Epoch: 1 Average Loss: 0.152580\n",
      "\n",
      "The loss after 2 epochs was 0.1489 \n",
      "\n",
      "Train Epoch: 2 Average Loss: 0.108456\n",
      "\n",
      "The loss after 3 epochs was 0.1091 \n",
      "\n",
      "Train Epoch: 3 Average Loss: 0.090983\n",
      "\n",
      "The loss after 4 epochs was 0.1025 \n",
      "\n",
      "Train Epoch: 4 Average Loss: 0.082070\n",
      "\n",
      "The loss after 5 epochs was 0.1039\n",
      "The loss had increased since the last checkpoint, aborting training! \n",
      "\n",
      "Train Epoch: 0 Average Loss: 0.699438\n",
      "\n",
      "The loss after 1 epochs was 0.1815 \n",
      "\n",
      "Train Epoch: 1 Average Loss: 0.136444\n",
      "\n",
      "The loss after 2 epochs was 0.1248 \n",
      "\n",
      "Train Epoch: 2 Average Loss: 0.098242\n",
      "\n",
      "The loss after 3 epochs was 0.0995 \n",
      "\n",
      "Train Epoch: 3 Average Loss: 0.082554\n",
      "\n",
      "The loss after 4 epochs was 0.1017\n",
      "The loss had increased since the last checkpoint, aborting training! \n",
      "\n",
      "Train Epoch: 0 Average Loss: 0.668254\n",
      "\n",
      "The loss after 1 epochs was 0.1838 \n",
      "\n",
      "Train Epoch: 1 Average Loss: 0.148740\n",
      "\n",
      "The loss after 2 epochs was 0.1541 \n",
      "\n",
      "Train Epoch: 2 Average Loss: 0.106896\n",
      "\n",
      "The loss after 3 epochs was 0.1179 \n",
      "\n",
      "Train Epoch: 3 Average Loss: 0.088687\n",
      "\n",
      "The loss after 4 epochs was 0.1078 \n",
      "\n",
      "Train Epoch: 4 Average Loss: 0.080274\n",
      "\n",
      "The loss after 5 epochs was 0.0976 \n",
      "\n",
      "Train Epoch: 0 Average Loss: 0.811398\n",
      "\n",
      "The loss after 1 epochs was 0.2248 \n",
      "\n",
      "Train Epoch: 1 Average Loss: 0.151099\n",
      "\n",
      "The loss after 2 epochs was 0.1514 \n",
      "\n",
      "Train Epoch: 2 Average Loss: 0.107181\n",
      "\n",
      "The loss after 3 epochs was 0.1145 \n",
      "\n",
      "Train Epoch: 3 Average Loss: 0.088999\n",
      "\n",
      "The loss after 4 epochs was 0.0984 \n",
      "\n",
      "Train Epoch: 4 Average Loss: 0.080746\n",
      "\n",
      "The loss after 5 epochs was 0.0963 \n",
      "\n",
      "Train Epoch: 0 Average Loss: 0.734234\n",
      "\n",
      "The loss after 1 epochs was 0.2157 \n",
      "\n",
      "Train Epoch: 1 Average Loss: 0.156311\n",
      "\n",
      "The loss after 2 epochs was 0.1402 \n",
      "\n",
      "Train Epoch: 2 Average Loss: 0.111927\n",
      "\n",
      "The loss after 3 epochs was 0.1087 \n",
      "\n",
      "Train Epoch: 3 Average Loss: 0.094074\n",
      "\n",
      "The loss after 4 epochs was 0.1016 \n",
      "\n",
      "Train Epoch: 4 Average Loss: 0.085916\n",
      "\n",
      "The loss after 5 epochs was 0.0961 \n",
      "\n",
      "Train Epoch: 0 Average Loss: 0.758493\n",
      "\n",
      "The loss after 1 epochs was 0.1912 \n",
      "\n",
      "Train Epoch: 1 Average Loss: 0.142267\n",
      "\n",
      "The loss after 2 epochs was 0.123 \n",
      "\n",
      "Train Epoch: 2 Average Loss: 0.102457\n",
      "\n",
      "The loss after 3 epochs was 0.1091 \n",
      "\n",
      "Train Epoch: 3 Average Loss: 0.085266\n",
      "\n",
      "The loss after 4 epochs was 0.096 \n",
      "\n",
      "Train Epoch: 4 Average Loss: 0.078007\n",
      "\n",
      "The loss after 5 epochs was 0.0946 \n",
      "\n"
     ]
    }
   ],
   "source": [
    "for i in range(0, ensemble_size):\n",
    "    model = MyConNet5()\n",
    "    loss_function = torch.nn.CrossEntropyLoss()\n",
    "    optimizer = torch.optim.SGD(model.parameters(), lr=0.005, momentum=0.5)\n",
    "    #optimizer = torch.optim.Adam(model.parameters(), lr=0.005)\n",
    "    lr_scheduler = torch.optim.lr_scheduler.ExponentialLR(optimizer, 0.5)\n",
    "    trainer = MyTrainer(model, optimizer, loss_function, lr_scheduler)\n",
    "\n",
    "    if torch.cuda.is_available():\n",
    "        model = model.cuda()\n",
    "        loss_function = loss_function.cuda()\n",
    "\n",
    "    trainer.fit(train_loader, dev_loader, epochs=10, eval_every=1, sub_epoch_logs=False, sub_epoch_percentile=0.05)\n",
    "\n",
    "    torch.save(model.state_dict(), \"models/MyConNet5_{}.pt\".format(i))"
   ],
   "metadata": {
    "collapsed": false
   }
  },
  {
   "cell_type": "markdown",
   "source": [
    "# Make predictions on the test set"
   ],
   "metadata": {
    "collapsed": false
   }
  },
  {
   "cell_type": "code",
   "execution_count": 21,
   "outputs": [],
   "source": [
    "model_predictions = []\n",
    "\n",
    "def make_predictions(eval_model, data_loader):\n",
    "    eval_model.eval()\n",
    "    if torch.cuda.is_available():\n",
    "        eval_model = eval_model.cuda()\n",
    "    test_predictions = torch.LongTensor().cuda()\n",
    "\n",
    "    for batch_idx, data in enumerate(data_loader):\n",
    "        if torch.cuda.is_available():\n",
    "            data = data.cuda()\n",
    "\n",
    "        output = eval_model(data)\n",
    "        predictions = torch.max(output, dim=1)[1]\n",
    "        test_predictions = torch.cat((test_predictions, predictions), dim=0)\n",
    "\n",
    "    return np.asarray(test_predictions.cpu())\n",
    "\n",
    "for i in range(0, ensemble_size):\n",
    "    model = LeNet5Variant()\n",
    "    model.load_state_dict(torch.load(\"models/MyConNet5_{}.pt\".format(i)))\n",
    "    model_predictions.append(make_predictions(model, test_loader))"
   ],
   "metadata": {
    "collapsed": false
   }
  },
  {
   "cell_type": "code",
   "execution_count": 22,
   "outputs": [
    {
     "data": {
      "text/plain": "array([[2, 2, 2, ..., 2, 2, 2],\n       [0, 0, 0, ..., 0, 0, 0],\n       [9, 9, 9, ..., 9, 9, 9],\n       ...,\n       [3, 3, 3, ..., 3, 3, 3],\n       [9, 9, 9, ..., 9, 9, 9],\n       [2, 2, 2, ..., 2, 2, 2]], dtype=int64)"
     },
     "execution_count": 22,
     "metadata": {},
     "output_type": "execute_result"
    }
   ],
   "source": [
    "np.asarray(model_predictions).T"
   ],
   "metadata": {
    "collapsed": false
   }
  },
  {
   "cell_type": "code",
   "execution_count": 23,
   "outputs": [
    {
     "data": {
      "text/plain": "       ImageId  Label\n0            1      2\n1            2      0\n2            3      9\n3            4      9\n4            5      3\n...        ...    ...\n27995    27996      9\n27996    27997      7\n27997    27998      3\n27998    27999      9\n27999    28000      2\n\n[28000 rows x 2 columns]",
      "text/html": "<div>\n<style scoped>\n    .dataframe tbody tr th:only-of-type {\n        vertical-align: middle;\n    }\n\n    .dataframe tbody tr th {\n        vertical-align: top;\n    }\n\n    .dataframe thead th {\n        text-align: right;\n    }\n</style>\n<table border=\"1\" class=\"dataframe\">\n  <thead>\n    <tr style=\"text-align: right;\">\n      <th></th>\n      <th>ImageId</th>\n      <th>Label</th>\n    </tr>\n  </thead>\n  <tbody>\n    <tr>\n      <th>0</th>\n      <td>1</td>\n      <td>2</td>\n    </tr>\n    <tr>\n      <th>1</th>\n      <td>2</td>\n      <td>0</td>\n    </tr>\n    <tr>\n      <th>2</th>\n      <td>3</td>\n      <td>9</td>\n    </tr>\n    <tr>\n      <th>3</th>\n      <td>4</td>\n      <td>9</td>\n    </tr>\n    <tr>\n      <th>4</th>\n      <td>5</td>\n      <td>3</td>\n    </tr>\n    <tr>\n      <th>...</th>\n      <td>...</td>\n      <td>...</td>\n    </tr>\n    <tr>\n      <th>27995</th>\n      <td>27996</td>\n      <td>9</td>\n    </tr>\n    <tr>\n      <th>27996</th>\n      <td>27997</td>\n      <td>7</td>\n    </tr>\n    <tr>\n      <th>27997</th>\n      <td>27998</td>\n      <td>3</td>\n    </tr>\n    <tr>\n      <th>27998</th>\n      <td>27999</td>\n      <td>9</td>\n    </tr>\n    <tr>\n      <th>27999</th>\n      <td>28000</td>\n      <td>2</td>\n    </tr>\n  </tbody>\n</table>\n<p>28000 rows × 2 columns</p>\n</div>"
     },
     "execution_count": 23,
     "metadata": {},
     "output_type": "execute_result"
    }
   ],
   "source": [
    "finale_predictions = np.apply_along_axis(lambda x: np.bincount(x).argmax(), axis=0, arr=np.asarray(model_predictions))\n",
    "submissions = pd.DataFrame({\"ImageId\": list(range(1,len(finale_predictions.squeeze())+1)),\"Label\": finale_predictions})\n",
    "submissions"
   ],
   "metadata": {
    "collapsed": false
   }
  },
  {
   "cell_type": "code",
   "execution_count": 25,
   "outputs": [],
   "source": [
    "pd.DataFrame(submissions).to_csv(\"submission.csv\", index=False, header=True)"
   ],
   "metadata": {
    "collapsed": false
   }
  },
  {
   "cell_type": "code",
   "execution_count": null,
   "outputs": [],
   "source": [],
   "metadata": {
    "collapsed": false
   }
  }
 ],
 "metadata": {
  "kernelspec": {
   "display_name": "Python 3",
   "language": "python",
   "name": "python3"
  },
  "language_info": {
   "codemirror_mode": {
    "name": "ipython",
    "version": 2
   },
   "file_extension": ".py",
   "mimetype": "text/x-python",
   "name": "python",
   "nbconvert_exporter": "python",
   "pygments_lexer": "ipython2",
   "version": "2.7.6"
  }
 },
 "nbformat": 4,
 "nbformat_minor": 0
}
