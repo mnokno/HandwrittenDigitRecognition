{
 "cells": [
  {
   "cell_type": "markdown",
   "source": [
    "# Imports"
   ],
   "metadata": {
    "collapsed": false
   }
  },
  {
   "cell_type": "code",
   "execution_count": 1,
   "outputs": [],
   "source": [
    "import numpy as np\n",
    "import pandas as pd\n",
    "import torchvision.transforms as transforms\n",
    "import matplotlib.pyplot as plt\n",
    "import torch\n",
    "import os\n",
    "from torch.utils.data import TensorDataset\n",
    "from sklearn.model_selection import train_test_split\n",
    "from torch.utils.data import DataLoader\n",
    "from trainer import MyTrainer\n",
    "from models import *"
   ],
   "metadata": {
    "collapsed": false
   }
  },
  {
   "cell_type": "markdown",
   "source": [
    "# Checks for CUDA"
   ],
   "metadata": {
    "collapsed": false
   }
  },
  {
   "cell_type": "code",
   "execution_count": 2,
   "outputs": [
    {
     "name": "stdout",
     "output_type": "stream",
     "text": [
      "Cuda available: True\n",
      "Cuda enabled: True\n",
      "Compute device: cuda\n"
     ]
    }
   ],
   "source": [
    "print(\"Cuda available: \" + str(torch.cuda.is_available()))\n",
    "print(\"Cuda enabled: \" + str(torch.backends.cudnn.enabled))\n",
    "\n",
    "if torch.cuda.is_available():\n",
    "    device = torch.device('cuda')\n",
    "\n",
    "print(\"Compute device: \" + str(device))"
   ],
   "metadata": {
    "collapsed": false
   }
  },
  {
   "cell_type": "markdown",
   "source": [
    "# Path management"
   ],
   "metadata": {
    "collapsed": false
   }
  },
  {
   "cell_type": "code",
   "execution_count": 3,
   "outputs": [],
   "source": [
    "base: str\n",
    "if os.getcwd() == \"/kaggle/working\":\n",
    "    base = \"/kaggle\"\n",
    "else:\n",
    "    base = os.getcwd()\n",
    "\n",
    "def get_full_dir(sub_dir: str) -> str:\n",
    "    return os.path.join(base, sub_dir)"
   ],
   "metadata": {
    "collapsed": false
   }
  },
  {
   "cell_type": "markdown",
   "source": [
    "# Data prep"
   ],
   "metadata": {
    "collapsed": false
   }
  },
  {
   "cell_type": "markdown",
   "source": [
    "#### Loads the data"
   ],
   "metadata": {
    "collapsed": false
   }
  },
  {
   "cell_type": "code",
   "execution_count": 4,
   "outputs": [],
   "source": [
    "train_path = get_full_dir(\"input/digit-recognizer/train.csv\")\n",
    "test_path = get_full_dir(\"input/digit-recognizer/test.csv\")"
   ],
   "metadata": {
    "collapsed": false
   }
  },
  {
   "cell_type": "code",
   "execution_count": 5,
   "outputs": [],
   "source": [
    "df_train = pd.read_csv(train_path)\n",
    "df_test = pd.read_csv(test_path)"
   ],
   "metadata": {
    "collapsed": false
   }
  },
  {
   "cell_type": "markdown",
   "source": [],
   "metadata": {
    "collapsed": false
   }
  },
  {
   "cell_type": "markdown",
   "source": [
    "#### Formats data"
   ],
   "metadata": {
    "collapsed": false
   }
  },
  {
   "cell_type": "code",
   "execution_count": 6,
   "outputs": [],
   "source": [
    "# Separates labels\n",
    "x = df_train.drop(labels=\"label\", axis=1)\n",
    "y = df_train[\"label\"]"
   ],
   "metadata": {
    "collapsed": false
   }
  },
  {
   "cell_type": "markdown",
   "source": [
    "#### Data overview"
   ],
   "metadata": {
    "collapsed": false
   }
  },
  {
   "cell_type": "code",
   "execution_count": 7,
   "outputs": [
    {
     "data": {
      "text/plain": "   label  pixel0  pixel1  pixel2  pixel3  pixel4  pixel5  pixel6  pixel7  \\\n0      1       0       0       0       0       0       0       0       0   \n1      0       0       0       0       0       0       0       0       0   \n2      1       0       0       0       0       0       0       0       0   \n3      4       0       0       0       0       0       0       0       0   \n4      0       0       0       0       0       0       0       0       0   \n\n   pixel8  ...  pixel774  pixel775  pixel776  pixel777  pixel778  pixel779  \\\n0       0  ...         0         0         0         0         0         0   \n1       0  ...         0         0         0         0         0         0   \n2       0  ...         0         0         0         0         0         0   \n3       0  ...         0         0         0         0         0         0   \n4       0  ...         0         0         0         0         0         0   \n\n   pixel780  pixel781  pixel782  pixel783  \n0         0         0         0         0  \n1         0         0         0         0  \n2         0         0         0         0  \n3         0         0         0         0  \n4         0         0         0         0  \n\n[5 rows x 785 columns]",
      "text/html": "<div>\n<style scoped>\n    .dataframe tbody tr th:only-of-type {\n        vertical-align: middle;\n    }\n\n    .dataframe tbody tr th {\n        vertical-align: top;\n    }\n\n    .dataframe thead th {\n        text-align: right;\n    }\n</style>\n<table border=\"1\" class=\"dataframe\">\n  <thead>\n    <tr style=\"text-align: right;\">\n      <th></th>\n      <th>label</th>\n      <th>pixel0</th>\n      <th>pixel1</th>\n      <th>pixel2</th>\n      <th>pixel3</th>\n      <th>pixel4</th>\n      <th>pixel5</th>\n      <th>pixel6</th>\n      <th>pixel7</th>\n      <th>pixel8</th>\n      <th>...</th>\n      <th>pixel774</th>\n      <th>pixel775</th>\n      <th>pixel776</th>\n      <th>pixel777</th>\n      <th>pixel778</th>\n      <th>pixel779</th>\n      <th>pixel780</th>\n      <th>pixel781</th>\n      <th>pixel782</th>\n      <th>pixel783</th>\n    </tr>\n  </thead>\n  <tbody>\n    <tr>\n      <th>0</th>\n      <td>1</td>\n      <td>0</td>\n      <td>0</td>\n      <td>0</td>\n      <td>0</td>\n      <td>0</td>\n      <td>0</td>\n      <td>0</td>\n      <td>0</td>\n      <td>0</td>\n      <td>...</td>\n      <td>0</td>\n      <td>0</td>\n      <td>0</td>\n      <td>0</td>\n      <td>0</td>\n      <td>0</td>\n      <td>0</td>\n      <td>0</td>\n      <td>0</td>\n      <td>0</td>\n    </tr>\n    <tr>\n      <th>1</th>\n      <td>0</td>\n      <td>0</td>\n      <td>0</td>\n      <td>0</td>\n      <td>0</td>\n      <td>0</td>\n      <td>0</td>\n      <td>0</td>\n      <td>0</td>\n      <td>0</td>\n      <td>...</td>\n      <td>0</td>\n      <td>0</td>\n      <td>0</td>\n      <td>0</td>\n      <td>0</td>\n      <td>0</td>\n      <td>0</td>\n      <td>0</td>\n      <td>0</td>\n      <td>0</td>\n    </tr>\n    <tr>\n      <th>2</th>\n      <td>1</td>\n      <td>0</td>\n      <td>0</td>\n      <td>0</td>\n      <td>0</td>\n      <td>0</td>\n      <td>0</td>\n      <td>0</td>\n      <td>0</td>\n      <td>0</td>\n      <td>...</td>\n      <td>0</td>\n      <td>0</td>\n      <td>0</td>\n      <td>0</td>\n      <td>0</td>\n      <td>0</td>\n      <td>0</td>\n      <td>0</td>\n      <td>0</td>\n      <td>0</td>\n    </tr>\n    <tr>\n      <th>3</th>\n      <td>4</td>\n      <td>0</td>\n      <td>0</td>\n      <td>0</td>\n      <td>0</td>\n      <td>0</td>\n      <td>0</td>\n      <td>0</td>\n      <td>0</td>\n      <td>0</td>\n      <td>...</td>\n      <td>0</td>\n      <td>0</td>\n      <td>0</td>\n      <td>0</td>\n      <td>0</td>\n      <td>0</td>\n      <td>0</td>\n      <td>0</td>\n      <td>0</td>\n      <td>0</td>\n    </tr>\n    <tr>\n      <th>4</th>\n      <td>0</td>\n      <td>0</td>\n      <td>0</td>\n      <td>0</td>\n      <td>0</td>\n      <td>0</td>\n      <td>0</td>\n      <td>0</td>\n      <td>0</td>\n      <td>0</td>\n      <td>...</td>\n      <td>0</td>\n      <td>0</td>\n      <td>0</td>\n      <td>0</td>\n      <td>0</td>\n      <td>0</td>\n      <td>0</td>\n      <td>0</td>\n      <td>0</td>\n      <td>0</td>\n    </tr>\n  </tbody>\n</table>\n<p>5 rows × 785 columns</p>\n</div>"
     },
     "execution_count": 7,
     "metadata": {},
     "output_type": "execute_result"
    }
   ],
   "source": [
    "df_train.head()"
   ],
   "metadata": {
    "collapsed": false
   }
  },
  {
   "cell_type": "code",
   "execution_count": 8,
   "outputs": [
    {
     "data": {
      "text/plain": "              label   pixel0   pixel1   pixel2   pixel3   pixel4   pixel5  \\\ncount  42000.000000  42000.0  42000.0  42000.0  42000.0  42000.0  42000.0   \nmean       4.456643      0.0      0.0      0.0      0.0      0.0      0.0   \nstd        2.887730      0.0      0.0      0.0      0.0      0.0      0.0   \nmin        0.000000      0.0      0.0      0.0      0.0      0.0      0.0   \n25%        2.000000      0.0      0.0      0.0      0.0      0.0      0.0   \n50%        4.000000      0.0      0.0      0.0      0.0      0.0      0.0   \n75%        7.000000      0.0      0.0      0.0      0.0      0.0      0.0   \nmax        9.000000      0.0      0.0      0.0      0.0      0.0      0.0   \n\n        pixel6   pixel7   pixel8  ...      pixel774      pixel775  \\\ncount  42000.0  42000.0  42000.0  ...  42000.000000  42000.000000   \nmean       0.0      0.0      0.0  ...      0.219286      0.117095   \nstd        0.0      0.0      0.0  ...      6.312890      4.633819   \nmin        0.0      0.0      0.0  ...      0.000000      0.000000   \n25%        0.0      0.0      0.0  ...      0.000000      0.000000   \n50%        0.0      0.0      0.0  ...      0.000000      0.000000   \n75%        0.0      0.0      0.0  ...      0.000000      0.000000   \nmax        0.0      0.0      0.0  ...    254.000000    254.000000   \n\n           pixel776     pixel777      pixel778      pixel779  pixel780  \\\ncount  42000.000000  42000.00000  42000.000000  42000.000000   42000.0   \nmean       0.059024      0.02019      0.017238      0.002857       0.0   \nstd        3.274488      1.75987      1.894498      0.414264       0.0   \nmin        0.000000      0.00000      0.000000      0.000000       0.0   \n25%        0.000000      0.00000      0.000000      0.000000       0.0   \n50%        0.000000      0.00000      0.000000      0.000000       0.0   \n75%        0.000000      0.00000      0.000000      0.000000       0.0   \nmax      253.000000    253.00000    254.000000     62.000000       0.0   \n\n       pixel781  pixel782  pixel783  \ncount   42000.0   42000.0   42000.0  \nmean        0.0       0.0       0.0  \nstd         0.0       0.0       0.0  \nmin         0.0       0.0       0.0  \n25%         0.0       0.0       0.0  \n50%         0.0       0.0       0.0  \n75%         0.0       0.0       0.0  \nmax         0.0       0.0       0.0  \n\n[8 rows x 785 columns]",
      "text/html": "<div>\n<style scoped>\n    .dataframe tbody tr th:only-of-type {\n        vertical-align: middle;\n    }\n\n    .dataframe tbody tr th {\n        vertical-align: top;\n    }\n\n    .dataframe thead th {\n        text-align: right;\n    }\n</style>\n<table border=\"1\" class=\"dataframe\">\n  <thead>\n    <tr style=\"text-align: right;\">\n      <th></th>\n      <th>label</th>\n      <th>pixel0</th>\n      <th>pixel1</th>\n      <th>pixel2</th>\n      <th>pixel3</th>\n      <th>pixel4</th>\n      <th>pixel5</th>\n      <th>pixel6</th>\n      <th>pixel7</th>\n      <th>pixel8</th>\n      <th>...</th>\n      <th>pixel774</th>\n      <th>pixel775</th>\n      <th>pixel776</th>\n      <th>pixel777</th>\n      <th>pixel778</th>\n      <th>pixel779</th>\n      <th>pixel780</th>\n      <th>pixel781</th>\n      <th>pixel782</th>\n      <th>pixel783</th>\n    </tr>\n  </thead>\n  <tbody>\n    <tr>\n      <th>count</th>\n      <td>42000.000000</td>\n      <td>42000.0</td>\n      <td>42000.0</td>\n      <td>42000.0</td>\n      <td>42000.0</td>\n      <td>42000.0</td>\n      <td>42000.0</td>\n      <td>42000.0</td>\n      <td>42000.0</td>\n      <td>42000.0</td>\n      <td>...</td>\n      <td>42000.000000</td>\n      <td>42000.000000</td>\n      <td>42000.000000</td>\n      <td>42000.00000</td>\n      <td>42000.000000</td>\n      <td>42000.000000</td>\n      <td>42000.0</td>\n      <td>42000.0</td>\n      <td>42000.0</td>\n      <td>42000.0</td>\n    </tr>\n    <tr>\n      <th>mean</th>\n      <td>4.456643</td>\n      <td>0.0</td>\n      <td>0.0</td>\n      <td>0.0</td>\n      <td>0.0</td>\n      <td>0.0</td>\n      <td>0.0</td>\n      <td>0.0</td>\n      <td>0.0</td>\n      <td>0.0</td>\n      <td>...</td>\n      <td>0.219286</td>\n      <td>0.117095</td>\n      <td>0.059024</td>\n      <td>0.02019</td>\n      <td>0.017238</td>\n      <td>0.002857</td>\n      <td>0.0</td>\n      <td>0.0</td>\n      <td>0.0</td>\n      <td>0.0</td>\n    </tr>\n    <tr>\n      <th>std</th>\n      <td>2.887730</td>\n      <td>0.0</td>\n      <td>0.0</td>\n      <td>0.0</td>\n      <td>0.0</td>\n      <td>0.0</td>\n      <td>0.0</td>\n      <td>0.0</td>\n      <td>0.0</td>\n      <td>0.0</td>\n      <td>...</td>\n      <td>6.312890</td>\n      <td>4.633819</td>\n      <td>3.274488</td>\n      <td>1.75987</td>\n      <td>1.894498</td>\n      <td>0.414264</td>\n      <td>0.0</td>\n      <td>0.0</td>\n      <td>0.0</td>\n      <td>0.0</td>\n    </tr>\n    <tr>\n      <th>min</th>\n      <td>0.000000</td>\n      <td>0.0</td>\n      <td>0.0</td>\n      <td>0.0</td>\n      <td>0.0</td>\n      <td>0.0</td>\n      <td>0.0</td>\n      <td>0.0</td>\n      <td>0.0</td>\n      <td>0.0</td>\n      <td>...</td>\n      <td>0.000000</td>\n      <td>0.000000</td>\n      <td>0.000000</td>\n      <td>0.00000</td>\n      <td>0.000000</td>\n      <td>0.000000</td>\n      <td>0.0</td>\n      <td>0.0</td>\n      <td>0.0</td>\n      <td>0.0</td>\n    </tr>\n    <tr>\n      <th>25%</th>\n      <td>2.000000</td>\n      <td>0.0</td>\n      <td>0.0</td>\n      <td>0.0</td>\n      <td>0.0</td>\n      <td>0.0</td>\n      <td>0.0</td>\n      <td>0.0</td>\n      <td>0.0</td>\n      <td>0.0</td>\n      <td>...</td>\n      <td>0.000000</td>\n      <td>0.000000</td>\n      <td>0.000000</td>\n      <td>0.00000</td>\n      <td>0.000000</td>\n      <td>0.000000</td>\n      <td>0.0</td>\n      <td>0.0</td>\n      <td>0.0</td>\n      <td>0.0</td>\n    </tr>\n    <tr>\n      <th>50%</th>\n      <td>4.000000</td>\n      <td>0.0</td>\n      <td>0.0</td>\n      <td>0.0</td>\n      <td>0.0</td>\n      <td>0.0</td>\n      <td>0.0</td>\n      <td>0.0</td>\n      <td>0.0</td>\n      <td>0.0</td>\n      <td>...</td>\n      <td>0.000000</td>\n      <td>0.000000</td>\n      <td>0.000000</td>\n      <td>0.00000</td>\n      <td>0.000000</td>\n      <td>0.000000</td>\n      <td>0.0</td>\n      <td>0.0</td>\n      <td>0.0</td>\n      <td>0.0</td>\n    </tr>\n    <tr>\n      <th>75%</th>\n      <td>7.000000</td>\n      <td>0.0</td>\n      <td>0.0</td>\n      <td>0.0</td>\n      <td>0.0</td>\n      <td>0.0</td>\n      <td>0.0</td>\n      <td>0.0</td>\n      <td>0.0</td>\n      <td>0.0</td>\n      <td>...</td>\n      <td>0.000000</td>\n      <td>0.000000</td>\n      <td>0.000000</td>\n      <td>0.00000</td>\n      <td>0.000000</td>\n      <td>0.000000</td>\n      <td>0.0</td>\n      <td>0.0</td>\n      <td>0.0</td>\n      <td>0.0</td>\n    </tr>\n    <tr>\n      <th>max</th>\n      <td>9.000000</td>\n      <td>0.0</td>\n      <td>0.0</td>\n      <td>0.0</td>\n      <td>0.0</td>\n      <td>0.0</td>\n      <td>0.0</td>\n      <td>0.0</td>\n      <td>0.0</td>\n      <td>0.0</td>\n      <td>...</td>\n      <td>254.000000</td>\n      <td>254.000000</td>\n      <td>253.000000</td>\n      <td>253.00000</td>\n      <td>254.000000</td>\n      <td>62.000000</td>\n      <td>0.0</td>\n      <td>0.0</td>\n      <td>0.0</td>\n      <td>0.0</td>\n    </tr>\n  </tbody>\n</table>\n<p>8 rows × 785 columns</p>\n</div>"
     },
     "execution_count": 8,
     "metadata": {},
     "output_type": "execute_result"
    }
   ],
   "source": [
    "df_train.describe()"
   ],
   "metadata": {
    "collapsed": false
   }
  },
  {
   "cell_type": "markdown",
   "source": [
    "#### Reshapes"
   ],
   "metadata": {
    "collapsed": false
   }
  },
  {
   "cell_type": "code",
   "execution_count": 9,
   "outputs": [],
   "source": [
    "# Convert to numpy arrays\n",
    "x = x.to_numpy()\n",
    "y = y.to_numpy()\n",
    "test_npa = df_test.to_numpy()"
   ],
   "metadata": {
    "collapsed": false
   }
  },
  {
   "cell_type": "code",
   "execution_count": 10,
   "outputs": [],
   "source": [
    "# Updates shape to match image size 28x28x1 (only one channel per image)\n",
    "x = x.reshape(-1, 1, 28, 28)\n",
    "test_npa = test_npa.reshape(-1, 1, 28, 28)"
   ],
   "metadata": {
    "collapsed": false
   }
  },
  {
   "cell_type": "code",
   "execution_count": 11,
   "outputs": [],
   "source": [
    "# Divides the train set to train and validation\n",
    "X_train, X_dev, y_train, y_dev = train_test_split(x, y, test_size=0.2, random_state=8888)"
   ],
   "metadata": {
    "collapsed": false
   }
  },
  {
   "cell_type": "code",
   "execution_count": 12,
   "outputs": [],
   "source": [
    "# Defines augmentation transform\n",
    "transform = transforms.Compose([\n",
    "    transforms.RandomAffine(degrees=10, translate=(0.1, 0.1), scale=(0.9, 1.1))\n",
    "])"
   ],
   "metadata": {
    "collapsed": false
   }
  },
  {
   "cell_type": "markdown",
   "source": [
    "# Performs data augmentation"
   ],
   "metadata": {
    "collapsed": false
   }
  },
  {
   "cell_type": "code",
   "execution_count": 13,
   "outputs": [],
   "source": [
    "# Performs data augmentation\n",
    "augmented_x_train = []\n",
    "augmented_y_train = []\n",
    "num_augmentations = 30\n",
    "\n",
    "for x_a, y_a in zip(torch.tensor(X_train), y_train):\n",
    "    for i in range(num_augmentations):\n",
    "        augmented_x_train.append(transform(x_a))\n",
    "        augmented_y_train.append(y_a)\n",
    "    augmented_x_train.append(x_a)\n",
    "    augmented_y_train.append(y_a)\n",
    "\n",
    "#x = np.array(augmented_x)\n",
    "# Convert each tensor to a numpy array\n",
    "augmented_data_np = [x_t.numpy() for x_t in augmented_x_train]\n",
    "# Concatenate all numpy arrays along the first axis\n",
    "X_train = np.concatenate(augmented_data_np, axis=0)\n",
    "X_train = X_train.reshape(-1, 1, 28, 28)\n",
    "\n",
    "y_train = np.array(augmented_y_train)"
   ],
   "metadata": {
    "collapsed": false
   }
  },
  {
   "cell_type": "code",
   "execution_count": 14,
   "outputs": [],
   "source": [
    "augmented_x_dev = []\n",
    "augmented_y_dev = []\n",
    "num_augmentations = 30\n",
    "\n",
    "for x_a, y_a in zip(torch.tensor(X_dev), y_dev):\n",
    "    for i in range(num_augmentations):\n",
    "        augmented_x_dev.append(transform(x_a))\n",
    "        augmented_y_dev.append(y_a)\n",
    "    augmented_x_dev.append(x_a)\n",
    "    augmented_y_dev.append(y_a)\n",
    "\n",
    "#x = np.array(augmented_x)\n",
    "# Convert each tensor to a numpy array\n",
    "augmented_data_np = [x_t.numpy() for x_t in augmented_x_dev]\n",
    "# Concatenate all numpy arrays along the first axis\n",
    "X_dev = np.concatenate(augmented_data_np, axis=0)\n",
    "X_dev = X_dev.reshape(-1, 1, 28, 28)\n",
    "\n",
    "y_dev = np.array(augmented_y_dev)"
   ],
   "metadata": {
    "collapsed": false
   }
  },
  {
   "cell_type": "code",
   "execution_count": 15,
   "outputs": [
    {
     "name": "stdout",
     "output_type": "stream",
     "text": [
      "Train size: 201600 Dev size: 50400\n"
     ]
    }
   ],
   "source": [
    "print(\"Train size: \" + str(len(X_train)) + \" Dev size: \" + str(len(X_dev)))"
   ],
   "metadata": {
    "collapsed": false
   }
  },
  {
   "cell_type": "code",
   "execution_count": 16,
   "outputs": [
    {
     "data": {
      "text/plain": "<Figure size 640x480 with 9 Axes>",
      "image/png": "[encoded data removed]"
     },
     "metadata": {},
     "output_type": "display_data"
    }
   ],
   "source": [
    "#train samples\n",
    "for i in range(0, 9):\n",
    "    plt.subplot(330 + (i+1))\n",
    "    plt.imshow(X_train[i].squeeze(), cmap=plt.get_cmap('gray'))\n",
    "    plt.axis('off')\n",
    "    plt.title(y_train[i])"
   ],
   "metadata": {
    "collapsed": false
   }
  },
  {
   "cell_type": "markdown",
   "source": [
    "#### Converts data to tensors and normalize them"
   ],
   "metadata": {
    "collapsed": false
   }
  },
  {
   "cell_type": "code",
   "execution_count": 17,
   "outputs": [],
   "source": [
    "#train\n",
    "X_train_tensor = torch.tensor(X_train)/255.0\n",
    "y_train_tensor = torch.tensor(y_train)\n",
    "train_tensor = TensorDataset(X_train_tensor, y_train_tensor)\n",
    "\n",
    "#val\n",
    "X_dev_tensor = torch.tensor(X_dev)/255.0\n",
    "y_dev_tensor = torch.tensor(y_dev)\n",
    "dev_tensor = TensorDataset(X_dev_tensor, y_dev_tensor)\n",
    "\n",
    "#test\n",
    "test_image_tensor = torch.tensor(test_npa)/255.0"
   ],
   "metadata": {
    "collapsed": false
   }
  },
  {
   "cell_type": "markdown",
   "source": [
    "#### Defines data loaders"
   ],
   "metadata": {
    "collapsed": false
   }
  },
  {
   "cell_type": "code",
   "execution_count": 18,
   "outputs": [],
   "source": [
    "train_loader = DataLoader(train_tensor, batch_size=16, num_workers=2, shuffle=True)\n",
    "dev_loader = DataLoader(dev_tensor, batch_size=16, num_workers=2, shuffle=True)\n",
    "test_loader = DataLoader(test_image_tensor, batch_size=16, num_workers=2, shuffle=False)"
   ],
   "metadata": {
    "collapsed": false
   }
  },
  {
   "cell_type": "markdown",
   "source": [
    "# Train the model"
   ],
   "metadata": {
    "collapsed": false
   }
  },
  {
   "cell_type": "markdown",
   "source": [
    "#### Creates mode, loss and optimizer"
   ],
   "metadata": {
    "collapsed": false
   }
  },
  {
   "cell_type": "code",
   "execution_count": 28,
   "outputs": [],
   "source": [
    "model = MyConNet5()\n",
    "loss_function = torch.nn.CrossEntropyLoss()\n",
    "optimizer = torch.optim.SGD(model.parameters(), lr=0.0005, momentum=0.50)\n",
    "trainer = MyTrainer(model, optimizer, loss_function)"
   ],
   "metadata": {
    "collapsed": false
   }
  },
  {
   "cell_type": "markdown",
   "source": [
    "#### Fits the model to data"
   ],
   "metadata": {
    "collapsed": false
   }
  },
  {
   "cell_type": "code",
   "execution_count": 20,
   "outputs": [],
   "source": [
    "if torch.cuda.is_available():\n",
    "    model = model.cuda()\n",
    "    loss_function = loss_function.cuda()"
   ],
   "metadata": {
    "collapsed": false
   }
  },
  {
   "cell_type": "code",
   "execution_count": 21,
   "outputs": [
    {
     "name": "stdout",
     "output_type": "stream",
     "text": [
      "Train Epoch: 0 [10080/201600 (5%)]\t\tLoss: 0.073219\n",
      "Train Epoch: 0 [20160/201600 (10%)]\t\tLoss: 0.070039\n",
      "Train Epoch: 0 [30240/201600 (15%)]\t\tLoss: 0.057977\n",
      "Train Epoch: 0 [40320/201600 (20%)]\t\tLoss: 0.056708\n",
      "Train Epoch: 0 [50400/201600 (25%)]\t\tLoss: 0.060147\n",
      "Train Epoch: 0 [60480/201600 (30%)]\t\tLoss: 0.062071\n",
      "Train Epoch: 0 [70560/201600 (35%)]\t\tLoss: 0.066862\n",
      "Train Epoch: 0 [80640/201600 (40%)]\t\tLoss: 0.061695\n",
      "Train Epoch: 0 [90720/201600 (45%)]\t\tLoss: 0.056511\n",
      "Train Epoch: 0 [100800/201600 (50%)]\t\tLoss: 0.062538\n",
      "Train Epoch: 0 [110880/201600 (55%)]\t\tLoss: 0.059319\n",
      "Train Epoch: 0 [120960/201600 (60%)]\t\tLoss: 0.062732\n",
      "Train Epoch: 0 [131040/201600 (65%)]\t\tLoss: 0.050675\n",
      "Train Epoch: 0 [141120/201600 (70%)]\t\tLoss: 0.058784\n",
      "Train Epoch: 0 [151200/201600 (75%)]\t\tLoss: 0.052721\n",
      "Train Epoch: 0 [161280/201600 (80%)]\t\tLoss: 0.057396\n",
      "Train Epoch: 0 [171360/201600 (85%)]\t\tLoss: 0.062646\n",
      "Train Epoch: 0 [181440/201600 (90%)]\t\tLoss: 0.061682\n",
      "Train Epoch: 0 [191520/201600 (95%)]\t\tLoss: 0.058757\n",
      "Train Epoch: 0 [201600/201600 (100%)]\t\tLoss: 0.056963\n",
      "Train Epoch: 0 Average Loss: 0.060472\n",
      "\n",
      "The loss after 1 epochs was 0.0211 \n",
      "\n",
      "Train Epoch: 1 [10080/201600 (5%)]\t\tLoss: 0.054977\n",
      "Train Epoch: 1 [20160/201600 (10%)]\t\tLoss: 0.052306\n",
      "Train Epoch: 1 [30240/201600 (15%)]\t\tLoss: 0.049836\n",
      "Train Epoch: 1 [40320/201600 (20%)]\t\tLoss: 0.064295\n",
      "Train Epoch: 1 [50400/201600 (25%)]\t\tLoss: 0.054273\n",
      "Train Epoch: 1 [60480/201600 (30%)]\t\tLoss: 0.057324\n",
      "Train Epoch: 1 [70560/201600 (35%)]\t\tLoss: 0.056591\n",
      "Train Epoch: 1 [80640/201600 (40%)]\t\tLoss: 0.056809\n",
      "Train Epoch: 1 [90720/201600 (45%)]\t\tLoss: 0.054895\n",
      "Train Epoch: 1 [100800/201600 (50%)]\t\tLoss: 0.060061\n",
      "Train Epoch: 1 [110880/201600 (55%)]\t\tLoss: 0.052599\n",
      "Train Epoch: 1 [120960/201600 (60%)]\t\tLoss: 0.048198\n",
      "Train Epoch: 1 [131040/201600 (65%)]\t\tLoss: 0.058636\n",
      "Train Epoch: 1 [141120/201600 (70%)]\t\tLoss: 0.056045\n",
      "Train Epoch: 1 [151200/201600 (75%)]\t\tLoss: 0.057777\n",
      "Train Epoch: 1 [161280/201600 (80%)]\t\tLoss: 0.052282\n",
      "Train Epoch: 1 [171360/201600 (85%)]\t\tLoss: 0.057230\n",
      "Train Epoch: 1 [181440/201600 (90%)]\t\tLoss: 0.057195\n",
      "Train Epoch: 1 [191520/201600 (95%)]\t\tLoss: 0.051641\n",
      "Train Epoch: 1 [201600/201600 (100%)]\t\tLoss: 0.051168\n",
      "Train Epoch: 1 Average Loss: 0.055207\n",
      "\n",
      "The loss after 2 epochs was 0.0197 \n",
      "\n",
      "Train Epoch: 2 [10080/201600 (5%)]\t\tLoss: 0.048686\n",
      "Train Epoch: 2 [20160/201600 (10%)]\t\tLoss: 0.048417\n",
      "Train Epoch: 2 [30240/201600 (15%)]\t\tLoss: 0.056499\n",
      "Train Epoch: 2 [40320/201600 (20%)]\t\tLoss: 0.054172\n",
      "Train Epoch: 2 [50400/201600 (25%)]\t\tLoss: 0.050966\n",
      "Train Epoch: 2 [60480/201600 (30%)]\t\tLoss: 0.056930\n",
      "Train Epoch: 2 [70560/201600 (35%)]\t\tLoss: 0.054407\n",
      "Train Epoch: 2 [80640/201600 (40%)]\t\tLoss: 0.051503\n",
      "Train Epoch: 2 [90720/201600 (45%)]\t\tLoss: 0.051787\n",
      "Train Epoch: 2 [100800/201600 (50%)]\t\tLoss: 0.049970\n",
      "Train Epoch: 2 [110880/201600 (55%)]\t\tLoss: 0.053079\n",
      "Train Epoch: 2 [120960/201600 (60%)]\t\tLoss: 0.053908\n",
      "Train Epoch: 2 [131040/201600 (65%)]\t\tLoss: 0.049943\n",
      "Train Epoch: 2 [141120/201600 (70%)]\t\tLoss: 0.056156\n",
      "Train Epoch: 2 [151200/201600 (75%)]\t\tLoss: 0.056551\n",
      "Train Epoch: 2 [161280/201600 (80%)]\t\tLoss: 0.043256\n",
      "Train Epoch: 2 [171360/201600 (85%)]\t\tLoss: 0.050057\n",
      "Train Epoch: 2 [181440/201600 (90%)]\t\tLoss: 0.049031\n",
      "Train Epoch: 2 [191520/201600 (95%)]\t\tLoss: 0.057233\n",
      "Train Epoch: 2 [201600/201600 (100%)]\t\tLoss: 0.048987\n",
      "Train Epoch: 2 Average Loss: 0.052077\n",
      "\n",
      "The loss after 3 epochs was 0.02\n",
      "The loss had increased since the last checkpoint, aborting training! \n",
      "\n"
     ]
    }
   ],
   "source": [
    "trainer.fit(train_loader, dev_loader, epochs=50, eval_every=1, sub_epoch_logs=True, sub_epoch_percentile=0.05)"
   ],
   "metadata": {
    "collapsed": false
   }
  },
  {
   "cell_type": "markdown",
   "source": [
    "# Make predictions on the test set"
   ],
   "metadata": {
    "collapsed": false
   }
  },
  {
   "cell_type": "code",
   "execution_count": 29,
   "outputs": [],
   "source": [
    "def make_predictions(data_loader):\n",
    "    model.eval()\n",
    "    model.cpu()\n",
    "    test_predictions = torch.LongTensor()\n",
    "\n",
    "    for batch_idx, data in enumerate(data_loader):\n",
    "        output = model(data)\n",
    "\n",
    "        predictions = torch.max(output, dim=1)[1]\n",
    "        test_predictions = torch.cat((test_predictions, predictions), dim=0)\n",
    "\n",
    "    return test_predictions"
   ],
   "metadata": {
    "collapsed": false
   }
  },
  {
   "cell_type": "code",
   "execution_count": 30,
   "outputs": [],
   "source": [
    "test_set_predictions = make_predictions(test_loader)"
   ],
   "metadata": {
    "collapsed": false
   }
  },
  {
   "cell_type": "code",
   "execution_count": 31,
   "outputs": [],
   "source": [
    "submission_df = get_full_dir(\"input/digit-recognizer/sample_submission.csv\")"
   ],
   "metadata": {
    "collapsed": false
   }
  },
  {
   "cell_type": "code",
   "execution_count": 32,
   "outputs": [
    {
     "data": {
      "text/plain": "   ImageId  Label\n0        1      2\n1        2      0\n2        3      9\n3        4      0\n4        5      3",
      "text/html": "<div>\n<style scoped>\n    .dataframe tbody tr th:only-of-type {\n        vertical-align: middle;\n    }\n\n    .dataframe tbody tr th {\n        vertical-align: top;\n    }\n\n    .dataframe thead th {\n        text-align: right;\n    }\n</style>\n<table border=\"1\" class=\"dataframe\">\n  <thead>\n    <tr style=\"text-align: right;\">\n      <th></th>\n      <th>ImageId</th>\n      <th>Label</th>\n    </tr>\n  </thead>\n  <tbody>\n    <tr>\n      <th>0</th>\n      <td>1</td>\n      <td>2</td>\n    </tr>\n    <tr>\n      <th>1</th>\n      <td>2</td>\n      <td>0</td>\n    </tr>\n    <tr>\n      <th>2</th>\n      <td>3</td>\n      <td>9</td>\n    </tr>\n    <tr>\n      <th>3</th>\n      <td>4</td>\n      <td>0</td>\n    </tr>\n    <tr>\n      <th>4</th>\n      <td>5</td>\n      <td>3</td>\n    </tr>\n  </tbody>\n</table>\n</div>"
     },
     "execution_count": 32,
     "metadata": {},
     "output_type": "execute_result"
    }
   ],
   "source": [
    "submission_df['Label'] = test_set_predictions.numpy().squeeze()\n",
    "submission_df.head()"
   ],
   "metadata": {
    "collapsed": false
   }
  },
  {
   "cell_type": "code",
   "execution_count": 33,
   "outputs": [],
   "source": [
    "submission_df.to_csv('submission.csv', index=False)"
   ],
   "metadata": {
    "collapsed": false
   }
  },
  {
   "cell_type": "code",
   "execution_count": 36,
   "outputs": [],
   "source": [
    "torch.save(model.state_dict(), \"models/myNet5tmp.pt\")"
   ],
   "metadata": {
    "collapsed": false
   }
  }
 ],
 "metadata": {
  "kernelspec": {
   "display_name": "Python 3",
   "language": "python",
   "name": "python3"
  },
  "language_info": {
   "codemirror_mode": {
    "name": "ipython",
    "version": 2
   },
   "file_extension": ".py",
   "mimetype": "text/x-python",
   "name": "python",
   "nbconvert_exporter": "python",
   "pygments_lexer": "ipython2",
   "version": "2.7.6"
  }
 },
 "nbformat": 4,
 "nbformat_minor": 0
}
