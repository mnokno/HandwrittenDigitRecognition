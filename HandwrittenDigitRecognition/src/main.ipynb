{
 "cells": [
  {
   "cell_type": "markdown",
   "source": [
    "# Imports"
   ],
   "metadata": {
    "collapsed": false
   }
  },
  {
   "cell_type": "code",
   "execution_count": 1,
   "outputs": [],
   "source": [
    "import numpy as np\n",
    "import pandas as pd\n",
    "import torchvision.transforms as transforms\n",
    "import matplotlib.pyplot as plt\n",
    "import torch\n",
    "import os\n",
    "from torch.utils.data import TensorDataset\n",
    "from sklearn.model_selection import train_test_split\n",
    "from torch.utils.data import DataLoader\n",
    "from trainer import MyTrainer\n",
    "from models import *"
   ],
   "metadata": {
    "collapsed": false
   }
  },
  {
   "cell_type": "markdown",
   "source": [
    "# Checks for CUDA"
   ],
   "metadata": {
    "collapsed": false
   }
  },
  {
   "cell_type": "code",
   "execution_count": 2,
   "outputs": [
    {
     "name": "stdout",
     "output_type": "stream",
     "text": [
      "Cuda available: True\n",
      "Cuda enabled: True\n",
      "Compute device: cuda\n"
     ]
    }
   ],
   "source": [
    "print(\"Cuda available: \" + str(torch.cuda.is_available()))\n",
    "print(\"Cuda enabled: \" + str(torch.backends.cudnn.enabled))\n",
    "\n",
    "if torch.cuda.is_available():\n",
    "    device = torch.device('cuda')\n",
    "\n",
    "print(\"Compute device: \" + str(device))"
   ],
   "metadata": {
    "collapsed": false
   }
  },
  {
   "cell_type": "markdown",
   "source": [
    "# Path management"
   ],
   "metadata": {
    "collapsed": false
   }
  },
  {
   "cell_type": "code",
   "execution_count": 3,
   "outputs": [],
   "source": [
    "base: str\n",
    "if os.getcwd() == \"/kaggle/working\":\n",
    "    base = \"/kaggle\"\n",
    "else:\n",
    "    base = os.getcwd()\n",
    "\n",
    "def get_full_dir(sub_dir: str) -> str:\n",
    "    return os.path.join(base, sub_dir)"
   ],
   "metadata": {
    "collapsed": false
   }
  },
  {
   "cell_type": "markdown",
   "source": [
    "# Data prep"
   ],
   "metadata": {
    "collapsed": false
   }
  },
  {
   "cell_type": "markdown",
   "source": [
    "#### Loads the data"
   ],
   "metadata": {
    "collapsed": false
   }
  },
  {
   "cell_type": "code",
   "execution_count": 4,
   "outputs": [],
   "source": [
    "train_path = get_full_dir(\"input/digit-recognizer/train.csv\")\n",
    "test_path = get_full_dir(\"input/digit-recognizer/test.csv\")"
   ],
   "metadata": {
    "collapsed": false
   }
  },
  {
   "cell_type": "code",
   "execution_count": 5,
   "outputs": [],
   "source": [
    "df_train = pd.read_csv(train_path)\n",
    "df_test = pd.read_csv(test_path)"
   ],
   "metadata": {
    "collapsed": false
   }
  },
  {
   "cell_type": "markdown",
   "source": [],
   "metadata": {
    "collapsed": false
   }
  },
  {
   "cell_type": "markdown",
   "source": [
    "#### Formats data"
   ],
   "metadata": {
    "collapsed": false
   }
  },
  {
   "cell_type": "code",
   "execution_count": 6,
   "outputs": [],
   "source": [
    "# Separates labels\n",
    "x = df_train.drop(labels=\"label\", axis=1)\n",
    "y = df_train[\"label\"]"
   ],
   "metadata": {
    "collapsed": false
   }
  },
  {
   "cell_type": "markdown",
   "source": [
    "#### Data overview"
   ],
   "metadata": {
    "collapsed": false
   }
  },
  {
   "cell_type": "code",
   "execution_count": 7,
   "outputs": [
    {
     "data": {
      "text/plain": "   label  pixel0  pixel1  pixel2  pixel3  pixel4  pixel5  pixel6  pixel7  \\\n0      1       0       0       0       0       0       0       0       0   \n1      0       0       0       0       0       0       0       0       0   \n2      1       0       0       0       0       0       0       0       0   \n3      4       0       0       0       0       0       0       0       0   \n4      0       0       0       0       0       0       0       0       0   \n\n   pixel8  ...  pixel774  pixel775  pixel776  pixel777  pixel778  pixel779  \\\n0       0  ...         0         0         0         0         0         0   \n1       0  ...         0         0         0         0         0         0   \n2       0  ...         0         0         0         0         0         0   \n3       0  ...         0         0         0         0         0         0   \n4       0  ...         0         0         0         0         0         0   \n\n   pixel780  pixel781  pixel782  pixel783  \n0         0         0         0         0  \n1         0         0         0         0  \n2         0         0         0         0  \n3         0         0         0         0  \n4         0         0         0         0  \n\n[5 rows x 785 columns]",
      "text/html": "<div>\n<style scoped>\n    .dataframe tbody tr th:only-of-type {\n        vertical-align: middle;\n    }\n\n    .dataframe tbody tr th {\n        vertical-align: top;\n    }\n\n    .dataframe thead th {\n        text-align: right;\n    }\n</style>\n<table border=\"1\" class=\"dataframe\">\n  <thead>\n    <tr style=\"text-align: right;\">\n      <th></th>\n      <th>label</th>\n      <th>pixel0</th>\n      <th>pixel1</th>\n      <th>pixel2</th>\n      <th>pixel3</th>\n      <th>pixel4</th>\n      <th>pixel5</th>\n      <th>pixel6</th>\n      <th>pixel7</th>\n      <th>pixel8</th>\n      <th>...</th>\n      <th>pixel774</th>\n      <th>pixel775</th>\n      <th>pixel776</th>\n      <th>pixel777</th>\n      <th>pixel778</th>\n      <th>pixel779</th>\n      <th>pixel780</th>\n      <th>pixel781</th>\n      <th>pixel782</th>\n      <th>pixel783</th>\n    </tr>\n  </thead>\n  <tbody>\n    <tr>\n      <th>0</th>\n      <td>1</td>\n      <td>0</td>\n      <td>0</td>\n      <td>0</td>\n      <td>0</td>\n      <td>0</td>\n      <td>0</td>\n      <td>0</td>\n      <td>0</td>\n      <td>0</td>\n      <td>...</td>\n      <td>0</td>\n      <td>0</td>\n      <td>0</td>\n      <td>0</td>\n      <td>0</td>\n      <td>0</td>\n      <td>0</td>\n      <td>0</td>\n      <td>0</td>\n      <td>0</td>\n    </tr>\n    <tr>\n      <th>1</th>\n      <td>0</td>\n      <td>0</td>\n      <td>0</td>\n      <td>0</td>\n      <td>0</td>\n      <td>0</td>\n      <td>0</td>\n      <td>0</td>\n      <td>0</td>\n      <td>0</td>\n      <td>...</td>\n      <td>0</td>\n      <td>0</td>\n      <td>0</td>\n      <td>0</td>\n      <td>0</td>\n      <td>0</td>\n      <td>0</td>\n      <td>0</td>\n      <td>0</td>\n      <td>0</td>\n    </tr>\n    <tr>\n      <th>2</th>\n      <td>1</td>\n      <td>0</td>\n      <td>0</td>\n      <td>0</td>\n      <td>0</td>\n      <td>0</td>\n      <td>0</td>\n      <td>0</td>\n      <td>0</td>\n      <td>0</td>\n      <td>...</td>\n      <td>0</td>\n      <td>0</td>\n      <td>0</td>\n      <td>0</td>\n      <td>0</td>\n      <td>0</td>\n      <td>0</td>\n      <td>0</td>\n      <td>0</td>\n      <td>0</td>\n    </tr>\n    <tr>\n      <th>3</th>\n      <td>4</td>\n      <td>0</td>\n      <td>0</td>\n      <td>0</td>\n      <td>0</td>\n      <td>0</td>\n      <td>0</td>\n      <td>0</td>\n      <td>0</td>\n      <td>0</td>\n      <td>...</td>\n      <td>0</td>\n      <td>0</td>\n      <td>0</td>\n      <td>0</td>\n      <td>0</td>\n      <td>0</td>\n      <td>0</td>\n      <td>0</td>\n      <td>0</td>\n      <td>0</td>\n    </tr>\n    <tr>\n      <th>4</th>\n      <td>0</td>\n      <td>0</td>\n      <td>0</td>\n      <td>0</td>\n      <td>0</td>\n      <td>0</td>\n      <td>0</td>\n      <td>0</td>\n      <td>0</td>\n      <td>0</td>\n      <td>...</td>\n      <td>0</td>\n      <td>0</td>\n      <td>0</td>\n      <td>0</td>\n      <td>0</td>\n      <td>0</td>\n      <td>0</td>\n      <td>0</td>\n      <td>0</td>\n      <td>0</td>\n    </tr>\n  </tbody>\n</table>\n<p>5 rows × 785 columns</p>\n</div>"
     },
     "execution_count": 7,
     "metadata": {},
     "output_type": "execute_result"
    }
   ],
   "source": [
    "df_train.head()"
   ],
   "metadata": {
    "collapsed": false
   }
  },
  {
   "cell_type": "code",
   "execution_count": 8,
   "outputs": [
    {
     "data": {
      "text/plain": "              label   pixel0   pixel1   pixel2   pixel3   pixel4   pixel5  \\\ncount  42000.000000  42000.0  42000.0  42000.0  42000.0  42000.0  42000.0   \nmean       4.456643      0.0      0.0      0.0      0.0      0.0      0.0   \nstd        2.887730      0.0      0.0      0.0      0.0      0.0      0.0   \nmin        0.000000      0.0      0.0      0.0      0.0      0.0      0.0   \n25%        2.000000      0.0      0.0      0.0      0.0      0.0      0.0   \n50%        4.000000      0.0      0.0      0.0      0.0      0.0      0.0   \n75%        7.000000      0.0      0.0      0.0      0.0      0.0      0.0   \nmax        9.000000      0.0      0.0      0.0      0.0      0.0      0.0   \n\n        pixel6   pixel7   pixel8  ...      pixel774      pixel775  \\\ncount  42000.0  42000.0  42000.0  ...  42000.000000  42000.000000   \nmean       0.0      0.0      0.0  ...      0.219286      0.117095   \nstd        0.0      0.0      0.0  ...      6.312890      4.633819   \nmin        0.0      0.0      0.0  ...      0.000000      0.000000   \n25%        0.0      0.0      0.0  ...      0.000000      0.000000   \n50%        0.0      0.0      0.0  ...      0.000000      0.000000   \n75%        0.0      0.0      0.0  ...      0.000000      0.000000   \nmax        0.0      0.0      0.0  ...    254.000000    254.000000   \n\n           pixel776     pixel777      pixel778      pixel779  pixel780  \\\ncount  42000.000000  42000.00000  42000.000000  42000.000000   42000.0   \nmean       0.059024      0.02019      0.017238      0.002857       0.0   \nstd        3.274488      1.75987      1.894498      0.414264       0.0   \nmin        0.000000      0.00000      0.000000      0.000000       0.0   \n25%        0.000000      0.00000      0.000000      0.000000       0.0   \n50%        0.000000      0.00000      0.000000      0.000000       0.0   \n75%        0.000000      0.00000      0.000000      0.000000       0.0   \nmax      253.000000    253.00000    254.000000     62.000000       0.0   \n\n       pixel781  pixel782  pixel783  \ncount   42000.0   42000.0   42000.0  \nmean        0.0       0.0       0.0  \nstd         0.0       0.0       0.0  \nmin         0.0       0.0       0.0  \n25%         0.0       0.0       0.0  \n50%         0.0       0.0       0.0  \n75%         0.0       0.0       0.0  \nmax         0.0       0.0       0.0  \n\n[8 rows x 785 columns]",
      "text/html": "<div>\n<style scoped>\n    .dataframe tbody tr th:only-of-type {\n        vertical-align: middle;\n    }\n\n    .dataframe tbody tr th {\n        vertical-align: top;\n    }\n\n    .dataframe thead th {\n        text-align: right;\n    }\n</style>\n<table border=\"1\" class=\"dataframe\">\n  <thead>\n    <tr style=\"text-align: right;\">\n      <th></th>\n      <th>label</th>\n      <th>pixel0</th>\n      <th>pixel1</th>\n      <th>pixel2</th>\n      <th>pixel3</th>\n      <th>pixel4</th>\n      <th>pixel5</th>\n      <th>pixel6</th>\n      <th>pixel7</th>\n      <th>pixel8</th>\n      <th>...</th>\n      <th>pixel774</th>\n      <th>pixel775</th>\n      <th>pixel776</th>\n      <th>pixel777</th>\n      <th>pixel778</th>\n      <th>pixel779</th>\n      <th>pixel780</th>\n      <th>pixel781</th>\n      <th>pixel782</th>\n      <th>pixel783</th>\n    </tr>\n  </thead>\n  <tbody>\n    <tr>\n      <th>count</th>\n      <td>42000.000000</td>\n      <td>42000.0</td>\n      <td>42000.0</td>\n      <td>42000.0</td>\n      <td>42000.0</td>\n      <td>42000.0</td>\n      <td>42000.0</td>\n      <td>42000.0</td>\n      <td>42000.0</td>\n      <td>42000.0</td>\n      <td>...</td>\n      <td>42000.000000</td>\n      <td>42000.000000</td>\n      <td>42000.000000</td>\n      <td>42000.00000</td>\n      <td>42000.000000</td>\n      <td>42000.000000</td>\n      <td>42000.0</td>\n      <td>42000.0</td>\n      <td>42000.0</td>\n      <td>42000.0</td>\n    </tr>\n    <tr>\n      <th>mean</th>\n      <td>4.456643</td>\n      <td>0.0</td>\n      <td>0.0</td>\n      <td>0.0</td>\n      <td>0.0</td>\n      <td>0.0</td>\n      <td>0.0</td>\n      <td>0.0</td>\n      <td>0.0</td>\n      <td>0.0</td>\n      <td>...</td>\n      <td>0.219286</td>\n      <td>0.117095</td>\n      <td>0.059024</td>\n      <td>0.02019</td>\n      <td>0.017238</td>\n      <td>0.002857</td>\n      <td>0.0</td>\n      <td>0.0</td>\n      <td>0.0</td>\n      <td>0.0</td>\n    </tr>\n    <tr>\n      <th>std</th>\n      <td>2.887730</td>\n      <td>0.0</td>\n      <td>0.0</td>\n      <td>0.0</td>\n      <td>0.0</td>\n      <td>0.0</td>\n      <td>0.0</td>\n      <td>0.0</td>\n      <td>0.0</td>\n      <td>0.0</td>\n      <td>...</td>\n      <td>6.312890</td>\n      <td>4.633819</td>\n      <td>3.274488</td>\n      <td>1.75987</td>\n      <td>1.894498</td>\n      <td>0.414264</td>\n      <td>0.0</td>\n      <td>0.0</td>\n      <td>0.0</td>\n      <td>0.0</td>\n    </tr>\n    <tr>\n      <th>min</th>\n      <td>0.000000</td>\n      <td>0.0</td>\n      <td>0.0</td>\n      <td>0.0</td>\n      <td>0.0</td>\n      <td>0.0</td>\n      <td>0.0</td>\n      <td>0.0</td>\n      <td>0.0</td>\n      <td>0.0</td>\n      <td>...</td>\n      <td>0.000000</td>\n      <td>0.000000</td>\n      <td>0.000000</td>\n      <td>0.00000</td>\n      <td>0.000000</td>\n      <td>0.000000</td>\n      <td>0.0</td>\n      <td>0.0</td>\n      <td>0.0</td>\n      <td>0.0</td>\n    </tr>\n    <tr>\n      <th>25%</th>\n      <td>2.000000</td>\n      <td>0.0</td>\n      <td>0.0</td>\n      <td>0.0</td>\n      <td>0.0</td>\n      <td>0.0</td>\n      <td>0.0</td>\n      <td>0.0</td>\n      <td>0.0</td>\n      <td>0.0</td>\n      <td>...</td>\n      <td>0.000000</td>\n      <td>0.000000</td>\n      <td>0.000000</td>\n      <td>0.00000</td>\n      <td>0.000000</td>\n      <td>0.000000</td>\n      <td>0.0</td>\n      <td>0.0</td>\n      <td>0.0</td>\n      <td>0.0</td>\n    </tr>\n    <tr>\n      <th>50%</th>\n      <td>4.000000</td>\n      <td>0.0</td>\n      <td>0.0</td>\n      <td>0.0</td>\n      <td>0.0</td>\n      <td>0.0</td>\n      <td>0.0</td>\n      <td>0.0</td>\n      <td>0.0</td>\n      <td>0.0</td>\n      <td>...</td>\n      <td>0.000000</td>\n      <td>0.000000</td>\n      <td>0.000000</td>\n      <td>0.00000</td>\n      <td>0.000000</td>\n      <td>0.000000</td>\n      <td>0.0</td>\n      <td>0.0</td>\n      <td>0.0</td>\n      <td>0.0</td>\n    </tr>\n    <tr>\n      <th>75%</th>\n      <td>7.000000</td>\n      <td>0.0</td>\n      <td>0.0</td>\n      <td>0.0</td>\n      <td>0.0</td>\n      <td>0.0</td>\n      <td>0.0</td>\n      <td>0.0</td>\n      <td>0.0</td>\n      <td>0.0</td>\n      <td>...</td>\n      <td>0.000000</td>\n      <td>0.000000</td>\n      <td>0.000000</td>\n      <td>0.00000</td>\n      <td>0.000000</td>\n      <td>0.000000</td>\n      <td>0.0</td>\n      <td>0.0</td>\n      <td>0.0</td>\n      <td>0.0</td>\n    </tr>\n    <tr>\n      <th>max</th>\n      <td>9.000000</td>\n      <td>0.0</td>\n      <td>0.0</td>\n      <td>0.0</td>\n      <td>0.0</td>\n      <td>0.0</td>\n      <td>0.0</td>\n      <td>0.0</td>\n      <td>0.0</td>\n      <td>0.0</td>\n      <td>...</td>\n      <td>254.000000</td>\n      <td>254.000000</td>\n      <td>253.000000</td>\n      <td>253.00000</td>\n      <td>254.000000</td>\n      <td>62.000000</td>\n      <td>0.0</td>\n      <td>0.0</td>\n      <td>0.0</td>\n      <td>0.0</td>\n    </tr>\n  </tbody>\n</table>\n<p>8 rows × 785 columns</p>\n</div>"
     },
     "execution_count": 8,
     "metadata": {},
     "output_type": "execute_result"
    }
   ],
   "source": [
    "df_train.describe()"
   ],
   "metadata": {
    "collapsed": false
   }
  },
  {
   "cell_type": "markdown",
   "source": [
    "#### Reshapes"
   ],
   "metadata": {
    "collapsed": false
   }
  },
  {
   "cell_type": "code",
   "execution_count": 9,
   "outputs": [],
   "source": [
    "# Convert to numpy arrays\n",
    "x = x.to_numpy()\n",
    "y = y.to_numpy()\n",
    "test_npa = df_test.to_numpy()"
   ],
   "metadata": {
    "collapsed": false
   }
  },
  {
   "cell_type": "code",
   "execution_count": 10,
   "outputs": [],
   "source": [
    "# Updates shape to match image size 28x28x1 (only one channel per image)\n",
    "x = x.reshape(-1, 1, 28, 28)\n",
    "test_npa = test_npa.reshape(-1, 1, 28, 28)"
   ],
   "metadata": {
    "collapsed": false
   }
  },
  {
   "cell_type": "code",
   "execution_count": 11,
   "outputs": [],
   "source": [
    "# Divides the train set to train and validation\n",
    "X_train, X_dev, y_train, y_dev = train_test_split(x, y, test_size=0.2, random_state=8888)"
   ],
   "metadata": {
    "collapsed": false
   }
  },
  {
   "cell_type": "code",
   "execution_count": 12,
   "outputs": [],
   "source": [
    "# Defines augmentation transform\n",
    "transform = transforms.Compose([\n",
    "    transforms.RandomAffine(degrees=10, translate=(0.1, 0.1), scale=(0.9, 1.1))\n",
    "])"
   ],
   "metadata": {
    "collapsed": false
   }
  },
  {
   "cell_type": "markdown",
   "source": [
    "# Performs data augmentation"
   ],
   "metadata": {
    "collapsed": false
   }
  },
  {
   "cell_type": "code",
   "execution_count": 13,
   "outputs": [],
   "source": [
    "# Performs data augmentation\n",
    "augmented_x_train = []\n",
    "augmented_y_train = []\n",
    "num_augmentations = 30\n",
    "\n",
    "for x_a, y_a in zip(torch.tensor(X_train), y_train):\n",
    "    for i in range(num_augmentations):\n",
    "        augmented_x_train.append(transform(x_a))\n",
    "        augmented_y_train.append(y_a)\n",
    "    augmented_x_train.append(x_a)\n",
    "    augmented_y_train.append(y_a)\n",
    "\n",
    "#x = np.array(augmented_x)\n",
    "# Convert each tensor to a numpy array\n",
    "augmented_data_np = [x_t.numpy() for x_t in augmented_x_train]\n",
    "# Concatenate all numpy arrays along the first axis\n",
    "X_train = np.concatenate(augmented_data_np, axis=0)\n",
    "X_train = X_train.reshape(-1, 1, 28, 28)\n",
    "\n",
    "y_train = np.array(augmented_y_train)"
   ],
   "metadata": {
    "collapsed": false
   }
  },
  {
   "cell_type": "code",
   "execution_count": 14,
   "outputs": [],
   "source": [
    "augmented_x_dev = []\n",
    "augmented_y_dev = []\n",
    "num_augmentations = 30\n",
    "\n",
    "for x_a, y_a in zip(torch.tensor(X_dev), y_dev):\n",
    "    for i in range(num_augmentations):\n",
    "        augmented_x_dev.append(transform(x_a))\n",
    "        augmented_y_dev.append(y_a)\n",
    "    augmented_x_dev.append(x_a)\n",
    "    augmented_y_dev.append(y_a)\n",
    "\n",
    "#x = np.array(augmented_x)\n",
    "# Convert each tensor to a numpy array\n",
    "augmented_data_np = [x_t.numpy() for x_t in augmented_x_dev]\n",
    "# Concatenate all numpy arrays along the first axis\n",
    "X_dev = np.concatenate(augmented_data_np, axis=0)\n",
    "X_dev = X_dev.reshape(-1, 1, 28, 28)\n",
    "\n",
    "y_dev = np.array(augmented_y_dev)"
   ],
   "metadata": {
    "collapsed": false
   }
  },
  {
   "cell_type": "code",
   "execution_count": 15,
   "outputs": [
    {
     "name": "stdout",
     "output_type": "stream",
     "text": [
      "Train size: 1041600 Dev size: 260400\n"
     ]
    }
   ],
   "source": [
    "print(\"Train size: \" + str(len(X_train)) + \" Dev size: \" + str(len(X_dev)))"
   ],
   "metadata": {
    "collapsed": false
   }
  },
  {
   "cell_type": "code",
   "execution_count": 16,
   "outputs": [
    {
     "data": {
      "text/plain": "<Figure size 640x480 with 9 Axes>",
      "image/png": "[encoded data removed]"
     },
     "metadata": {},
     "output_type": "display_data"
    }
   ],
   "source": [
    "#train samples\n",
    "for i in range(0, 9):\n",
    "    plt.subplot(330 + (i+1))\n",
    "    plt.imshow(X_train[i].squeeze(), cmap=plt.get_cmap('gray'))\n",
    "    plt.axis('off')\n",
    "    plt.title(y_train[i])"
   ],
   "metadata": {
    "collapsed": false
   }
  },
  {
   "cell_type": "markdown",
   "source": [
    "#### Converts data to tensors and normalize them"
   ],
   "metadata": {
    "collapsed": false
   }
  },
  {
   "cell_type": "code",
   "execution_count": 17,
   "outputs": [],
   "source": [
    "#train\n",
    "X_train_tensor = torch.tensor(X_train)/255.0\n",
    "y_train_tensor = torch.tensor(y_train)\n",
    "train_tensor = TensorDataset(X_train_tensor, y_train_tensor)\n",
    "\n",
    "#val\n",
    "X_dev_tensor = torch.tensor(X_dev)/255.0\n",
    "y_dev_tensor = torch.tensor(y_dev)\n",
    "dev_tensor = TensorDataset(X_dev_tensor, y_dev_tensor)\n",
    "\n",
    "#test\n",
    "test_image_tensor = torch.tensor(test_npa)/255.0"
   ],
   "metadata": {
    "collapsed": false
   }
  },
  {
   "cell_type": "markdown",
   "source": [
    "#### Defines data loaders"
   ],
   "metadata": {
    "collapsed": false
   }
  },
  {
   "cell_type": "code",
   "execution_count": 18,
   "outputs": [],
   "source": [
    "train_loader = DataLoader(train_tensor, batch_size=64, num_workers=2, shuffle=True)\n",
    "dev_loader = DataLoader(dev_tensor, batch_size=64, num_workers=2, shuffle=True)\n",
    "test_loader = DataLoader(test_image_tensor, batch_size=64, num_workers=2, shuffle=False)"
   ],
   "metadata": {
    "collapsed": false
   }
  },
  {
   "cell_type": "markdown",
   "source": [
    "# Train the model"
   ],
   "metadata": {
    "collapsed": false
   }
  },
  {
   "cell_type": "code",
   "execution_count": 19,
   "outputs": [],
   "source": [
    "ensemble_size = 11"
   ],
   "metadata": {
    "collapsed": false
   }
  },
  {
   "cell_type": "code",
   "execution_count": 20,
   "outputs": [
    {
     "name": "stdout",
     "output_type": "stream",
     "text": [
      "-------------------------------[MyConNet6_0 train start]--------------------------------\n",
      "Current learning rate: [0.002]\n",
      "Train Epoch: 0 [208320/1041600 (20%)]\t\tLoss: 0.649567\n",
      "Train Epoch: 0 [416640/1041600 (40%)]\t\tLoss: 0.174610\n",
      "Train Epoch: 0 [624960/1041600 (60%)]\t\tLoss: 0.121068\n",
      "Train Epoch: 0 [833280/1041600 (80%)]\t\tLoss: 0.094502\n",
      "Train Epoch: 0 [1041600/1041600 (100%)]\t\tLoss: 0.081287\n",
      "Train Epoch: 0 Average Loss: 0.224207\n",
      "\n",
      "The loss after 1 epochs was 0.0321 \n",
      "\n",
      "Current learning rate: [0.001]\n",
      "Train Epoch: 1 [208320/1041600 (20%)]\t\tLoss: 0.065724\n",
      "Train Epoch: 1 [416640/1041600 (40%)]\t\tLoss: 0.062810\n",
      "Train Epoch: 1 [624960/1041600 (60%)]\t\tLoss: 0.055900\n",
      "Train Epoch: 1 [833280/1041600 (80%)]\t\tLoss: 0.054237\n",
      "Train Epoch: 1 [1041600/1041600 (100%)]\t\tLoss: 0.052012\n",
      "Train Epoch: 1 Average Loss: 0.058137\n",
      "\n",
      "The loss after 2 epochs was 0.0227 \n",
      "\n",
      "Current learning rate: [0.0005]\n",
      "Train Epoch: 2 [208320/1041600 (20%)]\t\tLoss: 0.045204\n",
      "Train Epoch: 2 [416640/1041600 (40%)]\t\tLoss: 0.043366\n",
      "Train Epoch: 2 [624960/1041600 (60%)]\t\tLoss: 0.043222\n",
      "Train Epoch: 2 [833280/1041600 (80%)]\t\tLoss: 0.041289\n",
      "Train Epoch: 2 [1041600/1041600 (100%)]\t\tLoss: 0.041737\n",
      "Train Epoch: 2 Average Loss: 0.042964\n",
      "\n",
      "The loss after 3 epochs was 0.0236\n",
      "The loss had increased since the last checkpoint, aborting training! \n",
      "\n",
      "--------------------------------[MyConNet6_0 train end]---------------------------------\n",
      "-------------------------------[MyConNet6_1 train start]--------------------------------\n",
      "Current learning rate: [0.002]\n",
      "Train Epoch: 0 [208320/1041600 (20%)]\t\tLoss: 0.612494\n",
      "Train Epoch: 0 [416640/1041600 (40%)]\t\tLoss: 0.172003\n",
      "Train Epoch: 0 [624960/1041600 (60%)]\t\tLoss: 0.117018\n",
      "Train Epoch: 0 [833280/1041600 (80%)]\t\tLoss: 0.094781\n",
      "Train Epoch: 0 [1041600/1041600 (100%)]\t\tLoss: 0.082789\n",
      "Train Epoch: 0 Average Loss: 0.215817\n",
      "\n",
      "The loss after 1 epochs was 0.0297 \n",
      "\n",
      "Current learning rate: [0.001]\n",
      "Train Epoch: 1 [208320/1041600 (20%)]\t\tLoss: 0.065245\n",
      "Train Epoch: 1 [416640/1041600 (40%)]\t\tLoss: 0.060665\n",
      "Train Epoch: 1 [624960/1041600 (60%)]\t\tLoss: 0.057360\n",
      "Train Epoch: 1 [833280/1041600 (80%)]\t\tLoss: 0.053660\n",
      "Train Epoch: 1 [1041600/1041600 (100%)]\t\tLoss: 0.051602\n",
      "Train Epoch: 1 Average Loss: 0.057706\n",
      "\n",
      "The loss after 2 epochs was 0.0253 \n",
      "\n",
      "Current learning rate: [0.0005]\n",
      "Train Epoch: 2 [208320/1041600 (20%)]\t\tLoss: 0.045671\n",
      "Train Epoch: 2 [416640/1041600 (40%)]\t\tLoss: 0.044105\n",
      "Train Epoch: 2 [624960/1041600 (60%)]\t\tLoss: 0.042586\n",
      "Train Epoch: 2 [833280/1041600 (80%)]\t\tLoss: 0.041859\n",
      "Train Epoch: 2 [1041600/1041600 (100%)]\t\tLoss: 0.040319\n",
      "Train Epoch: 2 Average Loss: 0.042908\n",
      "\n",
      "The loss after 3 epochs was 0.0229 \n",
      "\n",
      "Current learning rate: [0.00025]\n",
      "Train Epoch: 3 [208320/1041600 (20%)]\t\tLoss: 0.038749\n",
      "Train Epoch: 3 [416640/1041600 (40%)]\t\tLoss: 0.037550\n",
      "Train Epoch: 3 [624960/1041600 (60%)]\t\tLoss: 0.036782\n",
      "Train Epoch: 3 [833280/1041600 (80%)]\t\tLoss: 0.035404\n",
      "Train Epoch: 3 [1041600/1041600 (100%)]\t\tLoss: 0.036700\n",
      "Train Epoch: 3 Average Loss: 0.037037\n",
      "\n",
      "The loss after 4 epochs was 0.0235\n",
      "The loss had increased since the last checkpoint, aborting training! \n",
      "\n",
      "--------------------------------[MyConNet6_1 train end]---------------------------------\n",
      "-------------------------------[MyConNet6_2 train start]--------------------------------\n",
      "Current learning rate: [0.002]\n",
      "Train Epoch: 0 [208320/1041600 (20%)]\t\tLoss: 0.637473\n",
      "Train Epoch: 0 [416640/1041600 (40%)]\t\tLoss: 0.177944\n",
      "Train Epoch: 0 [624960/1041600 (60%)]\t\tLoss: 0.122081\n",
      "Train Epoch: 0 [833280/1041600 (80%)]\t\tLoss: 0.097794\n",
      "Train Epoch: 0 [1041600/1041600 (100%)]\t\tLoss: 0.084506\n",
      "Train Epoch: 0 Average Loss: 0.223960\n",
      "\n",
      "The loss after 1 epochs was 0.0288 \n",
      "\n",
      "Current learning rate: [0.001]\n",
      "Train Epoch: 1 [208320/1041600 (20%)]\t\tLoss: 0.066973\n",
      "Train Epoch: 1 [416640/1041600 (40%)]\t\tLoss: 0.062065\n",
      "Train Epoch: 1 [624960/1041600 (60%)]\t\tLoss: 0.058852\n",
      "Train Epoch: 1 [833280/1041600 (80%)]\t\tLoss: 0.055961\n",
      "Train Epoch: 1 [1041600/1041600 (100%)]\t\tLoss: 0.053425\n",
      "Train Epoch: 1 Average Loss: 0.059455\n",
      "\n",
      "The loss after 2 epochs was 0.0249 \n",
      "\n",
      "Current learning rate: [0.0005]\n",
      "Train Epoch: 2 [208320/1041600 (20%)]\t\tLoss: 0.046354\n",
      "Train Epoch: 2 [416640/1041600 (40%)]\t\tLoss: 0.045951\n",
      "Train Epoch: 2 [624960/1041600 (60%)]\t\tLoss: 0.043984\n",
      "Train Epoch: 2 [833280/1041600 (80%)]\t\tLoss: 0.041840\n",
      "Train Epoch: 2 [1041600/1041600 (100%)]\t\tLoss: 0.042670\n",
      "Train Epoch: 2 Average Loss: 0.044160\n",
      "\n",
      "The loss after 3 epochs was 0.0217 \n",
      "\n",
      "Current learning rate: [0.00025]\n",
      "Train Epoch: 3 [208320/1041600 (20%)]\t\tLoss: 0.039574\n",
      "Train Epoch: 3 [416640/1041600 (40%)]\t\tLoss: 0.038631\n",
      "Train Epoch: 3 [624960/1041600 (60%)]\t\tLoss: 0.036971\n",
      "Train Epoch: 3 [833280/1041600 (80%)]\t\tLoss: 0.036560\n",
      "Train Epoch: 3 [1041600/1041600 (100%)]\t\tLoss: 0.037506\n",
      "Train Epoch: 3 Average Loss: 0.037848\n",
      "\n",
      "The loss after 4 epochs was 0.0197 \n",
      "\n",
      "Current learning rate: [0.000125]\n",
      "Train Epoch: 4 [208320/1041600 (20%)]\t\tLoss: 0.035048\n",
      "Train Epoch: 4 [416640/1041600 (40%)]\t\tLoss: 0.035601\n",
      "Train Epoch: 4 [624960/1041600 (60%)]\t\tLoss: 0.035224\n",
      "Train Epoch: 4 [833280/1041600 (80%)]\t\tLoss: 0.034619\n",
      "Train Epoch: 4 [1041600/1041600 (100%)]\t\tLoss: 0.034689\n",
      "Train Epoch: 4 Average Loss: 0.035036\n",
      "\n",
      "The loss after 5 epochs was 0.0203\n",
      "The loss had increased since the last checkpoint, aborting training! \n",
      "\n",
      "--------------------------------[MyConNet6_2 train end]---------------------------------\n",
      "-------------------------------[MyConNet6_3 train start]--------------------------------\n",
      "Current learning rate: [0.002]\n",
      "Train Epoch: 0 [208320/1041600 (20%)]\t\tLoss: 0.621630\n",
      "Train Epoch: 0 [416640/1041600 (40%)]\t\tLoss: 0.167784\n",
      "Train Epoch: 0 [624960/1041600 (60%)]\t\tLoss: 0.114712\n",
      "Train Epoch: 0 [833280/1041600 (80%)]\t\tLoss: 0.090854\n",
      "Train Epoch: 0 [1041600/1041600 (100%)]\t\tLoss: 0.076238\n",
      "Train Epoch: 0 Average Loss: 0.214244\n",
      "\n",
      "The loss after 1 epochs was 0.0271 \n",
      "\n",
      "Current learning rate: [0.001]\n",
      "Train Epoch: 1 [208320/1041600 (20%)]\t\tLoss: 0.063292\n",
      "Train Epoch: 1 [416640/1041600 (40%)]\t\tLoss: 0.057403\n",
      "Train Epoch: 1 [624960/1041600 (60%)]\t\tLoss: 0.054649\n",
      "Train Epoch: 1 [833280/1041600 (80%)]\t\tLoss: 0.052170\n",
      "Train Epoch: 1 [1041600/1041600 (100%)]\t\tLoss: 0.049545\n",
      "Train Epoch: 1 Average Loss: 0.055412\n",
      "\n",
      "The loss after 2 epochs was 0.0237 \n",
      "\n",
      "Current learning rate: [0.0005]\n",
      "Train Epoch: 2 [208320/1041600 (20%)]\t\tLoss: 0.044039\n",
      "Train Epoch: 2 [416640/1041600 (40%)]\t\tLoss: 0.041990\n",
      "Train Epoch: 2 [624960/1041600 (60%)]\t\tLoss: 0.040002\n",
      "Train Epoch: 2 [833280/1041600 (80%)]\t\tLoss: 0.039242\n",
      "Train Epoch: 2 [1041600/1041600 (100%)]\t\tLoss: 0.039721\n",
      "Train Epoch: 2 Average Loss: 0.040999\n",
      "\n",
      "The loss after 3 epochs was 0.0214 \n",
      "\n",
      "Current learning rate: [0.00025]\n",
      "Train Epoch: 3 [208320/1041600 (20%)]\t\tLoss: 0.036107\n",
      "Train Epoch: 3 [416640/1041600 (40%)]\t\tLoss: 0.035864\n",
      "Train Epoch: 3 [624960/1041600 (60%)]\t\tLoss: 0.035338\n",
      "Train Epoch: 3 [833280/1041600 (80%)]\t\tLoss: 0.034327\n",
      "Train Epoch: 3 [1041600/1041600 (100%)]\t\tLoss: 0.034110\n",
      "Train Epoch: 3 Average Loss: 0.035149\n",
      "\n",
      "The loss after 4 epochs was 0.0219\n",
      "The loss had increased since the last checkpoint, aborting training! \n",
      "\n",
      "--------------------------------[MyConNet6_3 train end]---------------------------------\n",
      "-------------------------------[MyConNet6_4 train start]--------------------------------\n",
      "Current learning rate: [0.002]\n",
      "Train Epoch: 0 [208320/1041600 (20%)]\t\tLoss: 0.628431\n",
      "Train Epoch: 0 [416640/1041600 (40%)]\t\tLoss: 0.175859\n",
      "Train Epoch: 0 [624960/1041600 (60%)]\t\tLoss: 0.119595\n",
      "Train Epoch: 0 [833280/1041600 (80%)]\t\tLoss: 0.095753\n",
      "Train Epoch: 0 [1041600/1041600 (100%)]\t\tLoss: 0.082489\n",
      "Train Epoch: 0 Average Loss: 0.220425\n",
      "\n",
      "The loss after 1 epochs was 0.0324 \n",
      "\n",
      "Current learning rate: [0.001]\n",
      "Train Epoch: 1 [208320/1041600 (20%)]\t\tLoss: 0.066019\n",
      "Train Epoch: 1 [416640/1041600 (40%)]\t\tLoss: 0.061451\n",
      "Train Epoch: 1 [624960/1041600 (60%)]\t\tLoss: 0.057649\n",
      "Train Epoch: 1 [833280/1041600 (80%)]\t\tLoss: 0.055039\n",
      "Train Epoch: 1 [1041600/1041600 (100%)]\t\tLoss: 0.051528\n",
      "Train Epoch: 1 Average Loss: 0.058337\n",
      "\n",
      "The loss after 2 epochs was 0.0228 \n",
      "\n",
      "Current learning rate: [0.0005]\n",
      "Train Epoch: 2 [208320/1041600 (20%)]\t\tLoss: 0.046736\n",
      "Train Epoch: 2 [416640/1041600 (40%)]\t\tLoss: 0.043582\n",
      "Train Epoch: 2 [624960/1041600 (60%)]\t\tLoss: 0.043831\n",
      "Train Epoch: 2 [833280/1041600 (80%)]\t\tLoss: 0.041764\n",
      "Train Epoch: 2 [1041600/1041600 (100%)]\t\tLoss: 0.041076\n",
      "Train Epoch: 2 Average Loss: 0.043398\n",
      "\n",
      "The loss after 3 epochs was 0.0216 \n",
      "\n",
      "Current learning rate: [0.00025]\n",
      "Train Epoch: 3 [208320/1041600 (20%)]\t\tLoss: 0.037983\n",
      "Train Epoch: 3 [416640/1041600 (40%)]\t\tLoss: 0.037624\n",
      "Train Epoch: 3 [624960/1041600 (60%)]\t\tLoss: 0.037913\n",
      "Train Epoch: 3 [833280/1041600 (80%)]\t\tLoss: 0.036573\n",
      "Train Epoch: 3 [1041600/1041600 (100%)]\t\tLoss: 0.036150\n",
      "Train Epoch: 3 Average Loss: 0.037249\n",
      "\n",
      "The loss after 4 epochs was 0.0209 \n",
      "\n",
      "Current learning rate: [0.000125]\n",
      "Train Epoch: 4 [208320/1041600 (20%)]\t\tLoss: 0.034624\n",
      "Train Epoch: 4 [416640/1041600 (40%)]\t\tLoss: 0.034030\n",
      "Train Epoch: 4 [624960/1041600 (60%)]\t\tLoss: 0.035273\n",
      "Train Epoch: 4 [833280/1041600 (80%)]\t\tLoss: 0.033299\n",
      "Train Epoch: 4 [1041600/1041600 (100%)]\t\tLoss: 0.033782\n",
      "Train Epoch: 4 Average Loss: 0.034202\n",
      "\n",
      "The loss after 5 epochs was 0.0212\n",
      "The loss had increased since the last checkpoint, aborting training! \n",
      "\n",
      "--------------------------------[MyConNet6_4 train end]---------------------------------\n",
      "-------------------------------[MyConNet6_5 train start]--------------------------------\n",
      "Current learning rate: [0.002]\n",
      "Train Epoch: 0 [208320/1041600 (20%)]\t\tLoss: 0.651397\n",
      "Train Epoch: 0 [416640/1041600 (40%)]\t\tLoss: 0.172563\n",
      "Train Epoch: 0 [624960/1041600 (60%)]\t\tLoss: 0.116485\n",
      "Train Epoch: 0 [833280/1041600 (80%)]\t\tLoss: 0.094096\n",
      "Train Epoch: 0 [1041600/1041600 (100%)]\t\tLoss: 0.078958\n",
      "Train Epoch: 0 Average Loss: 0.222700\n",
      "\n",
      "The loss after 1 epochs was 0.0332 \n",
      "\n",
      "Current learning rate: [0.001]\n",
      "Train Epoch: 1 [208320/1041600 (20%)]\t\tLoss: 0.063606\n",
      "Train Epoch: 1 [416640/1041600 (40%)]\t\tLoss: 0.060414\n",
      "Train Epoch: 1 [624960/1041600 (60%)]\t\tLoss: 0.056327\n",
      "Train Epoch: 1 [833280/1041600 (80%)]\t\tLoss: 0.051866\n",
      "Train Epoch: 1 [1041600/1041600 (100%)]\t\tLoss: 0.050020\n",
      "Train Epoch: 1 Average Loss: 0.056447\n",
      "\n",
      "The loss after 2 epochs was 0.024 \n",
      "\n",
      "Current learning rate: [0.0005]\n",
      "Train Epoch: 2 [208320/1041600 (20%)]\t\tLoss: 0.045024\n",
      "Train Epoch: 2 [416640/1041600 (40%)]\t\tLoss: 0.041827\n",
      "Train Epoch: 2 [624960/1041600 (60%)]\t\tLoss: 0.041888\n",
      "Train Epoch: 2 [833280/1041600 (80%)]\t\tLoss: 0.040705\n",
      "Train Epoch: 2 [1041600/1041600 (100%)]\t\tLoss: 0.039298\n",
      "Train Epoch: 2 Average Loss: 0.041748\n",
      "\n",
      "The loss after 3 epochs was 0.0221 \n",
      "\n",
      "Current learning rate: [0.00025]\n",
      "Train Epoch: 3 [208320/1041600 (20%)]\t\tLoss: 0.036466\n",
      "Train Epoch: 3 [416640/1041600 (40%)]\t\tLoss: 0.036033\n",
      "Train Epoch: 3 [624960/1041600 (60%)]\t\tLoss: 0.035797\n",
      "Train Epoch: 3 [833280/1041600 (80%)]\t\tLoss: 0.034959\n",
      "Train Epoch: 3 [1041600/1041600 (100%)]\t\tLoss: 0.034540\n",
      "Train Epoch: 3 Average Loss: 0.035559\n",
      "\n",
      "The loss after 4 epochs was 0.0209 \n",
      "\n",
      "Current learning rate: [0.000125]\n",
      "Train Epoch: 4 [208320/1041600 (20%)]\t\tLoss: 0.033091\n",
      "Train Epoch: 4 [416640/1041600 (40%)]\t\tLoss: 0.033119\n",
      "Train Epoch: 4 [624960/1041600 (60%)]\t\tLoss: 0.032409\n",
      "Train Epoch: 4 [833280/1041600 (80%)]\t\tLoss: 0.032885\n",
      "Train Epoch: 4 [1041600/1041600 (100%)]\t\tLoss: 0.032773\n",
      "Train Epoch: 4 Average Loss: 0.032856\n",
      "\n",
      "The loss after 5 epochs was 0.0204 \n",
      "\n",
      "--------------------------------[MyConNet6_5 train end]---------------------------------\n",
      "-------------------------------[MyConNet6_6 train start]--------------------------------\n",
      "Current learning rate: [0.002]\n",
      "Train Epoch: 0 [208320/1041600 (20%)]\t\tLoss: 0.640091\n",
      "Train Epoch: 0 [416640/1041600 (40%)]\t\tLoss: 0.174200\n",
      "Train Epoch: 0 [624960/1041600 (60%)]\t\tLoss: 0.120725\n",
      "Train Epoch: 0 [833280/1041600 (80%)]\t\tLoss: 0.094607\n",
      "Train Epoch: 0 [1041600/1041600 (100%)]\t\tLoss: 0.080359\n",
      "Train Epoch: 0 Average Loss: 0.221996\n",
      "\n",
      "The loss after 1 epochs was 0.0295 \n",
      "\n",
      "Current learning rate: [0.001]\n",
      "Train Epoch: 1 [208320/1041600 (20%)]\t\tLoss: 0.065216\n",
      "Train Epoch: 1 [416640/1041600 (40%)]\t\tLoss: 0.059663\n",
      "Train Epoch: 1 [624960/1041600 (60%)]\t\tLoss: 0.056004\n",
      "Train Epoch: 1 [833280/1041600 (80%)]\t\tLoss: 0.054724\n",
      "Train Epoch: 1 [1041600/1041600 (100%)]\t\tLoss: 0.051422\n",
      "Train Epoch: 1 Average Loss: 0.057406\n",
      "\n",
      "The loss after 2 epochs was 0.0242 \n",
      "\n",
      "Current learning rate: [0.0005]\n",
      "Train Epoch: 2 [208320/1041600 (20%)]\t\tLoss: 0.046224\n",
      "Train Epoch: 2 [416640/1041600 (40%)]\t\tLoss: 0.043317\n",
      "Train Epoch: 2 [624960/1041600 (60%)]\t\tLoss: 0.042184\n",
      "Train Epoch: 2 [833280/1041600 (80%)]\t\tLoss: 0.040967\n",
      "Train Epoch: 2 [1041600/1041600 (100%)]\t\tLoss: 0.040364\n",
      "Train Epoch: 2 Average Loss: 0.042611\n",
      "\n",
      "The loss after 3 epochs was 0.0225 \n",
      "\n",
      "Current learning rate: [0.00025]\n",
      "Train Epoch: 3 [208320/1041600 (20%)]\t\tLoss: 0.037007\n",
      "Train Epoch: 3 [416640/1041600 (40%)]\t\tLoss: 0.036136\n",
      "Train Epoch: 3 [624960/1041600 (60%)]\t\tLoss: 0.037021\n",
      "Train Epoch: 3 [833280/1041600 (80%)]\t\tLoss: 0.036563\n",
      "Train Epoch: 3 [1041600/1041600 (100%)]\t\tLoss: 0.035891\n",
      "Train Epoch: 3 Average Loss: 0.036524\n",
      "\n",
      "The loss after 4 epochs was 0.021 \n",
      "\n",
      "Current learning rate: [0.000125]\n",
      "Train Epoch: 4 [208320/1041600 (20%)]\t\tLoss: 0.033441\n",
      "Train Epoch: 4 [416640/1041600 (40%)]\t\tLoss: 0.034720\n",
      "Train Epoch: 4 [624960/1041600 (60%)]\t\tLoss: 0.033555\n",
      "Train Epoch: 4 [833280/1041600 (80%)]\t\tLoss: 0.033932\n",
      "Train Epoch: 4 [1041600/1041600 (100%)]\t\tLoss: 0.033515\n",
      "Train Epoch: 4 Average Loss: 0.033833\n",
      "\n",
      "The loss after 5 epochs was 0.0203 \n",
      "\n",
      "--------------------------------[MyConNet6_6 train end]---------------------------------\n",
      "-------------------------------[MyConNet6_7 train start]--------------------------------\n",
      "Current learning rate: [0.002]\n",
      "Train Epoch: 0 [208320/1041600 (20%)]\t\tLoss: 0.628342\n",
      "Train Epoch: 0 [416640/1041600 (40%)]\t\tLoss: 0.171223\n",
      "Train Epoch: 0 [624960/1041600 (60%)]\t\tLoss: 0.117501\n",
      "Train Epoch: 0 [833280/1041600 (80%)]\t\tLoss: 0.094632\n",
      "Train Epoch: 0 [1041600/1041600 (100%)]\t\tLoss: 0.078451\n",
      "Train Epoch: 0 Average Loss: 0.218030\n",
      "\n",
      "The loss after 1 epochs was 0.0304 \n",
      "\n",
      "Current learning rate: [0.001]\n",
      "Train Epoch: 1 [208320/1041600 (20%)]\t\tLoss: 0.065382\n",
      "Train Epoch: 1 [416640/1041600 (40%)]\t\tLoss: 0.059622\n",
      "Train Epoch: 1 [624960/1041600 (60%)]\t\tLoss: 0.057588\n",
      "Train Epoch: 1 [833280/1041600 (80%)]\t\tLoss: 0.053894\n",
      "Train Epoch: 1 [1041600/1041600 (100%)]\t\tLoss: 0.050541\n",
      "Train Epoch: 1 Average Loss: 0.057405\n",
      "\n",
      "The loss after 2 epochs was 0.025 \n",
      "\n",
      "Current learning rate: [0.0005]\n",
      "Train Epoch: 2 [208320/1041600 (20%)]\t\tLoss: 0.043921\n",
      "Train Epoch: 2 [416640/1041600 (40%)]\t\tLoss: 0.043465\n",
      "Train Epoch: 2 [624960/1041600 (60%)]\t\tLoss: 0.042372\n",
      "Train Epoch: 2 [833280/1041600 (80%)]\t\tLoss: 0.041430\n",
      "Train Epoch: 2 [1041600/1041600 (100%)]\t\tLoss: 0.040197\n",
      "Train Epoch: 2 Average Loss: 0.042277\n",
      "\n",
      "The loss after 3 epochs was 0.022 \n",
      "\n",
      "Current learning rate: [0.00025]\n",
      "Train Epoch: 3 [208320/1041600 (20%)]\t\tLoss: 0.037160\n",
      "Train Epoch: 3 [416640/1041600 (40%)]\t\tLoss: 0.037152\n",
      "Train Epoch: 3 [624960/1041600 (60%)]\t\tLoss: 0.036243\n",
      "Train Epoch: 3 [833280/1041600 (80%)]\t\tLoss: 0.035595\n",
      "Train Epoch: 3 [1041600/1041600 (100%)]\t\tLoss: 0.035697\n",
      "Train Epoch: 3 Average Loss: 0.036369\n",
      "\n",
      "The loss after 4 epochs was 0.0214 \n",
      "\n",
      "Current learning rate: [0.000125]\n",
      "Train Epoch: 4 [208320/1041600 (20%)]\t\tLoss: 0.034257\n",
      "Train Epoch: 4 [416640/1041600 (40%)]\t\tLoss: 0.034399\n",
      "Train Epoch: 4 [624960/1041600 (60%)]\t\tLoss: 0.034423\n",
      "Train Epoch: 4 [833280/1041600 (80%)]\t\tLoss: 0.033518\n",
      "Train Epoch: 4 [1041600/1041600 (100%)]\t\tLoss: 0.033906\n",
      "Train Epoch: 4 Average Loss: 0.034100\n",
      "\n",
      "The loss after 5 epochs was 0.0216\n",
      "The loss had increased since the last checkpoint, aborting training! \n",
      "\n",
      "--------------------------------[MyConNet6_7 train end]---------------------------------\n",
      "-------------------------------[MyConNet6_8 train start]--------------------------------\n",
      "Current learning rate: [0.002]\n",
      "Train Epoch: 0 [208320/1041600 (20%)]\t\tLoss: 0.625718\n",
      "Train Epoch: 0 [416640/1041600 (40%)]\t\tLoss: 0.170500\n",
      "Train Epoch: 0 [624960/1041600 (60%)]\t\tLoss: 0.118429\n",
      "Train Epoch: 0 [833280/1041600 (80%)]\t\tLoss: 0.095695\n",
      "Train Epoch: 0 [1041600/1041600 (100%)]\t\tLoss: 0.080806\n",
      "Train Epoch: 0 Average Loss: 0.218230\n",
      "\n",
      "The loss after 1 epochs was 0.0302 \n",
      "\n",
      "Current learning rate: [0.001]\n",
      "Train Epoch: 1 [208320/1041600 (20%)]\t\tLoss: 0.065116\n",
      "Train Epoch: 1 [416640/1041600 (40%)]\t\tLoss: 0.060441\n",
      "Train Epoch: 1 [624960/1041600 (60%)]\t\tLoss: 0.056441\n",
      "Train Epoch: 1 [833280/1041600 (80%)]\t\tLoss: 0.054444\n",
      "Train Epoch: 1 [1041600/1041600 (100%)]\t\tLoss: 0.051352\n",
      "Train Epoch: 1 Average Loss: 0.057559\n",
      "\n",
      "The loss after 2 epochs was 0.0244 \n",
      "\n",
      "Current learning rate: [0.0005]\n",
      "Train Epoch: 2 [208320/1041600 (20%)]\t\tLoss: 0.044875\n",
      "Train Epoch: 2 [416640/1041600 (40%)]\t\tLoss: 0.043095\n",
      "Train Epoch: 2 [624960/1041600 (60%)]\t\tLoss: 0.043348\n",
      "Train Epoch: 2 [833280/1041600 (80%)]\t\tLoss: 0.041022\n",
      "Train Epoch: 2 [1041600/1041600 (100%)]\t\tLoss: 0.039614\n",
      "Train Epoch: 2 Average Loss: 0.042391\n",
      "\n",
      "The loss after 3 epochs was 0.0237 \n",
      "\n",
      "Current learning rate: [0.00025]\n",
      "Train Epoch: 3 [208320/1041600 (20%)]\t\tLoss: 0.037454\n",
      "Train Epoch: 3 [416640/1041600 (40%)]\t\tLoss: 0.036878\n",
      "Train Epoch: 3 [624960/1041600 (60%)]\t\tLoss: 0.036455\n",
      "Train Epoch: 3 [833280/1041600 (80%)]\t\tLoss: 0.035552\n",
      "Train Epoch: 3 [1041600/1041600 (100%)]\t\tLoss: 0.036024\n",
      "Train Epoch: 3 Average Loss: 0.036472\n",
      "\n",
      "The loss after 4 epochs was 0.0221 \n",
      "\n",
      "Current learning rate: [0.000125]\n",
      "Train Epoch: 4 [208320/1041600 (20%)]\t\tLoss: 0.034034\n",
      "Train Epoch: 4 [416640/1041600 (40%)]\t\tLoss: 0.032700\n",
      "Train Epoch: 4 [624960/1041600 (60%)]\t\tLoss: 0.033347\n",
      "Train Epoch: 4 [833280/1041600 (80%)]\t\tLoss: 0.034121\n",
      "Train Epoch: 4 [1041600/1041600 (100%)]\t\tLoss: 0.033660\n",
      "Train Epoch: 4 Average Loss: 0.033572\n",
      "\n",
      "The loss after 5 epochs was 0.021 \n",
      "\n",
      "--------------------------------[MyConNet6_8 train end]---------------------------------\n",
      "-------------------------------[MyConNet6_9 train start]--------------------------------\n",
      "Current learning rate: [0.002]\n",
      "Train Epoch: 0 [208320/1041600 (20%)]\t\tLoss: 0.620003\n",
      "Train Epoch: 0 [416640/1041600 (40%)]\t\tLoss: 0.167394\n",
      "Train Epoch: 0 [624960/1041600 (60%)]\t\tLoss: 0.115946\n",
      "Train Epoch: 0 [833280/1041600 (80%)]\t\tLoss: 0.091237\n",
      "Train Epoch: 0 [1041600/1041600 (100%)]\t\tLoss: 0.078660\n",
      "Train Epoch: 0 Average Loss: 0.214648\n",
      "\n",
      "The loss after 1 epochs was 0.0279 \n",
      "\n",
      "Current learning rate: [0.001]\n",
      "Train Epoch: 1 [208320/1041600 (20%)]\t\tLoss: 0.063655\n",
      "Train Epoch: 1 [416640/1041600 (40%)]\t\tLoss: 0.058868\n",
      "Train Epoch: 1 [624960/1041600 (60%)]\t\tLoss: 0.055291\n",
      "Train Epoch: 1 [833280/1041600 (80%)]\t\tLoss: 0.052196\n",
      "Train Epoch: 1 [1041600/1041600 (100%)]\t\tLoss: 0.050793\n",
      "Train Epoch: 1 Average Loss: 0.056160\n",
      "\n",
      "The loss after 2 epochs was 0.0217 \n",
      "\n",
      "Current learning rate: [0.0005]\n",
      "Train Epoch: 2 [208320/1041600 (20%)]\t\tLoss: 0.043785\n",
      "Train Epoch: 2 [416640/1041600 (40%)]\t\tLoss: 0.041646\n",
      "Train Epoch: 2 [624960/1041600 (60%)]\t\tLoss: 0.039804\n",
      "Train Epoch: 2 [833280/1041600 (80%)]\t\tLoss: 0.041038\n",
      "Train Epoch: 2 [1041600/1041600 (100%)]\t\tLoss: 0.038109\n",
      "Train Epoch: 2 Average Loss: 0.040876\n",
      "\n",
      "The loss after 3 epochs was 0.0214 \n",
      "\n",
      "Current learning rate: [0.00025]\n",
      "Train Epoch: 3 [208320/1041600 (20%)]\t\tLoss: 0.036189\n",
      "Train Epoch: 3 [416640/1041600 (40%)]\t\tLoss: 0.035338\n",
      "Train Epoch: 3 [624960/1041600 (60%)]\t\tLoss: 0.034857\n",
      "Train Epoch: 3 [833280/1041600 (80%)]\t\tLoss: 0.034837\n",
      "Train Epoch: 3 [1041600/1041600 (100%)]\t\tLoss: 0.034485\n",
      "Train Epoch: 3 Average Loss: 0.035141\n",
      "\n",
      "The loss after 4 epochs was 0.0213 \n",
      "\n",
      "Current learning rate: [0.000125]\n",
      "Train Epoch: 4 [208320/1041600 (20%)]\t\tLoss: 0.033051\n",
      "Train Epoch: 4 [416640/1041600 (40%)]\t\tLoss: 0.032832\n",
      "Train Epoch: 4 [624960/1041600 (60%)]\t\tLoss: 0.032176\n",
      "Train Epoch: 4 [833280/1041600 (80%)]\t\tLoss: 0.032028\n",
      "Train Epoch: 4 [1041600/1041600 (100%)]\t\tLoss: 0.032620\n",
      "Train Epoch: 4 Average Loss: 0.032541\n",
      "\n",
      "The loss after 5 epochs was 0.0204 \n",
      "\n",
      "--------------------------------[MyConNet6_9 train end]---------------------------------\n",
      "-------------------------------[MyConNet6_10 train start]--------------------------------\n",
      "Current learning rate: [0.002]\n",
      "Train Epoch: 0 [208320/1041600 (20%)]\t\tLoss: 0.622127\n",
      "Train Epoch: 0 [416640/1041600 (40%)]\t\tLoss: 0.169348\n",
      "Train Epoch: 0 [624960/1041600 (60%)]\t\tLoss: 0.119050\n",
      "Train Epoch: 0 [833280/1041600 (80%)]\t\tLoss: 0.095578\n",
      "Train Epoch: 0 [1041600/1041600 (100%)]\t\tLoss: 0.078687\n",
      "Train Epoch: 0 Average Loss: 0.216958\n",
      "\n",
      "The loss after 1 epochs was 0.0284 \n",
      "\n",
      "Current learning rate: [0.001]\n",
      "Train Epoch: 1 [208320/1041600 (20%)]\t\tLoss: 0.064734\n",
      "Train Epoch: 1 [416640/1041600 (40%)]\t\tLoss: 0.059404\n",
      "Train Epoch: 1 [624960/1041600 (60%)]\t\tLoss: 0.056905\n",
      "Train Epoch: 1 [833280/1041600 (80%)]\t\tLoss: 0.053931\n",
      "Train Epoch: 1 [1041600/1041600 (100%)]\t\tLoss: 0.051254\n",
      "Train Epoch: 1 Average Loss: 0.057246\n",
      "\n",
      "The loss after 2 epochs was 0.0237 \n",
      "\n",
      "Current learning rate: [0.0005]\n",
      "Train Epoch: 2 [208320/1041600 (20%)]\t\tLoss: 0.044593\n",
      "Train Epoch: 2 [416640/1041600 (40%)]\t\tLoss: 0.043319\n",
      "Train Epoch: 2 [624960/1041600 (60%)]\t\tLoss: 0.042472\n",
      "Train Epoch: 2 [833280/1041600 (80%)]\t\tLoss: 0.041406\n",
      "Train Epoch: 2 [1041600/1041600 (100%)]\t\tLoss: 0.039921\n",
      "Train Epoch: 2 Average Loss: 0.042342\n",
      "\n",
      "The loss after 3 epochs was 0.0207 \n",
      "\n",
      "Current learning rate: [0.00025]\n",
      "Train Epoch: 3 [208320/1041600 (20%)]\t\tLoss: 0.037992\n",
      "Train Epoch: 3 [416640/1041600 (40%)]\t\tLoss: 0.036582\n",
      "Train Epoch: 3 [624960/1041600 (60%)]\t\tLoss: 0.035539\n",
      "Train Epoch: 3 [833280/1041600 (80%)]\t\tLoss: 0.035503\n",
      "Train Epoch: 3 [1041600/1041600 (100%)]\t\tLoss: 0.034787\n",
      "Train Epoch: 3 Average Loss: 0.036081\n",
      "\n",
      "The loss after 4 epochs was 0.0206 \n",
      "\n",
      "Current learning rate: [0.000125]\n",
      "Train Epoch: 4 [208320/1041600 (20%)]\t\tLoss: 0.034054\n",
      "Train Epoch: 4 [416640/1041600 (40%)]\t\tLoss: 0.033024\n",
      "Train Epoch: 4 [624960/1041600 (60%)]\t\tLoss: 0.034494\n",
      "Train Epoch: 4 [833280/1041600 (80%)]\t\tLoss: 0.033022\n",
      "Train Epoch: 4 [1041600/1041600 (100%)]\t\tLoss: 0.032745\n",
      "Train Epoch: 4 Average Loss: 0.033468\n",
      "\n",
      "The loss after 5 epochs was 0.0203 \n",
      "\n",
      "--------------------------------[MyConNet6_10 train end]---------------------------------\n"
     ]
    }
   ],
   "source": [
    "for i in range(0, ensemble_size):\n",
    "    print(\"-------------------------------[MyConNet6_{} train start]--------------------------------\".format(i))\n",
    "    model = MyConNet6()\n",
    "    loss_function = torch.nn.CrossEntropyLoss()\n",
    "    optimizer = torch.optim.SGD(model.parameters(), lr=0.002, momentum=0.5)\n",
    "    #optimizer = torch.optim.Adam(model.parameters(), lr=0.005)\n",
    "    lr_scheduler = torch.optim.lr_scheduler.ExponentialLR(optimizer, 0.5)\n",
    "    trainer = MyTrainer(model, optimizer, loss_function, lr_scheduler)\n",
    "\n",
    "    if torch.cuda.is_available():\n",
    "        model = model.cuda()\n",
    "        loss_function = loss_function.cuda()\n",
    "\n",
    "    trainer.fit(train_loader, dev_loader, epochs=5, eval_every=1, sub_epoch_logs=True, sub_epoch_percentile=0.05)\n",
    "\n",
    "    torch.save(model.state_dict(), \"models/MyConNet6_\" + str(i) + \".pt\")\n",
    "    print(\"--------------------------------[MyConNet6_{} train end]---------------------------------\".format(i))"
   ],
   "metadata": {
    "collapsed": false
   }
  },
  {
   "cell_type": "markdown",
   "source": [
    "# Make predictions on the test set"
   ],
   "metadata": {
    "collapsed": false
   }
  },
  {
   "cell_type": "code",
   "execution_count": 21,
   "outputs": [],
   "source": [
    "model_predictions = []\n",
    "\n",
    "def make_predictions(eval_model, data_loader):\n",
    "    eval_model.eval()\n",
    "    if torch.cuda.is_available():\n",
    "        eval_model = eval_model.cuda()\n",
    "    test_predictions = torch.LongTensor().cuda()\n",
    "\n",
    "    for batch_idx, data in enumerate(data_loader):\n",
    "        if torch.cuda.is_available():\n",
    "            data = data.cuda()\n",
    "\n",
    "        output = eval_model(data)\n",
    "        predictions = torch.max(output, dim=1)[1]\n",
    "        test_predictions = torch.cat((test_predictions, predictions), dim=0)\n",
    "\n",
    "    return np.asarray(test_predictions.cpu())\n",
    "\n",
    "for i in range(0, ensemble_size):\n",
    "    model = MyConNet6()\n",
    "    model.load_state_dict(torch.load(\"models/MyConNet6_\" + str(i) + \".pt\"))\n",
    "    model_predictions.append(make_predictions(model, test_loader))"
   ],
   "metadata": {
    "collapsed": false
   }
  },
  {
   "cell_type": "code",
   "execution_count": 22,
   "outputs": [
    {
     "data": {
      "text/plain": "array([[2, 2, 2, ..., 2, 2, 2],\n       [0, 0, 0, ..., 0, 0, 0],\n       [9, 9, 9, ..., 9, 9, 9],\n       ...,\n       [3, 3, 3, ..., 3, 3, 3],\n       [9, 9, 9, ..., 9, 9, 9],\n       [2, 2, 2, ..., 2, 2, 2]], dtype=int64)"
     },
     "execution_count": 22,
     "metadata": {},
     "output_type": "execute_result"
    }
   ],
   "source": [
    "np.asarray(model_predictions).T"
   ],
   "metadata": {
    "collapsed": false
   }
  },
  {
   "cell_type": "code",
   "execution_count": 23,
   "outputs": [
    {
     "data": {
      "text/plain": "       ImageId  Label\n0            1      2\n1            2      0\n2            3      9\n3            4      0\n4            5      3\n...        ...    ...\n27995    27996      9\n27996    27997      7\n27997    27998      3\n27998    27999      9\n27999    28000      2\n\n[28000 rows x 2 columns]",
      "text/html": "<div>\n<style scoped>\n    .dataframe tbody tr th:only-of-type {\n        vertical-align: middle;\n    }\n\n    .dataframe tbody tr th {\n        vertical-align: top;\n    }\n\n    .dataframe thead th {\n        text-align: right;\n    }\n</style>\n<table border=\"1\" class=\"dataframe\">\n  <thead>\n    <tr style=\"text-align: right;\">\n      <th></th>\n      <th>ImageId</th>\n      <th>Label</th>\n    </tr>\n  </thead>\n  <tbody>\n    <tr>\n      <th>0</th>\n      <td>1</td>\n      <td>2</td>\n    </tr>\n    <tr>\n      <th>1</th>\n      <td>2</td>\n      <td>0</td>\n    </tr>\n    <tr>\n      <th>2</th>\n      <td>3</td>\n      <td>9</td>\n    </tr>\n    <tr>\n      <th>3</th>\n      <td>4</td>\n      <td>0</td>\n    </tr>\n    <tr>\n      <th>4</th>\n      <td>5</td>\n      <td>3</td>\n    </tr>\n    <tr>\n      <th>...</th>\n      <td>...</td>\n      <td>...</td>\n    </tr>\n    <tr>\n      <th>27995</th>\n      <td>27996</td>\n      <td>9</td>\n    </tr>\n    <tr>\n      <th>27996</th>\n      <td>27997</td>\n      <td>7</td>\n    </tr>\n    <tr>\n      <th>27997</th>\n      <td>27998</td>\n      <td>3</td>\n    </tr>\n    <tr>\n      <th>27998</th>\n      <td>27999</td>\n      <td>9</td>\n    </tr>\n    <tr>\n      <th>27999</th>\n      <td>28000</td>\n      <td>2</td>\n    </tr>\n  </tbody>\n</table>\n<p>28000 rows × 2 columns</p>\n</div>"
     },
     "execution_count": 23,
     "metadata": {},
     "output_type": "execute_result"
    }
   ],
   "source": [
    "finale_predictions = np.apply_along_axis(lambda x: np.bincount(x).argmax(), axis=0, arr=np.asarray(model_predictions))\n",
    "submissions = pd.DataFrame({\"ImageId\": list(range(1,len(finale_predictions.squeeze())+1)),\"Label\": finale_predictions})\n",
    "submissions"
   ],
   "metadata": {
    "collapsed": false
   }
  },
  {
   "cell_type": "code",
   "execution_count": 24,
   "outputs": [],
   "source": [
    "pd.DataFrame(submissions).to_csv(\"submission.csv\", index=False, header=True)"
   ],
   "metadata": {
    "collapsed": false
   }
  },
  {
   "cell_type": "code",
   "execution_count": 24,
   "outputs": [],
   "source": [],
   "metadata": {
    "collapsed": false
   }
  }
 ],
 "metadata": {
  "kernelspec": {
   "display_name": "Python 3",
   "language": "python",
   "name": "python3"
  },
  "language_info": {
   "codemirror_mode": {
    "name": "ipython",
    "version": 2
   },
   "file_extension": ".py",
   "mimetype": "text/x-python",
   "name": "python",
   "nbconvert_exporter": "python",
   "pygments_lexer": "ipython2",
   "version": "2.7.6"
  }
 },
 "nbformat": 4,
 "nbformat_minor": 0
}
