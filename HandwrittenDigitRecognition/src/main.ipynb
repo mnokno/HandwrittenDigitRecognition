{
 "cells": [
  {
   "cell_type": "markdown",
   "source": [
    "# Imports"
   ],
   "metadata": {
    "collapsed": false
   }
  },
  {
   "cell_type": "code",
   "execution_count": 1,
   "outputs": [],
   "source": [
    "import numpy as np\n",
    "import pandas as pd\n",
    "import torchvision.transforms as transforms\n",
    "import matplotlib.pyplot as plt\n",
    "import torch\n",
    "import os\n",
    "from torch.utils.data import TensorDataset\n",
    "from sklearn.model_selection import train_test_split\n",
    "from torch.utils.data import DataLoader\n",
    "from trainer import MyTrainer\n",
    "from models import *"
   ],
   "metadata": {
    "collapsed": false
   }
  },
  {
   "cell_type": "markdown",
   "source": [
    "# Checks for CUDA"
   ],
   "metadata": {
    "collapsed": false
   }
  },
  {
   "cell_type": "code",
   "execution_count": 2,
   "outputs": [
    {
     "name": "stdout",
     "output_type": "stream",
     "text": [
      "Cuda available: True\n",
      "Cuda enabled: True\n",
      "Compute device: cuda\n"
     ]
    }
   ],
   "source": [
    "print(\"Cuda available: \" + str(torch.cuda.is_available()))\n",
    "print(\"Cuda enabled: \" + str(torch.backends.cudnn.enabled))\n",
    "\n",
    "if torch.cuda.is_available():\n",
    "    device = torch.device('cuda')\n",
    "else:\n",
    "    device = torch.device('cpu')\n",
    "\n",
    "print(\"Compute device: \" + str(torch.device('cuda')))"
   ],
   "metadata": {
    "collapsed": false
   }
  },
  {
   "cell_type": "markdown",
   "source": [
    "# Path management"
   ],
   "metadata": {
    "collapsed": false
   }
  },
  {
   "cell_type": "code",
   "execution_count": 3,
   "outputs": [],
   "source": [
    "base: str\n",
    "if os.getcwd() == \"/kaggle/working\":\n",
    "    base = \"/kaggle\"\n",
    "else:\n",
    "    base = os.getcwd()\n",
    "\n",
    "def get_full_dir(sub_dir: str) -> str:\n",
    "    return os.path.join(base, sub_dir)"
   ],
   "metadata": {
    "collapsed": false
   }
  },
  {
   "cell_type": "markdown",
   "source": [
    "# Data prep"
   ],
   "metadata": {
    "collapsed": false
   }
  },
  {
   "cell_type": "markdown",
   "source": [
    "#### Loads the data"
   ],
   "metadata": {
    "collapsed": false
   }
  },
  {
   "cell_type": "code",
   "execution_count": 4,
   "outputs": [],
   "source": [
    "train_path = get_full_dir(\"input/digit-recognizer/train.csv\")\n",
    "test_path = get_full_dir(\"input/digit-recognizer/test.csv\")"
   ],
   "metadata": {
    "collapsed": false
   }
  },
  {
   "cell_type": "code",
   "execution_count": 5,
   "outputs": [],
   "source": [
    "df_train = pd.read_csv(train_path)\n",
    "df_test = pd.read_csv(test_path)"
   ],
   "metadata": {
    "collapsed": false
   }
  },
  {
   "cell_type": "markdown",
   "source": [],
   "metadata": {
    "collapsed": false
   }
  },
  {
   "cell_type": "markdown",
   "source": [
    "#### Formats data"
   ],
   "metadata": {
    "collapsed": false
   }
  },
  {
   "cell_type": "code",
   "execution_count": 6,
   "outputs": [],
   "source": [
    "# Separates labels\n",
    "x = df_train.drop(labels=\"label\", axis=1)\n",
    "y = df_train[\"label\"]"
   ],
   "metadata": {
    "collapsed": false
   }
  },
  {
   "cell_type": "markdown",
   "source": [
    "#### Data overview"
   ],
   "metadata": {
    "collapsed": false
   }
  },
  {
   "cell_type": "code",
   "execution_count": 7,
   "outputs": [
    {
     "data": {
      "text/plain": "   label  pixel0  pixel1  pixel2  pixel3  pixel4  pixel5  pixel6  pixel7  \\\n0      1       0       0       0       0       0       0       0       0   \n1      0       0       0       0       0       0       0       0       0   \n2      1       0       0       0       0       0       0       0       0   \n3      4       0       0       0       0       0       0       0       0   \n4      0       0       0       0       0       0       0       0       0   \n\n   pixel8  ...  pixel774  pixel775  pixel776  pixel777  pixel778  pixel779  \\\n0       0  ...         0         0         0         0         0         0   \n1       0  ...         0         0         0         0         0         0   \n2       0  ...         0         0         0         0         0         0   \n3       0  ...         0         0         0         0         0         0   \n4       0  ...         0         0         0         0         0         0   \n\n   pixel780  pixel781  pixel782  pixel783  \n0         0         0         0         0  \n1         0         0         0         0  \n2         0         0         0         0  \n3         0         0         0         0  \n4         0         0         0         0  \n\n[5 rows x 785 columns]",
      "text/html": "<div>\n<style scoped>\n    .dataframe tbody tr th:only-of-type {\n        vertical-align: middle;\n    }\n\n    .dataframe tbody tr th {\n        vertical-align: top;\n    }\n\n    .dataframe thead th {\n        text-align: right;\n    }\n</style>\n<table border=\"1\" class=\"dataframe\">\n  <thead>\n    <tr style=\"text-align: right;\">\n      <th></th>\n      <th>label</th>\n      <th>pixel0</th>\n      <th>pixel1</th>\n      <th>pixel2</th>\n      <th>pixel3</th>\n      <th>pixel4</th>\n      <th>pixel5</th>\n      <th>pixel6</th>\n      <th>pixel7</th>\n      <th>pixel8</th>\n      <th>...</th>\n      <th>pixel774</th>\n      <th>pixel775</th>\n      <th>pixel776</th>\n      <th>pixel777</th>\n      <th>pixel778</th>\n      <th>pixel779</th>\n      <th>pixel780</th>\n      <th>pixel781</th>\n      <th>pixel782</th>\n      <th>pixel783</th>\n    </tr>\n  </thead>\n  <tbody>\n    <tr>\n      <th>0</th>\n      <td>1</td>\n      <td>0</td>\n      <td>0</td>\n      <td>0</td>\n      <td>0</td>\n      <td>0</td>\n      <td>0</td>\n      <td>0</td>\n      <td>0</td>\n      <td>0</td>\n      <td>...</td>\n      <td>0</td>\n      <td>0</td>\n      <td>0</td>\n      <td>0</td>\n      <td>0</td>\n      <td>0</td>\n      <td>0</td>\n      <td>0</td>\n      <td>0</td>\n      <td>0</td>\n    </tr>\n    <tr>\n      <th>1</th>\n      <td>0</td>\n      <td>0</td>\n      <td>0</td>\n      <td>0</td>\n      <td>0</td>\n      <td>0</td>\n      <td>0</td>\n      <td>0</td>\n      <td>0</td>\n      <td>0</td>\n      <td>...</td>\n      <td>0</td>\n      <td>0</td>\n      <td>0</td>\n      <td>0</td>\n      <td>0</td>\n      <td>0</td>\n      <td>0</td>\n      <td>0</td>\n      <td>0</td>\n      <td>0</td>\n    </tr>\n    <tr>\n      <th>2</th>\n      <td>1</td>\n      <td>0</td>\n      <td>0</td>\n      <td>0</td>\n      <td>0</td>\n      <td>0</td>\n      <td>0</td>\n      <td>0</td>\n      <td>0</td>\n      <td>0</td>\n      <td>...</td>\n      <td>0</td>\n      <td>0</td>\n      <td>0</td>\n      <td>0</td>\n      <td>0</td>\n      <td>0</td>\n      <td>0</td>\n      <td>0</td>\n      <td>0</td>\n      <td>0</td>\n    </tr>\n    <tr>\n      <th>3</th>\n      <td>4</td>\n      <td>0</td>\n      <td>0</td>\n      <td>0</td>\n      <td>0</td>\n      <td>0</td>\n      <td>0</td>\n      <td>0</td>\n      <td>0</td>\n      <td>0</td>\n      <td>...</td>\n      <td>0</td>\n      <td>0</td>\n      <td>0</td>\n      <td>0</td>\n      <td>0</td>\n      <td>0</td>\n      <td>0</td>\n      <td>0</td>\n      <td>0</td>\n      <td>0</td>\n    </tr>\n    <tr>\n      <th>4</th>\n      <td>0</td>\n      <td>0</td>\n      <td>0</td>\n      <td>0</td>\n      <td>0</td>\n      <td>0</td>\n      <td>0</td>\n      <td>0</td>\n      <td>0</td>\n      <td>0</td>\n      <td>...</td>\n      <td>0</td>\n      <td>0</td>\n      <td>0</td>\n      <td>0</td>\n      <td>0</td>\n      <td>0</td>\n      <td>0</td>\n      <td>0</td>\n      <td>0</td>\n      <td>0</td>\n    </tr>\n  </tbody>\n</table>\n<p>5 rows × 785 columns</p>\n</div>"
     },
     "execution_count": 7,
     "metadata": {},
     "output_type": "execute_result"
    }
   ],
   "source": [
    "df_train.head()"
   ],
   "metadata": {
    "collapsed": false
   }
  },
  {
   "cell_type": "code",
   "execution_count": 8,
   "outputs": [
    {
     "data": {
      "text/plain": "              label   pixel0   pixel1   pixel2   pixel3   pixel4   pixel5  \\\ncount  42000.000000  42000.0  42000.0  42000.0  42000.0  42000.0  42000.0   \nmean       4.456643      0.0      0.0      0.0      0.0      0.0      0.0   \nstd        2.887730      0.0      0.0      0.0      0.0      0.0      0.0   \nmin        0.000000      0.0      0.0      0.0      0.0      0.0      0.0   \n25%        2.000000      0.0      0.0      0.0      0.0      0.0      0.0   \n50%        4.000000      0.0      0.0      0.0      0.0      0.0      0.0   \n75%        7.000000      0.0      0.0      0.0      0.0      0.0      0.0   \nmax        9.000000      0.0      0.0      0.0      0.0      0.0      0.0   \n\n        pixel6   pixel7   pixel8  ...      pixel774      pixel775  \\\ncount  42000.0  42000.0  42000.0  ...  42000.000000  42000.000000   \nmean       0.0      0.0      0.0  ...      0.219286      0.117095   \nstd        0.0      0.0      0.0  ...      6.312890      4.633819   \nmin        0.0      0.0      0.0  ...      0.000000      0.000000   \n25%        0.0      0.0      0.0  ...      0.000000      0.000000   \n50%        0.0      0.0      0.0  ...      0.000000      0.000000   \n75%        0.0      0.0      0.0  ...      0.000000      0.000000   \nmax        0.0      0.0      0.0  ...    254.000000    254.000000   \n\n           pixel776     pixel777      pixel778      pixel779  pixel780  \\\ncount  42000.000000  42000.00000  42000.000000  42000.000000   42000.0   \nmean       0.059024      0.02019      0.017238      0.002857       0.0   \nstd        3.274488      1.75987      1.894498      0.414264       0.0   \nmin        0.000000      0.00000      0.000000      0.000000       0.0   \n25%        0.000000      0.00000      0.000000      0.000000       0.0   \n50%        0.000000      0.00000      0.000000      0.000000       0.0   \n75%        0.000000      0.00000      0.000000      0.000000       0.0   \nmax      253.000000    253.00000    254.000000     62.000000       0.0   \n\n       pixel781  pixel782  pixel783  \ncount   42000.0   42000.0   42000.0  \nmean        0.0       0.0       0.0  \nstd         0.0       0.0       0.0  \nmin         0.0       0.0       0.0  \n25%         0.0       0.0       0.0  \n50%         0.0       0.0       0.0  \n75%         0.0       0.0       0.0  \nmax         0.0       0.0       0.0  \n\n[8 rows x 785 columns]",
      "text/html": "<div>\n<style scoped>\n    .dataframe tbody tr th:only-of-type {\n        vertical-align: middle;\n    }\n\n    .dataframe tbody tr th {\n        vertical-align: top;\n    }\n\n    .dataframe thead th {\n        text-align: right;\n    }\n</style>\n<table border=\"1\" class=\"dataframe\">\n  <thead>\n    <tr style=\"text-align: right;\">\n      <th></th>\n      <th>label</th>\n      <th>pixel0</th>\n      <th>pixel1</th>\n      <th>pixel2</th>\n      <th>pixel3</th>\n      <th>pixel4</th>\n      <th>pixel5</th>\n      <th>pixel6</th>\n      <th>pixel7</th>\n      <th>pixel8</th>\n      <th>...</th>\n      <th>pixel774</th>\n      <th>pixel775</th>\n      <th>pixel776</th>\n      <th>pixel777</th>\n      <th>pixel778</th>\n      <th>pixel779</th>\n      <th>pixel780</th>\n      <th>pixel781</th>\n      <th>pixel782</th>\n      <th>pixel783</th>\n    </tr>\n  </thead>\n  <tbody>\n    <tr>\n      <th>count</th>\n      <td>42000.000000</td>\n      <td>42000.0</td>\n      <td>42000.0</td>\n      <td>42000.0</td>\n      <td>42000.0</td>\n      <td>42000.0</td>\n      <td>42000.0</td>\n      <td>42000.0</td>\n      <td>42000.0</td>\n      <td>42000.0</td>\n      <td>...</td>\n      <td>42000.000000</td>\n      <td>42000.000000</td>\n      <td>42000.000000</td>\n      <td>42000.00000</td>\n      <td>42000.000000</td>\n      <td>42000.000000</td>\n      <td>42000.0</td>\n      <td>42000.0</td>\n      <td>42000.0</td>\n      <td>42000.0</td>\n    </tr>\n    <tr>\n      <th>mean</th>\n      <td>4.456643</td>\n      <td>0.0</td>\n      <td>0.0</td>\n      <td>0.0</td>\n      <td>0.0</td>\n      <td>0.0</td>\n      <td>0.0</td>\n      <td>0.0</td>\n      <td>0.0</td>\n      <td>0.0</td>\n      <td>...</td>\n      <td>0.219286</td>\n      <td>0.117095</td>\n      <td>0.059024</td>\n      <td>0.02019</td>\n      <td>0.017238</td>\n      <td>0.002857</td>\n      <td>0.0</td>\n      <td>0.0</td>\n      <td>0.0</td>\n      <td>0.0</td>\n    </tr>\n    <tr>\n      <th>std</th>\n      <td>2.887730</td>\n      <td>0.0</td>\n      <td>0.0</td>\n      <td>0.0</td>\n      <td>0.0</td>\n      <td>0.0</td>\n      <td>0.0</td>\n      <td>0.0</td>\n      <td>0.0</td>\n      <td>0.0</td>\n      <td>...</td>\n      <td>6.312890</td>\n      <td>4.633819</td>\n      <td>3.274488</td>\n      <td>1.75987</td>\n      <td>1.894498</td>\n      <td>0.414264</td>\n      <td>0.0</td>\n      <td>0.0</td>\n      <td>0.0</td>\n      <td>0.0</td>\n    </tr>\n    <tr>\n      <th>min</th>\n      <td>0.000000</td>\n      <td>0.0</td>\n      <td>0.0</td>\n      <td>0.0</td>\n      <td>0.0</td>\n      <td>0.0</td>\n      <td>0.0</td>\n      <td>0.0</td>\n      <td>0.0</td>\n      <td>0.0</td>\n      <td>...</td>\n      <td>0.000000</td>\n      <td>0.000000</td>\n      <td>0.000000</td>\n      <td>0.00000</td>\n      <td>0.000000</td>\n      <td>0.000000</td>\n      <td>0.0</td>\n      <td>0.0</td>\n      <td>0.0</td>\n      <td>0.0</td>\n    </tr>\n    <tr>\n      <th>25%</th>\n      <td>2.000000</td>\n      <td>0.0</td>\n      <td>0.0</td>\n      <td>0.0</td>\n      <td>0.0</td>\n      <td>0.0</td>\n      <td>0.0</td>\n      <td>0.0</td>\n      <td>0.0</td>\n      <td>0.0</td>\n      <td>...</td>\n      <td>0.000000</td>\n      <td>0.000000</td>\n      <td>0.000000</td>\n      <td>0.00000</td>\n      <td>0.000000</td>\n      <td>0.000000</td>\n      <td>0.0</td>\n      <td>0.0</td>\n      <td>0.0</td>\n      <td>0.0</td>\n    </tr>\n    <tr>\n      <th>50%</th>\n      <td>4.000000</td>\n      <td>0.0</td>\n      <td>0.0</td>\n      <td>0.0</td>\n      <td>0.0</td>\n      <td>0.0</td>\n      <td>0.0</td>\n      <td>0.0</td>\n      <td>0.0</td>\n      <td>0.0</td>\n      <td>...</td>\n      <td>0.000000</td>\n      <td>0.000000</td>\n      <td>0.000000</td>\n      <td>0.00000</td>\n      <td>0.000000</td>\n      <td>0.000000</td>\n      <td>0.0</td>\n      <td>0.0</td>\n      <td>0.0</td>\n      <td>0.0</td>\n    </tr>\n    <tr>\n      <th>75%</th>\n      <td>7.000000</td>\n      <td>0.0</td>\n      <td>0.0</td>\n      <td>0.0</td>\n      <td>0.0</td>\n      <td>0.0</td>\n      <td>0.0</td>\n      <td>0.0</td>\n      <td>0.0</td>\n      <td>0.0</td>\n      <td>...</td>\n      <td>0.000000</td>\n      <td>0.000000</td>\n      <td>0.000000</td>\n      <td>0.00000</td>\n      <td>0.000000</td>\n      <td>0.000000</td>\n      <td>0.0</td>\n      <td>0.0</td>\n      <td>0.0</td>\n      <td>0.0</td>\n    </tr>\n    <tr>\n      <th>max</th>\n      <td>9.000000</td>\n      <td>0.0</td>\n      <td>0.0</td>\n      <td>0.0</td>\n      <td>0.0</td>\n      <td>0.0</td>\n      <td>0.0</td>\n      <td>0.0</td>\n      <td>0.0</td>\n      <td>0.0</td>\n      <td>...</td>\n      <td>254.000000</td>\n      <td>254.000000</td>\n      <td>253.000000</td>\n      <td>253.00000</td>\n      <td>254.000000</td>\n      <td>62.000000</td>\n      <td>0.0</td>\n      <td>0.0</td>\n      <td>0.0</td>\n      <td>0.0</td>\n    </tr>\n  </tbody>\n</table>\n<p>8 rows × 785 columns</p>\n</div>"
     },
     "execution_count": 8,
     "metadata": {},
     "output_type": "execute_result"
    }
   ],
   "source": [
    "df_train.describe()"
   ],
   "metadata": {
    "collapsed": false
   }
  },
  {
   "cell_type": "markdown",
   "source": [
    "#### Reshapes"
   ],
   "metadata": {
    "collapsed": false
   }
  },
  {
   "cell_type": "code",
   "execution_count": 9,
   "outputs": [],
   "source": [
    "# Convert to numpy arrays\n",
    "x = x.to_numpy()\n",
    "y = y.to_numpy()\n",
    "test_npa = df_test.to_numpy()"
   ],
   "metadata": {
    "collapsed": false
   }
  },
  {
   "cell_type": "code",
   "execution_count": 10,
   "outputs": [],
   "source": [
    "# Updates shape to match image size 28x28x1 (only one channel per image)\n",
    "x = x.reshape(-1, 1, 28, 28)\n",
    "test_npa = test_npa.reshape(-1, 1, 28, 28)"
   ],
   "metadata": {
    "collapsed": false
   }
  },
  {
   "cell_type": "code",
   "execution_count": 11,
   "outputs": [],
   "source": [
    "# Divides the train set to train and validation\n",
    "X_train, X_dev, y_train, y_dev = train_test_split(x, y, test_size=0.2, random_state=8888)"
   ],
   "metadata": {
    "collapsed": false
   }
  },
  {
   "cell_type": "code",
   "execution_count": 12,
   "outputs": [],
   "source": [
    "# Defines augmentation transform\n",
    "transform = transforms.Compose([\n",
    "    transforms.RandomAffine(degrees=10, translate=(0.1, 0.1), scale=(0.9, 1.1))\n",
    "])"
   ],
   "metadata": {
    "collapsed": false
   }
  },
  {
   "cell_type": "markdown",
   "source": [
    "# Performs data augmentation"
   ],
   "metadata": {
    "collapsed": false
   }
  },
  {
   "cell_type": "code",
   "execution_count": 13,
   "outputs": [],
   "source": [
    "# Performs data augmentation\n",
    "augmented_x_train = []\n",
    "augmented_y_train = []\n",
    "num_augmentations = 12\n",
    "\n",
    "for x_a, y_a in zip(torch.tensor(X_train), y_train):\n",
    "    for i in range(num_augmentations):\n",
    "        augmented_x_train.append(transform(x_a))\n",
    "        augmented_y_train.append(y_a)\n",
    "    augmented_x_train.append(x_a)\n",
    "    augmented_y_train.append(y_a)\n",
    "\n",
    "#x = np.array(augmented_x)\n",
    "# Convert each tensor to a numpy array\n",
    "augmented_data_np = [x_t.numpy() for x_t in augmented_x_train]\n",
    "# Concatenate all numpy arrays along the first axis\n",
    "X_train = np.concatenate(augmented_data_np, axis=0)\n",
    "X_train = X_train.reshape(-1, 1, 28, 28)\n",
    "\n",
    "y_train = np.array(augmented_y_train)"
   ],
   "metadata": {
    "collapsed": false
   }
  },
  {
   "cell_type": "code",
   "execution_count": 14,
   "outputs": [],
   "source": [
    "augmented_x_dev = []\n",
    "augmented_y_dev = []\n",
    "num_augmentations = 12\n",
    "\n",
    "for x_a, y_a in zip(torch.tensor(X_dev), y_dev):\n",
    "    for i in range(num_augmentations):\n",
    "        augmented_x_dev.append(transform(x_a))\n",
    "        augmented_y_dev.append(y_a)\n",
    "    augmented_x_dev.append(x_a)\n",
    "    augmented_y_dev.append(y_a)\n",
    "\n",
    "#x = np.array(augmented_x)\n",
    "# Convert each tensor to a numpy array\n",
    "augmented_data_np = [x_t.numpy() for x_t in augmented_x_dev]\n",
    "# Concatenate all numpy arrays along the first axis\n",
    "X_dev = np.concatenate(augmented_data_np, axis=0)\n",
    "X_dev = X_dev.reshape(-1, 1, 28, 28)\n",
    "\n",
    "y_dev = np.array(augmented_y_dev)"
   ],
   "metadata": {
    "collapsed": false
   }
  },
  {
   "cell_type": "code",
   "execution_count": 15,
   "outputs": [
    {
     "name": "stdout",
     "output_type": "stream",
     "text": [
      "Train size: 436800 Dev size: 109200\n"
     ]
    }
   ],
   "source": [
    "print(\"Train size: \" + str(len(X_train)) + \" Dev size: \" + str(len(X_dev)))"
   ],
   "metadata": {
    "collapsed": false
   }
  },
  {
   "cell_type": "code",
   "execution_count": 16,
   "outputs": [
    {
     "data": {
      "text/plain": "<Figure size 640x480 with 9 Axes>",
      "image/png": "[encoded data removed]"
     },
     "metadata": {},
     "output_type": "display_data"
    }
   ],
   "source": [
    "#train samples\n",
    "for i in range(0, 9):\n",
    "    plt.subplot(330 + (i+1))\n",
    "    plt.imshow(X_train[i].squeeze(), cmap=plt.get_cmap('gray'))\n",
    "    plt.axis('off')\n",
    "    plt.title(y_train[i])"
   ],
   "metadata": {
    "collapsed": false
   }
  },
  {
   "cell_type": "markdown",
   "source": [
    "#### Converts data to tensors and normalize them"
   ],
   "metadata": {
    "collapsed": false
   }
  },
  {
   "cell_type": "code",
   "execution_count": 17,
   "outputs": [],
   "source": [
    "#train\n",
    "X_train_tensor = torch.tensor(X_train)/255.0\n",
    "y_train_tensor = torch.tensor(y_train)\n",
    "train_tensor = TensorDataset(X_train_tensor, y_train_tensor)\n",
    "\n",
    "#val\n",
    "X_dev_tensor = torch.tensor(X_dev)/255.0\n",
    "y_dev_tensor = torch.tensor(y_dev)\n",
    "dev_tensor = TensorDataset(X_dev_tensor, y_dev_tensor)\n",
    "\n",
    "#test\n",
    "test_image_tensor = torch.tensor(test_npa)/255.0"
   ],
   "metadata": {
    "collapsed": false
   }
  },
  {
   "cell_type": "markdown",
   "source": [
    "#### Defines data loaders"
   ],
   "metadata": {
    "collapsed": false
   }
  },
  {
   "cell_type": "code",
   "execution_count": 18,
   "outputs": [],
   "source": [
    "train_loader = DataLoader(train_tensor, batch_size=64, num_workers=2, shuffle=True)\n",
    "dev_loader = DataLoader(dev_tensor, batch_size=64, num_workers=2, shuffle=True)\n",
    "test_loader = DataLoader(test_image_tensor, batch_size=64, num_workers=2, shuffle=False)"
   ],
   "metadata": {
    "collapsed": false
   }
  },
  {
   "cell_type": "markdown",
   "source": [
    "# Train the model"
   ],
   "metadata": {
    "collapsed": false
   }
  },
  {
   "cell_type": "code",
   "execution_count": 19,
   "outputs": [],
   "source": [
    "ensemble_size = 11"
   ],
   "metadata": {
    "collapsed": false
   }
  },
  {
   "cell_type": "code",
   "execution_count": 20,
   "outputs": [
    {
     "name": "stdout",
     "output_type": "stream",
     "text": [
      "-------------------------------[MyConNet4_0 train start]--------------------------------\n",
      "Current learning rate: [0.01]\n",
      "Train Epoch: 0 [87360/436800 (20%)]\t\tLoss: 0.559736\n",
      "Train Epoch: 0 [174720/436800 (40%)]\t\tLoss: 0.181251\n",
      "Train Epoch: 0 [262080/436800 (60%)]\t\tLoss: 0.134297\n",
      "Train Epoch: 0 [349440/436800 (80%)]\t\tLoss: 0.116354\n",
      "Train Epoch: 0 [436800/436800 (100%)]\t\tLoss: 0.100721\n",
      "Train Epoch: 0 Average Loss: 0.218472\n",
      "\n",
      "The loss after 1 epochs was 0.0453 \n",
      "\n",
      "Current learning rate: [0.005]\n",
      "Train Epoch: 1 [87360/436800 (20%)]\t\tLoss: 0.075939\n",
      "Train Epoch: 1 [174720/436800 (40%)]\t\tLoss: 0.071934\n",
      "Train Epoch: 1 [262080/436800 (60%)]\t\tLoss: 0.069427\n",
      "Train Epoch: 1 [349440/436800 (80%)]\t\tLoss: 0.068332\n",
      "Train Epoch: 1 [436800/436800 (100%)]\t\tLoss: 0.062822\n",
      "Train Epoch: 1 Average Loss: 0.069691\n",
      "\n",
      "The loss after 2 epochs was 0.0317 \n",
      "\n",
      "Current learning rate: [0.0025]\n",
      "Train Epoch: 2 [87360/436800 (20%)]\t\tLoss: 0.055058\n",
      "Train Epoch: 2 [174720/436800 (40%)]\t\tLoss: 0.053156\n",
      "Train Epoch: 2 [262080/436800 (60%)]\t\tLoss: 0.053287\n",
      "Train Epoch: 2 [349440/436800 (80%)]\t\tLoss: 0.048432\n",
      "Train Epoch: 2 [436800/436800 (100%)]\t\tLoss: 0.051153\n",
      "Train Epoch: 2 Average Loss: 0.052217\n",
      "\n",
      "The loss after 3 epochs was 0.0237 \n",
      "\n",
      "Current learning rate: [0.00125]\n",
      "Train Epoch: 3 [87360/436800 (20%)]\t\tLoss: 0.046308\n",
      "Train Epoch: 3 [174720/436800 (40%)]\t\tLoss: 0.042990\n",
      "Train Epoch: 3 [262080/436800 (60%)]\t\tLoss: 0.041328\n",
      "Train Epoch: 3 [349440/436800 (80%)]\t\tLoss: 0.042933\n",
      "Train Epoch: 3 [436800/436800 (100%)]\t\tLoss: 0.043930\n",
      "Train Epoch: 3 Average Loss: 0.043498\n",
      "\n",
      "The loss after 4 epochs was 0.0218 \n",
      "\n",
      "Current learning rate: [0.000625]\n",
      "Train Epoch: 4 [87360/436800 (20%)]\t\tLoss: 0.041876\n",
      "Train Epoch: 4 [174720/436800 (40%)]\t\tLoss: 0.039185\n",
      "Train Epoch: 4 [262080/436800 (60%)]\t\tLoss: 0.038823\n",
      "Train Epoch: 4 [349440/436800 (80%)]\t\tLoss: 0.038274\n",
      "Train Epoch: 4 [436800/436800 (100%)]\t\tLoss: 0.038479\n",
      "Train Epoch: 4 Average Loss: 0.039327\n",
      "\n",
      "The loss after 5 epochs was 0.0219\n",
      "The loss had increased since the last checkpoint, aborting training! \n",
      "\n",
      "--------------------------------[MyConNet4_0 train end]---------------------------------\n",
      "-------------------------------[MyConNet4_1 train start]--------------------------------\n",
      "Current learning rate: [0.01]\n",
      "Train Epoch: 0 [87360/436800 (20%)]\t\tLoss: 0.578348\n",
      "Train Epoch: 0 [174720/436800 (40%)]\t\tLoss: 0.180615\n",
      "Train Epoch: 0 [262080/436800 (60%)]\t\tLoss: 0.138082\n",
      "Train Epoch: 0 [349440/436800 (80%)]\t\tLoss: 0.114364\n",
      "Train Epoch: 0 [436800/436800 (100%)]\t\tLoss: 0.099401\n",
      "Train Epoch: 0 Average Loss: 0.222162\n",
      "\n",
      "The loss after 1 epochs was 0.034 \n",
      "\n",
      "Current learning rate: [0.005]\n",
      "Train Epoch: 1 [87360/436800 (20%)]\t\tLoss: 0.080360\n",
      "Train Epoch: 1 [174720/436800 (40%)]\t\tLoss: 0.070577\n",
      "Train Epoch: 1 [262080/436800 (60%)]\t\tLoss: 0.067908\n",
      "Train Epoch: 1 [349440/436800 (80%)]\t\tLoss: 0.069328\n",
      "Train Epoch: 1 [436800/436800 (100%)]\t\tLoss: 0.062892\n",
      "Train Epoch: 1 Average Loss: 0.070213\n",
      "\n",
      "The loss after 2 epochs was 0.0261 \n",
      "\n",
      "Current learning rate: [0.0025]\n",
      "Train Epoch: 2 [87360/436800 (20%)]\t\tLoss: 0.054191\n",
      "Train Epoch: 2 [174720/436800 (40%)]\t\tLoss: 0.052783\n",
      "Train Epoch: 2 [262080/436800 (60%)]\t\tLoss: 0.051700\n",
      "Train Epoch: 2 [349440/436800 (80%)]\t\tLoss: 0.049608\n",
      "Train Epoch: 2 [436800/436800 (100%)]\t\tLoss: 0.048604\n",
      "Train Epoch: 2 Average Loss: 0.051377\n",
      "\n",
      "The loss after 3 epochs was 0.0238 \n",
      "\n",
      "Current learning rate: [0.00125]\n",
      "Train Epoch: 3 [87360/436800 (20%)]\t\tLoss: 0.045535\n",
      "Train Epoch: 3 [174720/436800 (40%)]\t\tLoss: 0.044366\n",
      "Train Epoch: 3 [262080/436800 (60%)]\t\tLoss: 0.041737\n",
      "Train Epoch: 3 [349440/436800 (80%)]\t\tLoss: 0.042718\n",
      "Train Epoch: 3 [436800/436800 (100%)]\t\tLoss: 0.041621\n",
      "Train Epoch: 3 Average Loss: 0.043195\n",
      "\n",
      "The loss after 4 epochs was 0.0225 \n",
      "\n",
      "Current learning rate: [0.000625]\n",
      "Train Epoch: 4 [87360/436800 (20%)]\t\tLoss: 0.042152\n",
      "Train Epoch: 4 [174720/436800 (40%)]\t\tLoss: 0.039988\n",
      "Train Epoch: 4 [262080/436800 (60%)]\t\tLoss: 0.038993\n",
      "Train Epoch: 4 [349440/436800 (80%)]\t\tLoss: 0.038696\n",
      "Train Epoch: 4 [436800/436800 (100%)]\t\tLoss: 0.038151\n",
      "Train Epoch: 4 Average Loss: 0.039596\n",
      "\n",
      "The loss after 5 epochs was 0.0217 \n",
      "\n",
      "--------------------------------[MyConNet4_1 train end]---------------------------------\n",
      "-------------------------------[MyConNet4_2 train start]--------------------------------\n",
      "Current learning rate: [0.01]\n",
      "Train Epoch: 0 [87360/436800 (20%)]\t\tLoss: 0.583651\n",
      "Train Epoch: 0 [174720/436800 (40%)]\t\tLoss: 0.183433\n",
      "Train Epoch: 0 [262080/436800 (60%)]\t\tLoss: 0.135913\n",
      "Train Epoch: 0 [349440/436800 (80%)]\t\tLoss: 0.113689\n",
      "Train Epoch: 0 [436800/436800 (100%)]\t\tLoss: 0.098538\n",
      "Train Epoch: 0 Average Loss: 0.223045\n",
      "\n",
      "The loss after 1 epochs was 0.0377 \n",
      "\n",
      "Current learning rate: [0.005]\n",
      "Train Epoch: 1 [87360/436800 (20%)]\t\tLoss: 0.077269\n",
      "Train Epoch: 1 [174720/436800 (40%)]\t\tLoss: 0.074840\n",
      "Train Epoch: 1 [262080/436800 (60%)]\t\tLoss: 0.069259\n",
      "Train Epoch: 1 [349440/436800 (80%)]\t\tLoss: 0.067116\n",
      "Train Epoch: 1 [436800/436800 (100%)]\t\tLoss: 0.065133\n",
      "Train Epoch: 1 Average Loss: 0.070723\n",
      "\n",
      "The loss after 2 epochs was 0.0276 \n",
      "\n",
      "Current learning rate: [0.0025]\n",
      "Train Epoch: 2 [87360/436800 (20%)]\t\tLoss: 0.055090\n",
      "Train Epoch: 2 [174720/436800 (40%)]\t\tLoss: 0.051616\n",
      "Train Epoch: 2 [262080/436800 (60%)]\t\tLoss: 0.049277\n",
      "Train Epoch: 2 [349440/436800 (80%)]\t\tLoss: 0.052032\n",
      "Train Epoch: 2 [436800/436800 (100%)]\t\tLoss: 0.050779\n",
      "Train Epoch: 2 Average Loss: 0.051759\n",
      "\n",
      "The loss after 3 epochs was 0.0236 \n",
      "\n",
      "Current learning rate: [0.00125]\n",
      "Train Epoch: 3 [87360/436800 (20%)]\t\tLoss: 0.044550\n",
      "Train Epoch: 3 [174720/436800 (40%)]\t\tLoss: 0.045189\n",
      "Train Epoch: 3 [262080/436800 (60%)]\t\tLoss: 0.044811\n",
      "Train Epoch: 3 [349440/436800 (80%)]\t\tLoss: 0.043042\n",
      "Train Epoch: 3 [436800/436800 (100%)]\t\tLoss: 0.041474\n",
      "Train Epoch: 3 Average Loss: 0.043813\n",
      "\n",
      "The loss after 4 epochs was 0.0231 \n",
      "\n",
      "Current learning rate: [0.000625]\n",
      "Train Epoch: 4 [87360/436800 (20%)]\t\tLoss: 0.042315\n",
      "Train Epoch: 4 [174720/436800 (40%)]\t\tLoss: 0.040816\n",
      "Train Epoch: 4 [262080/436800 (60%)]\t\tLoss: 0.040690\n",
      "Train Epoch: 4 [349440/436800 (80%)]\t\tLoss: 0.040305\n",
      "Train Epoch: 4 [436800/436800 (100%)]\t\tLoss: 0.038870\n",
      "Train Epoch: 4 Average Loss: 0.040599\n",
      "\n",
      "The loss after 5 epochs was 0.0226 \n",
      "\n",
      "--------------------------------[MyConNet4_2 train end]---------------------------------\n",
      "-------------------------------[MyConNet4_3 train start]--------------------------------\n",
      "Current learning rate: [0.01]\n",
      "Train Epoch: 0 [87360/436800 (20%)]\t\tLoss: 0.602457\n",
      "Train Epoch: 0 [174720/436800 (40%)]\t\tLoss: 0.185594\n",
      "Train Epoch: 0 [262080/436800 (60%)]\t\tLoss: 0.136344\n",
      "Train Epoch: 0 [349440/436800 (80%)]\t\tLoss: 0.114654\n",
      "Train Epoch: 0 [436800/436800 (100%)]\t\tLoss: 0.100021\n",
      "Train Epoch: 0 Average Loss: 0.227814\n",
      "\n",
      "The loss after 1 epochs was 0.0317 \n",
      "\n",
      "Current learning rate: [0.005]\n",
      "Train Epoch: 1 [87360/436800 (20%)]\t\tLoss: 0.076483\n",
      "Train Epoch: 1 [174720/436800 (40%)]\t\tLoss: 0.074628\n",
      "Train Epoch: 1 [262080/436800 (60%)]\t\tLoss: 0.070276\n",
      "Train Epoch: 1 [349440/436800 (80%)]\t\tLoss: 0.063516\n",
      "Train Epoch: 1 [436800/436800 (100%)]\t\tLoss: 0.062859\n",
      "Train Epoch: 1 Average Loss: 0.069552\n",
      "\n",
      "The loss after 2 epochs was 0.029 \n",
      "\n",
      "Current learning rate: [0.0025]\n",
      "Train Epoch: 2 [87360/436800 (20%)]\t\tLoss: 0.057526\n",
      "Train Epoch: 2 [174720/436800 (40%)]\t\tLoss: 0.049868\n",
      "Train Epoch: 2 [262080/436800 (60%)]\t\tLoss: 0.051576\n",
      "Train Epoch: 2 [349440/436800 (80%)]\t\tLoss: 0.050192\n",
      "Train Epoch: 2 [436800/436800 (100%)]\t\tLoss: 0.048074\n",
      "Train Epoch: 2 Average Loss: 0.051447\n",
      "\n",
      "The loss after 3 epochs was 0.0238 \n",
      "\n",
      "Current learning rate: [0.00125]\n",
      "Train Epoch: 3 [87360/436800 (20%)]\t\tLoss: 0.044477\n",
      "Train Epoch: 3 [174720/436800 (40%)]\t\tLoss: 0.043114\n",
      "Train Epoch: 3 [262080/436800 (60%)]\t\tLoss: 0.041080\n",
      "Train Epoch: 3 [349440/436800 (80%)]\t\tLoss: 0.041820\n",
      "Train Epoch: 3 [436800/436800 (100%)]\t\tLoss: 0.043268\n",
      "Train Epoch: 3 Average Loss: 0.042752\n",
      "\n",
      "The loss after 4 epochs was 0.0225 \n",
      "\n",
      "Current learning rate: [0.000625]\n",
      "Train Epoch: 4 [87360/436800 (20%)]\t\tLoss: 0.039962\n",
      "Train Epoch: 4 [174720/436800 (40%)]\t\tLoss: 0.038769\n",
      "Train Epoch: 4 [262080/436800 (60%)]\t\tLoss: 0.037175\n",
      "Train Epoch: 4 [349440/436800 (80%)]\t\tLoss: 0.040813\n",
      "Train Epoch: 4 [436800/436800 (100%)]\t\tLoss: 0.038910\n",
      "Train Epoch: 4 Average Loss: 0.039126\n",
      "\n",
      "The loss after 5 epochs was 0.0225 \n",
      "\n",
      "--------------------------------[MyConNet4_3 train end]---------------------------------\n",
      "-------------------------------[MyConNet4_4 train start]--------------------------------\n",
      "Current learning rate: [0.01]\n",
      "Train Epoch: 0 [87360/436800 (20%)]\t\tLoss: 0.575120\n",
      "Train Epoch: 0 [174720/436800 (40%)]\t\tLoss: 0.178056\n",
      "Train Epoch: 0 [262080/436800 (60%)]\t\tLoss: 0.131756\n",
      "Train Epoch: 0 [349440/436800 (80%)]\t\tLoss: 0.111058\n",
      "Train Epoch: 0 [436800/436800 (100%)]\t\tLoss: 0.096678\n",
      "Train Epoch: 0 Average Loss: 0.218534\n",
      "\n",
      "The loss after 1 epochs was 0.044 \n",
      "\n",
      "Current learning rate: [0.005]\n",
      "Train Epoch: 1 [87360/436800 (20%)]\t\tLoss: 0.078972\n",
      "Train Epoch: 1 [174720/436800 (40%)]\t\tLoss: 0.070271\n",
      "Train Epoch: 1 [262080/436800 (60%)]\t\tLoss: 0.065985\n",
      "Train Epoch: 1 [349440/436800 (80%)]\t\tLoss: 0.063075\n",
      "Train Epoch: 1 [436800/436800 (100%)]\t\tLoss: 0.060740\n",
      "Train Epoch: 1 Average Loss: 0.067809\n",
      "\n",
      "The loss after 2 epochs was 0.0314 \n",
      "\n",
      "Current learning rate: [0.0025]\n",
      "Train Epoch: 2 [87360/436800 (20%)]\t\tLoss: 0.054294\n",
      "Train Epoch: 2 [174720/436800 (40%)]\t\tLoss: 0.050190\n",
      "Train Epoch: 2 [262080/436800 (60%)]\t\tLoss: 0.049481\n",
      "Train Epoch: 2 [349440/436800 (80%)]\t\tLoss: 0.049518\n",
      "Train Epoch: 2 [436800/436800 (100%)]\t\tLoss: 0.048487\n",
      "Train Epoch: 2 Average Loss: 0.050394\n",
      "\n",
      "The loss after 3 epochs was 0.0221 \n",
      "\n",
      "Current learning rate: [0.00125]\n",
      "Train Epoch: 3 [87360/436800 (20%)]\t\tLoss: 0.044525\n",
      "Train Epoch: 3 [174720/436800 (40%)]\t\tLoss: 0.043821\n",
      "Train Epoch: 3 [262080/436800 (60%)]\t\tLoss: 0.040578\n",
      "Train Epoch: 3 [349440/436800 (80%)]\t\tLoss: 0.041793\n",
      "Train Epoch: 3 [436800/436800 (100%)]\t\tLoss: 0.041237\n",
      "Train Epoch: 3 Average Loss: 0.042391\n",
      "\n",
      "The loss after 4 epochs was 0.0224\n",
      "The loss had increased since the last checkpoint, aborting training! \n",
      "\n",
      "--------------------------------[MyConNet4_4 train end]---------------------------------\n",
      "-------------------------------[MyConNet4_5 train start]--------------------------------\n",
      "Current learning rate: [0.01]\n",
      "Train Epoch: 0 [87360/436800 (20%)]\t\tLoss: 0.582374\n",
      "Train Epoch: 0 [174720/436800 (40%)]\t\tLoss: 0.182840\n",
      "Train Epoch: 0 [262080/436800 (60%)]\t\tLoss: 0.134291\n",
      "Train Epoch: 0 [349440/436800 (80%)]\t\tLoss: 0.112401\n",
      "Train Epoch: 0 [436800/436800 (100%)]\t\tLoss: 0.098605\n",
      "Train Epoch: 0 Average Loss: 0.222102\n",
      "\n",
      "The loss after 1 epochs was 0.0338 \n",
      "\n",
      "Current learning rate: [0.005]\n",
      "Train Epoch: 1 [87360/436800 (20%)]\t\tLoss: 0.076336\n",
      "Train Epoch: 1 [174720/436800 (40%)]\t\tLoss: 0.071363\n",
      "Train Epoch: 1 [262080/436800 (60%)]\t\tLoss: 0.067848\n",
      "Train Epoch: 1 [349440/436800 (80%)]\t\tLoss: 0.066555\n",
      "Train Epoch: 1 [436800/436800 (100%)]\t\tLoss: 0.063031\n",
      "Train Epoch: 1 Average Loss: 0.069027\n",
      "\n",
      "The loss after 2 epochs was 0.027 \n",
      "\n",
      "Current learning rate: [0.0025]\n",
      "Train Epoch: 2 [87360/436800 (20%)]\t\tLoss: 0.055667\n",
      "Train Epoch: 2 [174720/436800 (40%)]\t\tLoss: 0.051245\n",
      "Train Epoch: 2 [262080/436800 (60%)]\t\tLoss: 0.051451\n",
      "Train Epoch: 2 [349440/436800 (80%)]\t\tLoss: 0.049038\n",
      "Train Epoch: 2 [436800/436800 (100%)]\t\tLoss: 0.049196\n",
      "Train Epoch: 2 Average Loss: 0.051319\n",
      "\n",
      "The loss after 3 epochs was 0.0233 \n",
      "\n",
      "Current learning rate: [0.00125]\n",
      "Train Epoch: 3 [87360/436800 (20%)]\t\tLoss: 0.043467\n",
      "Train Epoch: 3 [174720/436800 (40%)]\t\tLoss: 0.042511\n",
      "Train Epoch: 3 [262080/436800 (60%)]\t\tLoss: 0.043337\n",
      "Train Epoch: 3 [349440/436800 (80%)]\t\tLoss: 0.042957\n",
      "Train Epoch: 3 [436800/436800 (100%)]\t\tLoss: 0.043226\n",
      "Train Epoch: 3 Average Loss: 0.043100\n",
      "\n",
      "The loss after 4 epochs was 0.0216 \n",
      "\n",
      "Current learning rate: [0.000625]\n",
      "Train Epoch: 4 [87360/436800 (20%)]\t\tLoss: 0.041658\n",
      "Train Epoch: 4 [174720/436800 (40%)]\t\tLoss: 0.040601\n",
      "Train Epoch: 4 [262080/436800 (60%)]\t\tLoss: 0.038258\n",
      "Train Epoch: 4 [349440/436800 (80%)]\t\tLoss: 0.037513\n",
      "Train Epoch: 4 [436800/436800 (100%)]\t\tLoss: 0.037987\n",
      "Train Epoch: 4 Average Loss: 0.039203\n",
      "\n",
      "The loss after 5 epochs was 0.0211 \n",
      "\n",
      "--------------------------------[MyConNet4_5 train end]---------------------------------\n",
      "-------------------------------[MyConNet4_6 train start]--------------------------------\n",
      "Current learning rate: [0.01]\n",
      "Train Epoch: 0 [87360/436800 (20%)]\t\tLoss: 0.584729\n",
      "Train Epoch: 0 [174720/436800 (40%)]\t\tLoss: 0.186720\n",
      "Train Epoch: 0 [262080/436800 (60%)]\t\tLoss: 0.137915\n",
      "Train Epoch: 0 [349440/436800 (80%)]\t\tLoss: 0.112759\n",
      "Train Epoch: 0 [436800/436800 (100%)]\t\tLoss: 0.098784\n",
      "Train Epoch: 0 Average Loss: 0.224181\n",
      "\n",
      "The loss after 1 epochs was 0.0349 \n",
      "\n",
      "Current learning rate: [0.005]\n",
      "Train Epoch: 1 [87360/436800 (20%)]\t\tLoss: 0.078754\n",
      "Train Epoch: 1 [174720/436800 (40%)]\t\tLoss: 0.074097\n",
      "Train Epoch: 1 [262080/436800 (60%)]\t\tLoss: 0.069796\n",
      "Train Epoch: 1 [349440/436800 (80%)]\t\tLoss: 0.065065\n",
      "Train Epoch: 1 [436800/436800 (100%)]\t\tLoss: 0.062817\n",
      "Train Epoch: 1 Average Loss: 0.070106\n",
      "\n",
      "The loss after 2 epochs was 0.0315 \n",
      "\n",
      "Current learning rate: [0.0025]\n",
      "Train Epoch: 2 [87360/436800 (20%)]\t\tLoss: 0.055178\n",
      "Train Epoch: 2 [174720/436800 (40%)]\t\tLoss: 0.051168\n",
      "Train Epoch: 2 [262080/436800 (60%)]\t\tLoss: 0.050398\n",
      "Train Epoch: 2 [349440/436800 (80%)]\t\tLoss: 0.052967\n",
      "Train Epoch: 2 [436800/436800 (100%)]\t\tLoss: 0.050578\n",
      "Train Epoch: 2 Average Loss: 0.052058\n",
      "\n",
      "The loss after 3 epochs was 0.0252 \n",
      "\n",
      "Current learning rate: [0.00125]\n",
      "Train Epoch: 3 [87360/436800 (20%)]\t\tLoss: 0.045930\n",
      "Train Epoch: 3 [174720/436800 (40%)]\t\tLoss: 0.043042\n",
      "Train Epoch: 3 [262080/436800 (60%)]\t\tLoss: 0.043487\n",
      "Train Epoch: 3 [349440/436800 (80%)]\t\tLoss: 0.040579\n",
      "Train Epoch: 3 [436800/436800 (100%)]\t\tLoss: 0.042760\n",
      "Train Epoch: 3 Average Loss: 0.043160\n",
      "\n",
      "The loss after 4 epochs was 0.023 \n",
      "\n",
      "Current learning rate: [0.000625]\n",
      "Train Epoch: 4 [87360/436800 (20%)]\t\tLoss: 0.041119\n",
      "Train Epoch: 4 [174720/436800 (40%)]\t\tLoss: 0.040616\n",
      "Train Epoch: 4 [262080/436800 (60%)]\t\tLoss: 0.038216\n",
      "Train Epoch: 4 [349440/436800 (80%)]\t\tLoss: 0.038328\n",
      "Train Epoch: 4 [436800/436800 (100%)]\t\tLoss: 0.037871\n",
      "Train Epoch: 4 Average Loss: 0.039230\n",
      "\n",
      "The loss after 5 epochs was 0.0231\n",
      "The loss had increased since the last checkpoint, aborting training! \n",
      "\n",
      "--------------------------------[MyConNet4_6 train end]---------------------------------\n",
      "-------------------------------[MyConNet4_7 train start]--------------------------------\n",
      "Current learning rate: [0.01]\n",
      "Train Epoch: 0 [87360/436800 (20%)]\t\tLoss: 0.595555\n",
      "Train Epoch: 0 [174720/436800 (40%)]\t\tLoss: 0.183862\n",
      "Train Epoch: 0 [262080/436800 (60%)]\t\tLoss: 0.131101\n",
      "Train Epoch: 0 [349440/436800 (80%)]\t\tLoss: 0.114050\n",
      "Train Epoch: 0 [436800/436800 (100%)]\t\tLoss: 0.095804\n",
      "Train Epoch: 0 Average Loss: 0.224074\n",
      "\n",
      "The loss after 1 epochs was 0.0327 \n",
      "\n",
      "Current learning rate: [0.005]\n",
      "Train Epoch: 1 [87360/436800 (20%)]\t\tLoss: 0.075928\n",
      "Train Epoch: 1 [174720/436800 (40%)]\t\tLoss: 0.070941\n",
      "Train Epoch: 1 [262080/436800 (60%)]\t\tLoss: 0.067061\n",
      "Train Epoch: 1 [349440/436800 (80%)]\t\tLoss: 0.062122\n",
      "Train Epoch: 1 [436800/436800 (100%)]\t\tLoss: 0.060864\n",
      "Train Epoch: 1 Average Loss: 0.067383\n",
      "\n",
      "The loss after 2 epochs was 0.0307 \n",
      "\n",
      "Current learning rate: [0.0025]\n",
      "Train Epoch: 2 [87360/436800 (20%)]\t\tLoss: 0.052247\n",
      "Train Epoch: 2 [174720/436800 (40%)]\t\tLoss: 0.049218\n",
      "Train Epoch: 2 [262080/436800 (60%)]\t\tLoss: 0.048081\n",
      "Train Epoch: 2 [349440/436800 (80%)]\t\tLoss: 0.052561\n",
      "Train Epoch: 2 [436800/436800 (100%)]\t\tLoss: 0.045475\n",
      "Train Epoch: 2 Average Loss: 0.049516\n",
      "\n",
      "The loss after 3 epochs was 0.0256 \n",
      "\n",
      "Current learning rate: [0.00125]\n",
      "Train Epoch: 3 [87360/436800 (20%)]\t\tLoss: 0.040958\n",
      "Train Epoch: 3 [174720/436800 (40%)]\t\tLoss: 0.044871\n",
      "Train Epoch: 3 [262080/436800 (60%)]\t\tLoss: 0.042178\n",
      "Train Epoch: 3 [349440/436800 (80%)]\t\tLoss: 0.042193\n",
      "Train Epoch: 3 [436800/436800 (100%)]\t\tLoss: 0.039900\n",
      "Train Epoch: 3 Average Loss: 0.042020\n",
      "\n",
      "The loss after 4 epochs was 0.0226 \n",
      "\n",
      "Current learning rate: [0.000625]\n",
      "Train Epoch: 4 [87360/436800 (20%)]\t\tLoss: 0.037913\n",
      "Train Epoch: 4 [174720/436800 (40%)]\t\tLoss: 0.037066\n",
      "Train Epoch: 4 [262080/436800 (60%)]\t\tLoss: 0.037070\n",
      "Train Epoch: 4 [349440/436800 (80%)]\t\tLoss: 0.036091\n",
      "Train Epoch: 4 [436800/436800 (100%)]\t\tLoss: 0.036708\n",
      "Train Epoch: 4 Average Loss: 0.036970\n",
      "\n",
      "The loss after 5 epochs was 0.0211 \n",
      "\n",
      "--------------------------------[MyConNet4_7 train end]---------------------------------\n",
      "-------------------------------[MyConNet4_8 train start]--------------------------------\n",
      "Current learning rate: [0.01]\n",
      "Train Epoch: 0 [87360/436800 (20%)]\t\tLoss: 0.573452\n",
      "Train Epoch: 0 [174720/436800 (40%)]\t\tLoss: 0.183741\n",
      "Train Epoch: 0 [262080/436800 (60%)]\t\tLoss: 0.134186\n",
      "Train Epoch: 0 [349440/436800 (80%)]\t\tLoss: 0.109005\n",
      "Train Epoch: 0 [436800/436800 (100%)]\t\tLoss: 0.100371\n",
      "Train Epoch: 0 Average Loss: 0.220151\n",
      "\n",
      "The loss after 1 epochs was 0.0324 \n",
      "\n",
      "Current learning rate: [0.005]\n",
      "Train Epoch: 1 [87360/436800 (20%)]\t\tLoss: 0.076787\n",
      "Train Epoch: 1 [174720/436800 (40%)]\t\tLoss: 0.071851\n",
      "Train Epoch: 1 [262080/436800 (60%)]\t\tLoss: 0.066581\n",
      "Train Epoch: 1 [349440/436800 (80%)]\t\tLoss: 0.065224\n",
      "Train Epoch: 1 [436800/436800 (100%)]\t\tLoss: 0.065469\n",
      "Train Epoch: 1 Average Loss: 0.069182\n",
      "\n",
      "The loss after 2 epochs was 0.027 \n",
      "\n",
      "Current learning rate: [0.0025]\n",
      "Train Epoch: 2 [87360/436800 (20%)]\t\tLoss: 0.054657\n",
      "Train Epoch: 2 [174720/436800 (40%)]\t\tLoss: 0.049921\n",
      "Train Epoch: 2 [262080/436800 (60%)]\t\tLoss: 0.052061\n",
      "Train Epoch: 2 [349440/436800 (80%)]\t\tLoss: 0.051437\n",
      "Train Epoch: 2 [436800/436800 (100%)]\t\tLoss: 0.046789\n",
      "Train Epoch: 2 Average Loss: 0.050973\n",
      "\n",
      "The loss after 3 epochs was 0.0249 \n",
      "\n",
      "Current learning rate: [0.00125]\n",
      "Train Epoch: 3 [87360/436800 (20%)]\t\tLoss: 0.044252\n",
      "Train Epoch: 3 [174720/436800 (40%)]\t\tLoss: 0.045121\n",
      "Train Epoch: 3 [262080/436800 (60%)]\t\tLoss: 0.041702\n",
      "Train Epoch: 3 [349440/436800 (80%)]\t\tLoss: 0.043028\n",
      "Train Epoch: 3 [436800/436800 (100%)]\t\tLoss: 0.041160\n",
      "Train Epoch: 3 Average Loss: 0.043053\n",
      "\n",
      "The loss after 4 epochs was 0.022 \n",
      "\n",
      "Current learning rate: [0.000625]\n",
      "Train Epoch: 4 [87360/436800 (20%)]\t\tLoss: 0.038273\n",
      "Train Epoch: 4 [174720/436800 (40%)]\t\tLoss: 0.037812\n",
      "Train Epoch: 4 [262080/436800 (60%)]\t\tLoss: 0.039588\n",
      "Train Epoch: 4 [349440/436800 (80%)]\t\tLoss: 0.038656\n",
      "Train Epoch: 4 [436800/436800 (100%)]\t\tLoss: 0.039349\n",
      "Train Epoch: 4 Average Loss: 0.038736\n",
      "\n",
      "The loss after 5 epochs was 0.0214 \n",
      "\n",
      "--------------------------------[MyConNet4_8 train end]---------------------------------\n",
      "-------------------------------[MyConNet4_9 train start]--------------------------------\n",
      "Current learning rate: [0.01]\n",
      "Train Epoch: 0 [87360/436800 (20%)]\t\tLoss: 0.568703\n",
      "Train Epoch: 0 [174720/436800 (40%)]\t\tLoss: 0.180641\n",
      "Train Epoch: 0 [262080/436800 (60%)]\t\tLoss: 0.133196\n",
      "Train Epoch: 0 [349440/436800 (80%)]\t\tLoss: 0.108948\n",
      "Train Epoch: 0 [436800/436800 (100%)]\t\tLoss: 0.097882\n",
      "Train Epoch: 0 Average Loss: 0.217874\n",
      "\n",
      "The loss after 1 epochs was 0.0462 \n",
      "\n",
      "Current learning rate: [0.005]\n",
      "Train Epoch: 1 [87360/436800 (20%)]\t\tLoss: 0.078875\n",
      "Train Epoch: 1 [174720/436800 (40%)]\t\tLoss: 0.074997\n",
      "Train Epoch: 1 [262080/436800 (60%)]\t\tLoss: 0.068209\n",
      "Train Epoch: 1 [349440/436800 (80%)]\t\tLoss: 0.064981\n",
      "Train Epoch: 1 [436800/436800 (100%)]\t\tLoss: 0.063037\n",
      "Train Epoch: 1 Average Loss: 0.070020\n",
      "\n",
      "The loss after 2 epochs was 0.0331 \n",
      "\n",
      "Current learning rate: [0.0025]\n",
      "Train Epoch: 2 [87360/436800 (20%)]\t\tLoss: 0.054923\n",
      "Train Epoch: 2 [174720/436800 (40%)]\t\tLoss: 0.052338\n",
      "Train Epoch: 2 [262080/436800 (60%)]\t\tLoss: 0.049100\n",
      "Train Epoch: 2 [349440/436800 (80%)]\t\tLoss: 0.050131\n",
      "Train Epoch: 2 [436800/436800 (100%)]\t\tLoss: 0.050604\n",
      "Train Epoch: 2 Average Loss: 0.051419\n",
      "\n",
      "The loss after 3 epochs was 0.0251 \n",
      "\n",
      "Current learning rate: [0.00125]\n",
      "Train Epoch: 3 [87360/436800 (20%)]\t\tLoss: 0.046582\n",
      "Train Epoch: 3 [174720/436800 (40%)]\t\tLoss: 0.043614\n",
      "Train Epoch: 3 [262080/436800 (60%)]\t\tLoss: 0.044074\n",
      "Train Epoch: 3 [349440/436800 (80%)]\t\tLoss: 0.040993\n",
      "Train Epoch: 3 [436800/436800 (100%)]\t\tLoss: 0.040907\n",
      "Train Epoch: 3 Average Loss: 0.043234\n",
      "\n",
      "The loss after 4 epochs was 0.0222 \n",
      "\n",
      "Current learning rate: [0.000625]\n",
      "Train Epoch: 4 [87360/436800 (20%)]\t\tLoss: 0.039831\n",
      "Train Epoch: 4 [174720/436800 (40%)]\t\tLoss: 0.039088\n",
      "Train Epoch: 4 [262080/436800 (60%)]\t\tLoss: 0.038295\n",
      "Train Epoch: 4 [349440/436800 (80%)]\t\tLoss: 0.038737\n",
      "Train Epoch: 4 [436800/436800 (100%)]\t\tLoss: 0.039050\n",
      "Train Epoch: 4 Average Loss: 0.039000\n",
      "\n",
      "The loss after 5 epochs was 0.0221 \n",
      "\n",
      "--------------------------------[MyConNet4_9 train end]---------------------------------\n",
      "-------------------------------[MyConNet4_10 train start]--------------------------------\n",
      "Current learning rate: [0.01]\n",
      "Train Epoch: 0 [87360/436800 (20%)]\t\tLoss: 0.589484\n",
      "Train Epoch: 0 [174720/436800 (40%)]\t\tLoss: 0.186284\n",
      "Train Epoch: 0 [262080/436800 (60%)]\t\tLoss: 0.133255\n",
      "Train Epoch: 0 [349440/436800 (80%)]\t\tLoss: 0.109821\n",
      "Train Epoch: 0 [436800/436800 (100%)]\t\tLoss: 0.097238\n",
      "Train Epoch: 0 Average Loss: 0.223216\n",
      "\n",
      "The loss after 1 epochs was 0.0371 \n",
      "\n",
      "Current learning rate: [0.005]\n",
      "Train Epoch: 1 [87360/436800 (20%)]\t\tLoss: 0.076002\n",
      "Train Epoch: 1 [174720/436800 (40%)]\t\tLoss: 0.070051\n",
      "Train Epoch: 1 [262080/436800 (60%)]\t\tLoss: 0.066049\n",
      "Train Epoch: 1 [349440/436800 (80%)]\t\tLoss: 0.066410\n",
      "Train Epoch: 1 [436800/436800 (100%)]\t\tLoss: 0.063944\n",
      "Train Epoch: 1 Average Loss: 0.068491\n",
      "\n",
      "The loss after 2 epochs was 0.0281 \n",
      "\n",
      "Current learning rate: [0.0025]\n",
      "Train Epoch: 2 [87360/436800 (20%)]\t\tLoss: 0.055665\n",
      "Train Epoch: 2 [174720/436800 (40%)]\t\tLoss: 0.049511\n",
      "Train Epoch: 2 [262080/436800 (60%)]\t\tLoss: 0.049833\n",
      "Train Epoch: 2 [349440/436800 (80%)]\t\tLoss: 0.048534\n",
      "Train Epoch: 2 [436800/436800 (100%)]\t\tLoss: 0.049587\n",
      "Train Epoch: 2 Average Loss: 0.050626\n",
      "\n",
      "The loss after 3 epochs was 0.0236 \n",
      "\n",
      "Current learning rate: [0.00125]\n",
      "Train Epoch: 3 [87360/436800 (20%)]\t\tLoss: 0.044384\n",
      "Train Epoch: 3 [174720/436800 (40%)]\t\tLoss: 0.042534\n",
      "Train Epoch: 3 [262080/436800 (60%)]\t\tLoss: 0.042792\n",
      "Train Epoch: 3 [349440/436800 (80%)]\t\tLoss: 0.041119\n",
      "Train Epoch: 3 [436800/436800 (100%)]\t\tLoss: 0.041422\n",
      "Train Epoch: 3 Average Loss: 0.042450\n",
      "\n",
      "The loss after 4 epochs was 0.0212 \n",
      "\n",
      "Current learning rate: [0.000625]\n",
      "Train Epoch: 4 [87360/436800 (20%)]\t\tLoss: 0.038932\n",
      "Train Epoch: 4 [174720/436800 (40%)]\t\tLoss: 0.038264\n",
      "Train Epoch: 4 [262080/436800 (60%)]\t\tLoss: 0.039162\n",
      "Train Epoch: 4 [349440/436800 (80%)]\t\tLoss: 0.037316\n",
      "Train Epoch: 4 [436800/436800 (100%)]\t\tLoss: 0.038830\n",
      "Train Epoch: 4 Average Loss: 0.038501\n",
      "\n",
      "The loss after 5 epochs was 0.0214\n",
      "The loss had increased since the last checkpoint, aborting training! \n",
      "\n",
      "--------------------------------[MyConNet4_10 train end]---------------------------------\n"
     ]
    }
   ],
   "source": [
    "for i in range(0, ensemble_size):\n",
    "    print(\"-------------------------------[MyConNet4_{} train start]--------------------------------\".format(i))\n",
    "    model = MyConNet4()\n",
    "    loss_function = torch.nn.CrossEntropyLoss()\n",
    "    optimizer = torch.optim.SGD(model.parameters(), lr=0.01, momentum=0.5)\n",
    "    #optimizer = torch.optim.Adam(model.parameters(), lr=0.005)\n",
    "    lr_scheduler = torch.optim.lr_scheduler.ExponentialLR(optimizer, 0.5)\n",
    "    trainer = MyTrainer(model, optimizer, loss_function, lr_scheduler)\n",
    "\n",
    "    if torch.cuda.is_available():\n",
    "        model = model.cuda()\n",
    "        loss_function = loss_function.cuda()\n",
    "\n",
    "    trainer.fit(train_loader, dev_loader, epochs=5, eval_every=1, sub_epoch_logs=True, sub_epoch_percentile=0.05)\n",
    "\n",
    "    torch.save(model.state_dict(), \"models/MyConNet4_\" + str(i) + \".pt\")\n",
    "    print(\"--------------------------------[MyConNet4_{} train end]---------------------------------\".format(i))"
   ],
   "metadata": {
    "collapsed": false
   }
  },
  {
   "cell_type": "markdown",
   "source": [
    "# Make predictions on the test set"
   ],
   "metadata": {
    "collapsed": false
   }
  },
  {
   "cell_type": "code",
   "execution_count": 21,
   "outputs": [],
   "source": [
    "model_predictions = []\n",
    "\n",
    "def make_predictions(eval_model, data_loader):\n",
    "    eval_model.eval()\n",
    "    if torch.cuda.is_available():\n",
    "        eval_model = eval_model.cuda()\n",
    "    test_predictions = torch.LongTensor().cuda()\n",
    "\n",
    "    for batch_idx, data in enumerate(data_loader):\n",
    "        if torch.cuda.is_available():\n",
    "            data = data.cuda()\n",
    "\n",
    "        output = eval_model(data)\n",
    "        predictions = torch.max(output, dim=1)[1]\n",
    "        test_predictions = torch.cat((test_predictions, predictions), dim=0)\n",
    "\n",
    "    return np.asarray(test_predictions.cpu())\n",
    "\n",
    "for i in range(0, ensemble_size):\n",
    "    model = MyConNet4()\n",
    "    model.load_state_dict(torch.load(\"models/MyConNet4_\" + str(i) + \".pt\"))\n",
    "    model_predictions.append(make_predictions(model, test_loader))"
   ],
   "metadata": {
    "collapsed": false
   }
  },
  {
   "cell_type": "code",
   "execution_count": 22,
   "outputs": [
    {
     "data": {
      "text/plain": "array([[2, 2, 2, ..., 2, 2, 2],\n       [0, 0, 0, ..., 0, 0, 0],\n       [9, 9, 9, ..., 9, 9, 9],\n       ...,\n       [3, 3, 3, ..., 3, 3, 3],\n       [9, 9, 9, ..., 9, 9, 9],\n       [2, 2, 2, ..., 2, 2, 2]], dtype=int64)"
     },
     "execution_count": 22,
     "metadata": {},
     "output_type": "execute_result"
    }
   ],
   "source": [
    "np.asarray(model_predictions).T"
   ],
   "metadata": {
    "collapsed": false
   }
  },
  {
   "cell_type": "code",
   "execution_count": 23,
   "outputs": [
    {
     "data": {
      "text/plain": "       ImageId  Label\n0            1      2\n1            2      0\n2            3      9\n3            4      0\n4            5      3\n...        ...    ...\n27995    27996      9\n27996    27997      7\n27997    27998      3\n27998    27999      9\n27999    28000      2\n\n[28000 rows x 2 columns]",
      "text/html": "<div>\n<style scoped>\n    .dataframe tbody tr th:only-of-type {\n        vertical-align: middle;\n    }\n\n    .dataframe tbody tr th {\n        vertical-align: top;\n    }\n\n    .dataframe thead th {\n        text-align: right;\n    }\n</style>\n<table border=\"1\" class=\"dataframe\">\n  <thead>\n    <tr style=\"text-align: right;\">\n      <th></th>\n      <th>ImageId</th>\n      <th>Label</th>\n    </tr>\n  </thead>\n  <tbody>\n    <tr>\n      <th>0</th>\n      <td>1</td>\n      <td>2</td>\n    </tr>\n    <tr>\n      <th>1</th>\n      <td>2</td>\n      <td>0</td>\n    </tr>\n    <tr>\n      <th>2</th>\n      <td>3</td>\n      <td>9</td>\n    </tr>\n    <tr>\n      <th>3</th>\n      <td>4</td>\n      <td>0</td>\n    </tr>\n    <tr>\n      <th>4</th>\n      <td>5</td>\n      <td>3</td>\n    </tr>\n    <tr>\n      <th>...</th>\n      <td>...</td>\n      <td>...</td>\n    </tr>\n    <tr>\n      <th>27995</th>\n      <td>27996</td>\n      <td>9</td>\n    </tr>\n    <tr>\n      <th>27996</th>\n      <td>27997</td>\n      <td>7</td>\n    </tr>\n    <tr>\n      <th>27997</th>\n      <td>27998</td>\n      <td>3</td>\n    </tr>\n    <tr>\n      <th>27998</th>\n      <td>27999</td>\n      <td>9</td>\n    </tr>\n    <tr>\n      <th>27999</th>\n      <td>28000</td>\n      <td>2</td>\n    </tr>\n  </tbody>\n</table>\n<p>28000 rows × 2 columns</p>\n</div>"
     },
     "execution_count": 23,
     "metadata": {},
     "output_type": "execute_result"
    }
   ],
   "source": [
    "finale_predictions = np.apply_along_axis(lambda x: np.bincount(x).argmax(), axis=0, arr=np.asarray(model_predictions))\n",
    "submissions = pd.DataFrame({\"ImageId\": list(range(1,len(finale_predictions.squeeze())+1)),\"Label\": finale_predictions})\n",
    "submissions"
   ],
   "metadata": {
    "collapsed": false
   }
  },
  {
   "cell_type": "code",
   "execution_count": 24,
   "outputs": [],
   "source": [
    "pd.DataFrame(submissions).to_csv(\"submission.csv\", index=False, header=True)"
   ],
   "metadata": {
    "collapsed": false
   }
  },
  {
   "cell_type": "code",
   "execution_count": 24,
   "outputs": [],
   "source": [],
   "metadata": {
    "collapsed": false
   }
  }
 ],
 "metadata": {
  "kernelspec": {
   "display_name": "Python 3",
   "language": "python",
   "name": "python3"
  },
  "language_info": {
   "codemirror_mode": {
    "name": "ipython",
    "version": 2
   },
   "file_extension": ".py",
   "mimetype": "text/x-python",
   "name": "python",
   "nbconvert_exporter": "python",
   "pygments_lexer": "ipython2",
   "version": "2.7.6"
  }
 },
 "nbformat": 4,
 "nbformat_minor": 0
}
